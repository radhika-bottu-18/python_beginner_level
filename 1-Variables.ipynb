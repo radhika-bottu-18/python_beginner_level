{
 "cells": [
  {
   "cell_type": "code",
   "execution_count": 1,
   "id": "15689e2b-ffd0-4869-80bf-c668a76f9e58",
   "metadata": {},
   "outputs": [
    {
     "data": {
      "text/plain": [
       "15"
      ]
     },
     "execution_count": 1,
     "metadata": {},
     "output_type": "execute_result"
    }
   ],
   "source": [
    "10 + 5"
   ]
  },
  {
   "cell_type": "code",
   "execution_count": 3,
   "id": "57052fc0-b424-4e96-88b8-674720538d00",
   "metadata": {},
   "outputs": [
    {
     "data": {
      "text/plain": [
       "5"
      ]
     },
     "execution_count": 3,
     "metadata": {},
     "output_type": "execute_result"
    }
   ],
   "source": [
    "10 - 5"
   ]
  },
  {
   "cell_type": "code",
   "execution_count": 5,
   "id": "8a9876ac-a636-4731-a940-e87d6b5dd2c0",
   "metadata": {},
   "outputs": [
    {
     "data": {
      "text/plain": [
       "6"
      ]
     },
     "execution_count": 5,
     "metadata": {},
     "output_type": "execute_result"
    }
   ],
   "source": [
    "2 * 3"
   ]
  },
  {
   "cell_type": "code",
   "execution_count": 7,
   "id": "d21fc20a-c679-4808-826c-bb7c3a1c79c8",
   "metadata": {},
   "outputs": [
    {
     "data": {
      "text/plain": [
       "16"
      ]
     },
     "execution_count": 7,
     "metadata": {},
     "output_type": "execute_result"
    }
   ],
   "source": [
    "2**4"
   ]
  },
  {
   "cell_type": "code",
   "execution_count": 9,
   "id": "6346dc7c-c37a-4385-b8c4-b671e9f0ec59",
   "metadata": {},
   "outputs": [
    {
     "data": {
      "text/plain": [
       "9"
      ]
     },
     "execution_count": 9,
     "metadata": {},
     "output_type": "execute_result"
    }
   ],
   "source": [
    "3*3"
   ]
  },
  {
   "cell_type": "code",
   "execution_count": 11,
   "id": "d867cfb7-572e-4013-829a-768b0ac49e69",
   "metadata": {},
   "outputs": [
    {
     "data": {
      "text/plain": [
       "2.0"
      ]
     },
     "execution_count": 11,
     "metadata": {},
     "output_type": "execute_result"
    }
   ],
   "source": [
    "10/5"
   ]
  },
  {
   "cell_type": "code",
   "execution_count": 27,
   "id": "07fa6c9c-d3ae-479a-9881-525e2af21847",
   "metadata": {},
   "outputs": [
    {
     "data": {
      "text/plain": [
       "2"
      ]
     },
     "execution_count": 27,
     "metadata": {},
     "output_type": "execute_result"
    }
   ],
   "source": [
    "10 // 5"
   ]
  },
  {
   "cell_type": "code",
   "execution_count": 21,
   "id": "a42258d3-5676-4d72-a704-d05fe193c032",
   "metadata": {},
   "outputs": [
    {
     "data": {
      "text/plain": [
       "30"
      ]
     },
     "execution_count": 21,
     "metadata": {},
     "output_type": "execute_result"
    }
   ],
   "source": [
    "(10 + 5) * 2"
   ]
  },
  {
   "cell_type": "code",
   "execution_count": 33,
   "id": "20f56e92-c2e0-49f5-913e-ce9f70c48721",
   "metadata": {},
   "outputs": [
    {
     "data": {
      "text/plain": [
       "'Radhika Bottu'"
      ]
     },
     "execution_count": 33,
     "metadata": {},
     "output_type": "execute_result"
    }
   ],
   "source": [
    "'Radhika Bottu'"
   ]
  },
  {
   "cell_type": "code",
   "execution_count": 37,
   "id": "41a0c8d1-9dd1-46ee-b09f-6b511e74e2da",
   "metadata": {},
   "outputs": [
    {
     "ename": "SyntaxError",
     "evalue": "unterminated string literal (detected at line 1) (3776990392.py, line 1)",
     "output_type": "error",
     "traceback": [
      "\u001b[1;36m  Cell \u001b[1;32mIn[37], line 1\u001b[1;36m\u001b[0m\n\u001b[1;33m    'Radhika\u001b[0m\n\u001b[1;37m    ^\u001b[0m\n\u001b[1;31mSyntaxError\u001b[0m\u001b[1;31m:\u001b[0m unterminated string literal (detected at line 1)\n"
     ]
    }
   ],
   "source": [
    "'Radhika \n",
    "Bottu'"
   ]
  },
  {
   "cell_type": "code",
   "execution_count": 39,
   "id": "9be168e7-463e-4e39-a063-a1302b1fe386",
   "metadata": {},
   "outputs": [
    {
     "data": {
      "text/plain": [
       "' Radhika \\n   Bottu'"
      ]
     },
     "execution_count": 39,
     "metadata": {},
     "output_type": "execute_result"
    }
   ],
   "source": [
    "''' Radhika \n",
    "   Bottu'''"
   ]
  },
  {
   "cell_type": "code",
   "execution_count": 41,
   "id": "46ba2e2e-eb29-46da-a2f6-579782aea117",
   "metadata": {},
   "outputs": [],
   "source": [
    "a= '''Radhika \n",
    "      Bottu'''"
   ]
  },
  {
   "cell_type": "code",
   "execution_count": 43,
   "id": "59e8d1d3-ac92-4bfb-ae3c-2f5c23a80b01",
   "metadata": {},
   "outputs": [
    {
     "data": {
      "text/plain": [
       "'Radhika \\n      Bottu'"
      ]
     },
     "execution_count": 43,
     "metadata": {},
     "output_type": "execute_result"
    }
   ],
   "source": [
    "a"
   ]
  },
  {
   "cell_type": "code",
   "execution_count": 45,
   "id": "e79fd453-cd00-45b7-a2f9-e0ad5816fbb3",
   "metadata": {},
   "outputs": [
    {
     "data": {
      "text/plain": [
       "'Radhika Bottu'"
      ]
     },
     "execution_count": 45,
     "metadata": {},
     "output_type": "execute_result"
    }
   ],
   "source": [
    "a= '''Radhika Bottu'''\n",
    "a"
   ]
  },
  {
   "cell_type": "code",
   "execution_count": 47,
   "id": "fb8eba4c-b9bc-4fc4-8654-d1534fb20f05",
   "metadata": {},
   "outputs": [
    {
     "data": {
      "text/plain": [
       "'Radhika \\nBottu'"
      ]
     },
     "execution_count": 47,
     "metadata": {},
     "output_type": "execute_result"
    }
   ],
   "source": [
    "a= '''Radhika \n",
    "Bottu'''\n",
    "a"
   ]
  },
  {
   "cell_type": "code",
   "execution_count": 53,
   "id": "f85e1e06-ab80-442b-bb87-b7391f44a54f",
   "metadata": {},
   "outputs": [
    {
     "data": {
      "text/plain": [
       "'Radhika \\n Bottu'"
      ]
     },
     "execution_count": 53,
     "metadata": {},
     "output_type": "execute_result"
    }
   ],
   "source": [
    "a= '''Radhika \n",
    " Bottu'''\n",
    "a"
   ]
  },
  {
   "cell_type": "code",
   "execution_count": null,
   "id": "cbfe02f9-bdd0-44da-8ac7-0ac4c2841277",
   "metadata": {},
   "outputs": [],
   "source": []
  }
 ],
 "metadata": {
  "kernelspec": {
   "display_name": "Python [conda env:base] *",
   "language": "python",
   "name": "conda-base-py"
  },
  "language_info": {
   "codemirror_mode": {
    "name": "ipython",
    "version": 3
   },
   "file_extension": ".py",
   "mimetype": "text/x-python",
   "name": "python",
   "nbconvert_exporter": "python",
   "pygments_lexer": "ipython3",
   "version": "3.12.7"
  }
 },
 "nbformat": 4,
 "nbformat_minor": 5
}
