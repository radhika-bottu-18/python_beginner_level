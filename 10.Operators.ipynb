{
 "cells": [
  {
   "cell_type": "code",
   "execution_count": 1,
   "id": "173d30e0-f7f4-4f7a-9a0b-ed4465952267",
   "metadata": {},
   "outputs": [
    {
     "data": {
      "text/plain": [
       "2"
      ]
     },
     "execution_count": 1,
     "metadata": {},
     "output_type": "execute_result"
    }
   ],
   "source": [
    "1+1"
   ]
  },
  {
   "cell_type": "code",
   "execution_count": 3,
   "id": "db35fa37-841e-4a9f-8115-283c308c7078",
   "metadata": {},
   "outputs": [
    {
     "data": {
      "text/plain": [
       "12"
      ]
     },
     "execution_count": 3,
     "metadata": {},
     "output_type": "execute_result"
    }
   ],
   "source": [
    "3*4"
   ]
  },
  {
   "cell_type": "code",
   "execution_count": 5,
   "id": "181cdd73-9c4e-4e5b-8766-f4d620212ebc",
   "metadata": {},
   "outputs": [
    {
     "data": {
      "text/plain": [
       "2.0"
      ]
     },
     "execution_count": 5,
     "metadata": {},
     "output_type": "execute_result"
    }
   ],
   "source": [
    "8/4"
   ]
  },
  {
   "cell_type": "code",
   "execution_count": 7,
   "id": "fe0cae12-0f11-44b8-9337-155bb4e5b14c",
   "metadata": {},
   "outputs": [
    {
     "data": {
      "text/plain": [
       "2"
      ]
     },
     "execution_count": 7,
     "metadata": {},
     "output_type": "execute_result"
    }
   ],
   "source": [
    "8//4"
   ]
  },
  {
   "cell_type": "code",
   "execution_count": 9,
   "id": "669a5599-7636-47f9-936f-047de141734b",
   "metadata": {},
   "outputs": [
    {
     "data": {
      "text/plain": [
       "15"
      ]
     },
     "execution_count": 9,
     "metadata": {},
     "output_type": "execute_result"
    }
   ],
   "source": [
    "8+7"
   ]
  },
  {
   "cell_type": "code",
   "execution_count": 1,
   "id": "64ad4bea-b52b-4634-849b-9866b8b948ba",
   "metadata": {},
   "outputs": [
    {
     "data": {
      "text/plain": [
       "30"
      ]
     },
     "execution_count": 1,
     "metadata": {},
     "output_type": "execute_result"
    }
   ],
   "source": [
    "5 + 5*5"
   ]
  },
  {
   "cell_type": "code",
   "execution_count": 3,
   "id": "0625e975-bca1-4250-88ed-266a7933d6ec",
   "metadata": {},
   "outputs": [
    {
     "data": {
      "text/plain": [
       "3125"
      ]
     },
     "execution_count": 3,
     "metadata": {},
     "output_type": "execute_result"
    }
   ],
   "source": [
    "5 * 5 * 5 * 5 * 5"
   ]
  },
  {
   "cell_type": "code",
   "execution_count": 5,
   "id": "80c75b11-b877-4c3c-b455-71e3063e318b",
   "metadata": {},
   "outputs": [
    {
     "data": {
      "text/plain": [
       "3125"
      ]
     },
     "execution_count": 5,
     "metadata": {},
     "output_type": "execute_result"
    }
   ],
   "source": [
    "5 ** 5"
   ]
  },
  {
   "cell_type": "code",
   "execution_count": 7,
   "id": "3ca60e3e-8ed8-4869-b086-f9946626d5b3",
   "metadata": {},
   "outputs": [
    {
     "data": {
      "text/plain": [
       "5.0"
      ]
     },
     "execution_count": 7,
     "metadata": {},
     "output_type": "execute_result"
    }
   ],
   "source": [
    "15 / 3 "
   ]
  },
  {
   "cell_type": "code",
   "execution_count": 15,
   "id": "e60a0d58-84f7-4331-87a9-c75fcc8aa805",
   "metadata": {},
   "outputs": [
    {
     "data": {
      "text/plain": [
       "5"
      ]
     },
     "execution_count": 15,
     "metadata": {},
     "output_type": "execute_result"
    }
   ],
   "source": [
    "15 // 3"
   ]
  },
  {
   "cell_type": "code",
   "execution_count": 19,
   "id": "03c42a6a-57de-4247-bbc5-f0e2f67cabd3",
   "metadata": {},
   "outputs": [
    {
     "data": {
      "text/plain": [
       "0"
      ]
     },
     "execution_count": 19,
     "metadata": {},
     "output_type": "execute_result"
    }
   ],
   "source": [
    "10 % 2 "
   ]
  },
  {
   "cell_type": "code",
   "execution_count": 21,
   "id": "e7d63319-c006-4fe1-bb45-4411f1468069",
   "metadata": {},
   "outputs": [
    {
     "data": {
      "text/plain": [
       "2.5"
      ]
     },
     "execution_count": 21,
     "metadata": {},
     "output_type": "execute_result"
    }
   ],
   "source": [
    "10 / 4"
   ]
  },
  {
   "cell_type": "code",
   "execution_count": 23,
   "id": "ac00b8f1-a022-4c34-8e53-7b76583a7163",
   "metadata": {},
   "outputs": [
    {
     "data": {
      "text/plain": [
       "2"
      ]
     },
     "execution_count": 23,
     "metadata": {},
     "output_type": "execute_result"
    }
   ],
   "source": [
    "10 % 4"
   ]
  },
  {
   "cell_type": "code",
   "execution_count": 25,
   "id": "e0dc57c9-b3cf-4920-abb4-f0d3942cec9c",
   "metadata": {},
   "outputs": [
    {
     "ename": "SyntaxError",
     "evalue": "invalid syntax (1768330815.py, line 1)",
     "output_type": "error",
     "traceback": [
      "\u001b[1;36m  Cell \u001b[1;32mIn[25], line 1\u001b[1;36m\u001b[0m\n\u001b[1;33m    15 %% 2\u001b[0m\n\u001b[1;37m        ^\u001b[0m\n\u001b[1;31mSyntaxError\u001b[0m\u001b[1;31m:\u001b[0m invalid syntax\n"
     ]
    }
   ],
   "source": [
    "15 %% 2"
   ]
  },
  {
   "cell_type": "code",
   "execution_count": 27,
   "id": "71d4ee7e-61fc-4454-abfe-efa0ed6e5f71",
   "metadata": {},
   "outputs": [],
   "source": [
    "a,b,c,d,e = 3, 4.4, 'radhikabottu', 4+6j, [4,5,6]"
   ]
  },
  {
   "cell_type": "code",
   "execution_count": 29,
   "id": "690762b2-4ef9-4650-8203-62ec947c0491",
   "metadata": {},
   "outputs": [
    {
     "data": {
      "text/plain": [
       "[4, 5, 6]"
      ]
     },
     "execution_count": 29,
     "metadata": {},
     "output_type": "execute_result"
    }
   ],
   "source": [
    "e"
   ]
  },
  {
   "cell_type": "code",
   "execution_count": 31,
   "id": "6bbcacd6-1acc-4e5c-b87c-9200a5b1b094",
   "metadata": {},
   "outputs": [
    {
     "data": {
      "text/plain": [
       "str"
      ]
     },
     "execution_count": 31,
     "metadata": {},
     "output_type": "execute_result"
    }
   ],
   "source": [
    "type(c)"
   ]
  },
  {
   "cell_type": "code",
   "execution_count": 33,
   "id": "0bbbbc10-7dad-4c17-9c6e-3d9cf4d71105",
   "metadata": {},
   "outputs": [
    {
     "data": {
      "text/plain": [
       "5"
      ]
     },
     "execution_count": 33,
     "metadata": {},
     "output_type": "execute_result"
    }
   ],
   "source": [
    "a = 2\n",
    "b = 3\n",
    "a + b"
   ]
  },
  {
   "cell_type": "code",
   "execution_count": 35,
   "id": "8897221b-73d6-4670-9459-7eeb98ec69fa",
   "metadata": {},
   "outputs": [
    {
     "ename": "SyntaxError",
     "evalue": "unterminated string literal (detected at line 1) (2706702102.py, line 1)",
     "output_type": "error",
     "traceback": [
      "\u001b[1;36m  Cell \u001b[1;32mIn[35], line 1\u001b[1;36m\u001b[0m\n\u001b[1;33m    print('Please let me know what's going worng!!')\u001b[0m\n\u001b[1;37m                                                  ^\u001b[0m\n\u001b[1;31mSyntaxError\u001b[0m\u001b[1;31m:\u001b[0m unterminated string literal (detected at line 1)\n"
     ]
    }
   ],
   "source": [
    "print('Please let me know what's going worng!!')"
   ]
  },
  {
   "cell_type": "code",
   "execution_count": 37,
   "id": "70cbbd41-0d17-4924-af0f-14d4ced730fe",
   "metadata": {},
   "outputs": [
    {
     "name": "stdout",
     "output_type": "stream",
     "text": [
      "Please let me know what's going worng!!\n"
     ]
    }
   ],
   "source": [
    "print('Please let me know what\\'s going worng!!')"
   ]
  },
  {
   "cell_type": "code",
   "execution_count": 43,
   "id": "e8ff6d37-6517-41f5-92e7-1373da792e58",
   "metadata": {},
   "outputs": [
    {
     "name": "stdout",
     "output_type": "stream",
     "text": [
      "Hello World!!.\n"
     ]
    }
   ],
   "source": [
    "print('Hello World!!.')"
   ]
  },
  {
   "cell_type": "code",
   "execution_count": 39,
   "id": "b16a353a-6dd6-4bb0-8a44-21e6707176df",
   "metadata": {},
   "outputs": [
    {
     "name": "stdout",
     "output_type": "stream",
     "text": [
      "radhika bottu\n"
     ]
    }
   ],
   "source": [
    "print('radhika','bottu')"
   ]
  },
  {
   "cell_type": "code",
   "execution_count": 45,
   "id": "fcc1a341-5621-4643-8df9-a9d9d8e2449e",
   "metadata": {},
   "outputs": [
    {
     "name": "stdout",
     "output_type": "stream",
     "text": [
      "radhikabottu\n"
     ]
    }
   ],
   "source": [
    "print('radhika'+'bottu')"
   ]
  },
  {
   "cell_type": "code",
   "execution_count": 51,
   "id": "97fccc73-7fc5-457b-bd17-f55a29e227b2",
   "metadata": {},
   "outputs": [
    {
     "data": {
      "text/plain": [
       "'HiHiHiHiHi'"
      ]
     },
     "execution_count": 51,
     "metadata": {},
     "output_type": "execute_result"
    }
   ],
   "source": [
    "5 * 'Hi'"
   ]
  },
  {
   "cell_type": "code",
   "execution_count": 53,
   "id": "4d734f7d-21b2-4cb6-b59e-b13d120246c5",
   "metadata": {},
   "outputs": [
    {
     "data": {
      "text/plain": [
       "' Hi Hi Hi Hi Hi'"
      ]
     },
     "execution_count": 53,
     "metadata": {},
     "output_type": "execute_result"
    }
   ],
   "source": [
    "5*' Hi' "
   ]
  },
  {
   "cell_type": "code",
   "execution_count": 57,
   "id": "1e65bd6e-9c43-44c9-8ee1-c31c341c87f8",
   "metadata": {},
   "outputs": [
    {
     "name": "stdout",
     "output_type": "stream",
     "text": [
      "c:\n",
      "it\n"
     ]
    }
   ],
   "source": [
    "print('c:\\nit')"
   ]
  },
  {
   "cell_type": "raw",
   "id": "893aa4bf-19a9-4ce3-9d83-24fd406404c1",
   "metadata": {},
   "source": [
    "print(r'c:\\nit') #raw string"
   ]
  },
  {
   "cell_type": "code",
   "execution_count": 59,
   "id": "0ffe40e6-91bb-4674-b08c-e1184eb19522",
   "metadata": {},
   "outputs": [
    {
     "data": {
      "text/plain": [
       "4"
      ]
     },
     "execution_count": 59,
     "metadata": {},
     "output_type": "execute_result"
    }
   ],
   "source": [
    "x=4\n",
    "x"
   ]
  },
  {
   "cell_type": "code",
   "execution_count": 63,
   "id": "b0ed9e6d-a372-4c28-bd1c-0af01736f531",
   "metadata": {},
   "outputs": [
    {
     "data": {
      "text/plain": [
       "'{\"dataframes\": [], \"user\": \"Sushal\"}{\"dataframes\": [], \"user\": \"Sushal\"}{\"dataframes\": [], \"user\": \"Sushal\"}{\"dataframes\": [], \"user\": \"Sushal\"}'"
      ]
     },
     "execution_count": 63,
     "metadata": {},
     "output_type": "execute_result"
    }
   ],
   "source": [
    "_ * 4"
   ]
  },
  {
   "cell_type": "code",
   "execution_count": 67,
   "id": "7c372e3d-0267-460d-802a-c32ad2380416",
   "metadata": {},
   "outputs": [],
   "source": [
    "name = 'RadhikaBottu'"
   ]
  },
  {
   "cell_type": "code",
   "execution_count": 69,
   "id": "4da4e721-5040-4631-bce9-cde5e200a47c",
   "metadata": {},
   "outputs": [
    {
     "data": {
      "text/plain": [
       "'k'"
      ]
     },
     "execution_count": 69,
     "metadata": {},
     "output_type": "execute_result"
    }
   ],
   "source": [
    "name[5]"
   ]
  },
  {
   "cell_type": "code",
   "execution_count": 71,
   "id": "36dba4a5-4555-4e11-a523-869f6e9d69a5",
   "metadata": {},
   "outputs": [
    {
     "data": {
      "text/plain": [
       "'B'"
      ]
     },
     "execution_count": 71,
     "metadata": {},
     "output_type": "execute_result"
    }
   ],
   "source": [
    "name[-5]"
   ]
  },
  {
   "cell_type": "code",
   "execution_count": 73,
   "id": "c4433d97-ea7f-45f6-bb96-f8603c63923a",
   "metadata": {},
   "outputs": [
    {
     "data": {
      "text/plain": [
       "'adh'"
      ]
     },
     "execution_count": 73,
     "metadata": {},
     "output_type": "execute_result"
    }
   ],
   "source": [
    "name[1:4]"
   ]
  },
  {
   "cell_type": "code",
   "execution_count": 75,
   "id": "0de8c93e-8f62-4165-9131-db7c376c2eb8",
   "metadata": {},
   "outputs": [
    {
     "data": {
      "text/plain": [
       "'RadhikaBottu'"
      ]
     },
     "execution_count": 75,
     "metadata": {},
     "output_type": "execute_result"
    }
   ],
   "source": [
    "name[:] # empty slicing"
   ]
  },
  {
   "cell_type": "code",
   "execution_count": 77,
   "id": "2979506a-95ca-4df9-9e50-b88baca88171",
   "metadata": {},
   "outputs": [],
   "source": [
    "str = 'fine'"
   ]
  },
  {
   "cell_type": "code",
   "execution_count": 79,
   "id": "d91e207a-54d5-496c-a17f-141e1cda8876",
   "metadata": {},
   "outputs": [
    {
     "data": {
      "text/plain": [
       "'ine'"
      ]
     },
     "execution_count": 79,
     "metadata": {},
     "output_type": "execute_result"
    }
   ],
   "source": [
    "str[1:]"
   ]
  },
  {
   "cell_type": "code",
   "execution_count": 81,
   "id": "61a80cdf-3a8c-4c62-959e-d09b703b7974",
   "metadata": {},
   "outputs": [
    {
     "data": {
      "text/plain": [
       "'dine'"
      ]
     },
     "execution_count": 81,
     "metadata": {},
     "output_type": "execute_result"
    }
   ],
   "source": [
    "'d' + str[1:]"
   ]
  },
  {
   "cell_type": "code",
   "execution_count": 83,
   "id": "44ce36dd-df5f-432c-bde5-6e94eb8bfb5c",
   "metadata": {},
   "outputs": [
    {
     "data": {
      "text/plain": [
       "140721826444824"
      ]
     },
     "execution_count": 83,
     "metadata": {},
     "output_type": "execute_result"
    }
   ],
   "source": [
    "a= 100\n",
    "id(a)"
   ]
  },
  {
   "cell_type": "code",
   "execution_count": 85,
   "id": "93799c12-4b56-41d2-98d2-8a464d3e6f7d",
   "metadata": {},
   "outputs": [
    {
     "data": {
      "text/plain": [
       "140721826444824"
      ]
     },
     "execution_count": 85,
     "metadata": {},
     "output_type": "execute_result"
    }
   ],
   "source": [
    "b= 100\n",
    "id(b)"
   ]
  },
  {
   "cell_type": "code",
   "execution_count": 87,
   "id": "8096bf8f-ecaf-4ddb-89de-cd500ef8800c",
   "metadata": {},
   "outputs": [
    {
     "data": {
      "text/plain": [
       "True"
      ]
     },
     "execution_count": 87,
     "metadata": {},
     "output_type": "execute_result"
    }
   ],
   "source": [
    "id(a) == id(b)"
   ]
  },
  {
   "cell_type": "code",
   "execution_count": 89,
   "id": "5b6e96bb-4764-40c7-bdea-5d765d3b05a9",
   "metadata": {},
   "outputs": [
    {
     "data": {
      "text/plain": [
       "140721826441944"
      ]
     },
     "execution_count": 89,
     "metadata": {},
     "output_type": "execute_result"
    }
   ],
   "source": [
    "id(10)"
   ]
  },
  {
   "cell_type": "code",
   "execution_count": 93,
   "id": "bab7edb7-0ce5-4e81-975d-00a57cc0cd8c",
   "metadata": {},
   "outputs": [
    {
     "data": {
      "text/plain": [
       "140721826448024"
      ]
     },
     "execution_count": 93,
     "metadata": {},
     "output_type": "execute_result"
    }
   ],
   "source": [
    "a=200\n",
    "id(a)"
   ]
  },
  {
   "cell_type": "code",
   "execution_count": 95,
   "id": "eb54da9e-3004-4a65-8844-be0bb0f176ae",
   "metadata": {},
   "outputs": [
    {
     "data": {
      "text/plain": [
       "140721826444824"
      ]
     },
     "execution_count": 95,
     "metadata": {},
     "output_type": "execute_result"
    }
   ],
   "source": [
    "id(b)"
   ]
  },
  {
   "cell_type": "code",
   "execution_count": 107,
   "id": "7441b2ab-9af5-4168-9a8a-f721c5f22d8e",
   "metadata": {},
   "outputs": [
    {
     "data": {
      "text/plain": [
       "81"
      ]
     },
     "execution_count": 107,
     "metadata": {},
     "output_type": "execute_result"
    }
   ],
   "source": [
    "x =3\n",
    "y =4\n",
    "x ** y"
   ]
  },
  {
   "cell_type": "code",
   "execution_count": 111,
   "id": "100d0c68-95e3-479d-99fa-0e27b7864b18",
   "metadata": {},
   "outputs": [
    {
     "data": {
      "text/plain": [
       "11"
      ]
     },
     "execution_count": 111,
     "metadata": {},
     "output_type": "execute_result"
    }
   ],
   "source": [
    "x=x+y\n",
    "x"
   ]
  },
  {
   "cell_type": "code",
   "execution_count": 115,
   "id": "49cb827e-6173-4894-8478-543ddf46c492",
   "metadata": {},
   "outputs": [
    {
     "data": {
      "text/plain": [
       "3"
      ]
     },
     "execution_count": 115,
     "metadata": {},
     "output_type": "execute_result"
    }
   ],
   "source": [
    "x =x - y\n",
    "x"
   ]
  },
  {
   "cell_type": "code",
   "execution_count": 119,
   "id": "b243a395-0857-4732-93f1-deb41ab9b048",
   "metadata": {},
   "outputs": [
    {
     "data": {
      "text/plain": [
       "-5"
      ]
     },
     "execution_count": 119,
     "metadata": {},
     "output_type": "execute_result"
    }
   ],
   "source": [
    "x-=y\n",
    "x"
   ]
  },
  {
   "cell_type": "code",
   "execution_count": 121,
   "id": "cbff7dd5-59e4-4b7b-8628-ed4db6385de8",
   "metadata": {},
   "outputs": [],
   "source": [
    "x+=4"
   ]
  },
  {
   "cell_type": "code",
   "execution_count": 123,
   "id": "6f14c578-790c-41c7-8d2e-25b67566a378",
   "metadata": {},
   "outputs": [
    {
     "data": {
      "text/plain": [
       "-1"
      ]
     },
     "execution_count": 123,
     "metadata": {},
     "output_type": "execute_result"
    }
   ],
   "source": [
    "x"
   ]
  },
  {
   "cell_type": "code",
   "execution_count": 125,
   "id": "8c786ae7-dd56-421a-90a1-ae65a9e7c793",
   "metadata": {},
   "outputs": [],
   "source": [
    "x=x+4"
   ]
  },
  {
   "cell_type": "code",
   "execution_count": 127,
   "id": "a91de033-d936-48a3-b683-9a4438100b35",
   "metadata": {},
   "outputs": [
    {
     "data": {
      "text/plain": [
       "3"
      ]
     },
     "execution_count": 127,
     "metadata": {},
     "output_type": "execute_result"
    }
   ],
   "source": [
    "x"
   ]
  },
  {
   "cell_type": "code",
   "execution_count": 129,
   "id": "f1eb8b53-7ed6-403f-b676-61c4050bfb30",
   "metadata": {},
   "outputs": [],
   "source": [
    "a= 20\n",
    "b= 30\n",
    "a =a+b"
   ]
  },
  {
   "cell_type": "code",
   "execution_count": 131,
   "id": "7bcfa734-6bee-46a9-a3dd-2dfdc2fb6431",
   "metadata": {},
   "outputs": [
    {
     "data": {
      "text/plain": [
       "50"
      ]
     },
     "execution_count": 131,
     "metadata": {},
     "output_type": "execute_result"
    }
   ],
   "source": [
    "a"
   ]
  },
  {
   "cell_type": "code",
   "execution_count": 133,
   "id": "30fc18ca-bf24-43be-8ede-9821fd6741f0",
   "metadata": {},
   "outputs": [
    {
     "data": {
      "text/plain": [
       "True"
      ]
     },
     "execution_count": 133,
     "metadata": {},
     "output_type": "execute_result"
    }
   ],
   "source": [
    "a>b"
   ]
  },
  {
   "cell_type": "code",
   "execution_count": 135,
   "id": "1039a46d-ee06-45cc-b75a-ed4e846932d4",
   "metadata": {},
   "outputs": [
    {
     "data": {
      "text/plain": [
       "True"
      ]
     },
     "execution_count": 135,
     "metadata": {},
     "output_type": "execute_result"
    }
   ],
   "source": [
    "a != b"
   ]
  },
  {
   "cell_type": "code",
   "execution_count": 137,
   "id": "d09b512d-3c5a-4f7f-bceb-cdd7b11cdf0e",
   "metadata": {},
   "outputs": [
    {
     "data": {
      "text/plain": [
       "False"
      ]
     },
     "execution_count": 137,
     "metadata": {},
     "output_type": "execute_result"
    }
   ],
   "source": [
    "a == b"
   ]
  },
  {
   "cell_type": "code",
   "execution_count": 139,
   "id": "e1272c57-e705-410c-af00-ef0c0304c8ca",
   "metadata": {},
   "outputs": [
    {
     "data": {
      "text/plain": [
       "True"
      ]
     },
     "execution_count": 139,
     "metadata": {},
     "output_type": "execute_result"
    }
   ],
   "source": [
    "a >= b"
   ]
  },
  {
   "cell_type": "code",
   "execution_count": 141,
   "id": "c7c58090-3b03-4d91-90d2-38223eb310a4",
   "metadata": {},
   "outputs": [
    {
     "data": {
      "text/plain": [
       "False"
      ]
     },
     "execution_count": 141,
     "metadata": {},
     "output_type": "execute_result"
    }
   ],
   "source": [
    "a <= b"
   ]
  },
  {
   "cell_type": "code",
   "execution_count": 149,
   "id": "fd28abe0-8b57-414d-9d6d-b28da47beea5",
   "metadata": {},
   "outputs": [
    {
     "data": {
      "text/plain": [
       "False"
      ]
     },
     "execution_count": 149,
     "metadata": {},
     "output_type": "execute_result"
    }
   ],
   "source": [
    "x = a <= b\n",
    "x"
   ]
  },
  {
   "cell_type": "code",
   "execution_count": 151,
   "id": "6985badb-1b4b-46a5-826c-79bd20457e83",
   "metadata": {},
   "outputs": [
    {
     "data": {
      "text/plain": [
       "False"
      ]
     },
     "execution_count": 151,
     "metadata": {},
     "output_type": "execute_result"
    }
   ],
   "source": [
    "a < 8 and b > 10"
   ]
  },
  {
   "cell_type": "code",
   "execution_count": 155,
   "id": "a151ed48-ad8f-4254-b1b7-14aacfdc96fd",
   "metadata": {},
   "outputs": [
    {
     "data": {
      "text/plain": [
       "True"
      ]
     },
     "execution_count": 155,
     "metadata": {},
     "output_type": "execute_result"
    }
   ],
   "source": [
    "s = not x\n",
    "s"
   ]
  },
  {
   "cell_type": "code",
   "execution_count": 157,
   "id": "67b645ee-e3ec-4f45-baa3-58251397dfd4",
   "metadata": {},
   "outputs": [
    {
     "data": {
      "text/plain": [
       "True"
      ]
     },
     "execution_count": 157,
     "metadata": {},
     "output_type": "execute_result"
    }
   ],
   "source": [
    "not False"
   ]
  },
  {
   "cell_type": "code",
   "execution_count": 159,
   "id": "3239a31d-2ffd-407c-ac6a-aa3942301329",
   "metadata": {},
   "outputs": [
    {
     "data": {
      "text/plain": [
       "True"
      ]
     },
     "execution_count": 159,
     "metadata": {},
     "output_type": "execute_result"
    }
   ],
   "source": [
    "not None"
   ]
  },
  {
   "cell_type": "code",
   "execution_count": null,
   "id": "1652f018-5084-4086-b49c-7f996d95c252",
   "metadata": {},
   "outputs": [],
   "source": []
  },
  {
   "cell_type": "code",
   "execution_count": null,
   "id": "a29786d0-47f4-4022-8d94-bffbf8a2a275",
   "metadata": {},
   "outputs": [],
   "source": []
  },
  {
   "cell_type": "code",
   "execution_count": null,
   "id": "4229aea2-6723-4d19-8b3c-f46c9746bf4a",
   "metadata": {},
   "outputs": [],
   "source": []
  },
  {
   "cell_type": "code",
   "execution_count": null,
   "id": "d8389ae4-ec0f-4669-8964-0eb4f9d17d90",
   "metadata": {},
   "outputs": [],
   "source": []
  },
  {
   "cell_type": "code",
   "execution_count": null,
   "id": "c9237865-b50e-4d8e-819f-e6cd6a7f7425",
   "metadata": {},
   "outputs": [],
   "source": []
  },
  {
   "cell_type": "code",
   "execution_count": null,
   "id": "2241c411-f8ee-487f-9be3-e5e080244131",
   "metadata": {},
   "outputs": [],
   "source": []
  },
  {
   "cell_type": "code",
   "execution_count": null,
   "id": "35ff0b87-1b4d-4d9b-baea-043365f28076",
   "metadata": {},
   "outputs": [],
   "source": []
  },
  {
   "cell_type": "code",
   "execution_count": null,
   "id": "f0b416fc-ff2c-4ce3-ab2c-97815888ad9b",
   "metadata": {},
   "outputs": [],
   "source": []
  },
  {
   "cell_type": "code",
   "execution_count": null,
   "id": "f98f53a6-581e-4673-8b31-4a28f713fb2c",
   "metadata": {},
   "outputs": [],
   "source": []
  },
  {
   "cell_type": "code",
   "execution_count": null,
   "id": "cb68c002-8d63-4764-ac2d-96db10006fbe",
   "metadata": {},
   "outputs": [],
   "source": []
  },
  {
   "cell_type": "code",
   "execution_count": null,
   "id": "e1f77f7e-6429-4e83-aa90-e04a33c90229",
   "metadata": {},
   "outputs": [],
   "source": []
  },
  {
   "cell_type": "code",
   "execution_count": null,
   "id": "4367fda6-8ed2-43f5-837f-3e48242ca153",
   "metadata": {},
   "outputs": [],
   "source": []
  },
  {
   "cell_type": "code",
   "execution_count": null,
   "id": "8872135b-04f6-4038-b437-5d399bd85524",
   "metadata": {},
   "outputs": [],
   "source": []
  }
 ],
 "metadata": {
  "kernelspec": {
   "display_name": "Python [conda env:base] *",
   "language": "python",
   "name": "conda-base-py"
  },
  "language_info": {
   "codemirror_mode": {
    "name": "ipython",
    "version": 3
   },
   "file_extension": ".py",
   "mimetype": "text/x-python",
   "name": "python",
   "nbconvert_exporter": "python",
   "pygments_lexer": "ipython3",
   "version": "3.12.7"
  }
 },
 "nbformat": 4,
 "nbformat_minor": 5
}
