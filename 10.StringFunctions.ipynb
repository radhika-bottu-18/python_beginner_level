{
 "cells": [
  {
   "cell_type": "code",
   "execution_count": 13,
   "id": "440310dc-52a4-443b-920c-9b2285a0a875",
   "metadata": {},
   "outputs": [
    {
     "data": {
      "text/plain": [
       "'Good Day'"
      ]
     },
     "execution_count": 13,
     "metadata": {},
     "output_type": "execute_result"
    }
   ],
   "source": [
    "str= 'Good Day'\n",
    "str"
   ]
  },
  {
   "cell_type": "code",
   "execution_count": 15,
   "id": "c65287fc-2271-48c6-b01f-2d065cc4d567",
   "metadata": {},
   "outputs": [
    {
     "data": {
      "text/plain": [
       "8"
      ]
     },
     "execution_count": 15,
     "metadata": {},
     "output_type": "execute_result"
    }
   ],
   "source": [
    "len(str) # 1.len() function to return the length of a string"
   ]
  },
  {
   "cell_type": "code",
   "execution_count": 36,
   "id": "faee7112-0cd9-4311-95a0-93f6b4784c8d",
   "metadata": {},
   "outputs": [
    {
     "data": {
      "text/plain": [
       "'Hello world'"
      ]
     },
     "execution_count": 36,
     "metadata": {},
     "output_type": "execute_result"
    }
   ],
   "source": [
    "## 2.capitilize() function returns the string in capitilized of the first word and second word starts with lowercase.\n",
    "str1 = 'hello world'\n",
    "str1.capitalize()  "
   ]
  },
  {
   "cell_type": "code",
   "execution_count": 6,
   "id": "a7e21a6e-042e-4610-bdd2-d256d30e18a2",
   "metadata": {},
   "outputs": [
    {
     "data": {
      "text/plain": [
       "2"
      ]
     },
     "execution_count": 6,
     "metadata": {},
     "output_type": "execute_result"
    }
   ],
   "source": [
    "##3.count(elem) - retruns the number of occurances of the elemnet in the string.\n",
    "str1.count('o')"
   ]
  },
  {
   "cell_type": "code",
   "execution_count": 10,
   "id": "10a38aa2-5e91-4de4-a97c-fbdbfe9c0bb3",
   "metadata": {},
   "outputs": [
    {
     "data": {
      "text/plain": [
       "True"
      ]
     },
     "execution_count": 10,
     "metadata": {},
     "output_type": "execute_result"
    }
   ],
   "source": [
    "##4.endswith(elem) -- checks if the function ends with specific character.\n",
    "str1.endswith('ld') "
   ]
  },
  {
   "cell_type": "code",
   "execution_count": 14,
   "id": "0e093b55-161c-447c-9e46-48eb7140ab32",
   "metadata": {},
   "outputs": [
    {
     "data": {
      "text/plain": [
       "'hello world'"
      ]
     },
     "execution_count": 14,
     "metadata": {},
     "output_type": "execute_result"
    }
   ],
   "source": [
    "##5.expandtabs() - Replaces tab character with the spaces default tab size is .\n",
    "str1.expandtabs()"
   ]
  },
  {
   "cell_type": "code",
   "execution_count": 38,
   "id": "6eb5c314-5413-476f-bc35-5a4d926e0c6e",
   "metadata": {},
   "outputs": [
    {
     "data": {
      "text/plain": [
       "'Thirty    days      of        python    challenge'"
      ]
     },
     "execution_count": 38,
     "metadata": {},
     "output_type": "execute_result"
    }
   ],
   "source": [
    "str2 = 'Thirty\\tdays\\tof\\tpython\\tchallenge'\n",
    "str2.expandtabs(10)"
   ]
  },
  {
   "cell_type": "code",
   "execution_count": 52,
   "id": "4c1b88f9-d9ec-4143-91e9-8743a61ac169",
   "metadata": {},
   "outputs": [
    {
     "data": {
      "text/plain": [
       "7"
      ]
     },
     "execution_count": 52,
     "metadata": {},
     "output_type": "execute_result"
    }
   ],
   "source": [
    "##6 find(elem) retruns the index of the elem in the str\n",
    "str1.find('o')\n",
    "str1.find('or')"
   ]
  },
  {
   "cell_type": "code",
   "execution_count": 42,
   "id": "eed08e59-8882-407a-a8d9-1d96fdf753be",
   "metadata": {},
   "outputs": [
    {
     "name": "stdout",
     "output_type": "stream",
     "text": [
      "My name is Radhika Bottu and stays in city Hyderabad\n"
     ]
    }
   ],
   "source": [
    "##7 format() - formats the strings into nicer output. \n",
    "first_name = 'Radhika'\n",
    "last_name='Bottu'\n",
    "city = 'Hyderabad'\n",
    "full_name = 'My name is {} {} and stays in city {}'.format(first_name,last_name,city)\n",
    "print(full_name)"
   ]
  },
  {
   "cell_type": "code",
   "execution_count": 74,
   "id": "8af9a744-feb3-4376-9dc5-5c915fcd0021",
   "metadata": {},
   "outputs": [
    {
     "data": {
      "text/plain": [
       "7"
      ]
     },
     "execution_count": 74,
     "metadata": {},
     "output_type": "execute_result"
    }
   ],
   "source": [
    "##8. index(substr) - Returns the index of the substring\n",
    "str1.index('or')"
   ]
  },
  {
   "cell_type": "code",
   "execution_count": 60,
   "id": "4a4a5de7-1038-417e-b152-b653a0c35245",
   "metadata": {},
   "outputs": [
    {
     "name": "stdout",
     "output_type": "stream",
     "text": [
      "False\n",
      "True\n",
      "False\n"
     ]
    }
   ],
   "source": [
    "##9 isalnum() ---check if the string haso nly alpha-numberic characters\n",
    "print(str1.isalnum())\n",
    "print('Helo9'.isalnum())\n",
    "print('abc3456^$'.isalnum())"
   ]
  },
  {
   "cell_type": "code",
   "execution_count": 76,
   "id": "1e91675f-1faf-49d1-97fb-ed2d12ed6d2c",
   "metadata": {},
   "outputs": [
    {
     "name": "stdout",
     "output_type": "stream",
     "text": [
      "False\n",
      "True\n"
     ]
    }
   ],
   "source": [
    "##10  isalpha() - checks of the string is only alphabets.\n",
    "str ='Heloo'\n",
    "print(str1.isalpha())\n",
    "print(str.isalpha())"
   ]
  },
  {
   "cell_type": "code",
   "execution_count": 82,
   "id": "44e27a78-0d44-466a-9c1e-4216488e7ec9",
   "metadata": {},
   "outputs": [
    {
     "name": "stdout",
     "output_type": "stream",
     "text": [
      "False\n",
      "True\n",
      "False\n"
     ]
    }
   ],
   "source": [
    "##11. isdecimal() - checks if the str is decimal characters.\n",
    "print(str1.isdecimal())\n",
    "print('23'.isdecimal())\n",
    "print('23.5'.isdecimal())"
   ]
  },
  {
   "cell_type": "code",
   "execution_count": 84,
   "id": "f52c6fc2-66a3-4004-8024-80a2145c2549",
   "metadata": {
    "collapsed": true,
    "jupyter": {
     "outputs_hidden": true
    }
   },
   "outputs": [
    {
     "name": "stdout",
     "output_type": "stream",
     "text": [
      "False\n",
      "True\n",
      "False\n"
     ]
    }
   ],
   "source": [
    "#12 -- isdigit() - check if the str is digits only\n",
    "print(str1.isdigit())\n",
    "print('23'.isdigit())\n",
    "print('23.5'.isdigit())"
   ]
  },
  {
   "cell_type": "code",
   "execution_count": 100,
   "id": "5d0d87c4-a549-4f75-88da-fa46801185f5",
   "metadata": {},
   "outputs": [
    {
     "name": "stdout",
     "output_type": "stream",
     "text": [
      "True\n",
      "False\n",
      "True\n",
      "False\n",
      "False\n"
     ]
    }
   ],
   "source": [
    "#13 isidentifier() -- checks for valid identifier means it checks if a string is a valid variable name.\n",
    "print(str.isidentifier())\n",
    "print(str1.isidentifier())\n",
    "print(\"_fg\".isidentifier())\n",
    "print(\"456fg\".isidentifier())\n",
    "print(\"456\".isidentifier())"
   ]
  },
  {
   "cell_type": "code",
   "execution_count": 104,
   "id": "68a9481f-1d34-400d-86ab-deb16bbd02fc",
   "metadata": {},
   "outputs": [
    {
     "name": "stdout",
     "output_type": "stream",
     "text": [
      "True\n",
      "False\n"
     ]
    }
   ],
   "source": [
    "#14. islower() -- checks if all the alphabets are lowercase.\n",
    "var = 'hello'\n",
    "print(var.islower())\n",
    "print('Hello'.islower())"
   ]
  },
  {
   "cell_type": "code",
   "execution_count": 108,
   "id": "2214a39d-89c5-4f67-8e71-e7b6c79772f1",
   "metadata": {},
   "outputs": [
    {
     "name": "stdout",
     "output_type": "stream",
     "text": [
      "False\n",
      "True\n"
     ]
    }
   ],
   "source": [
    "#15 . isupper() -- checks if the string is upper\n",
    "print('Hello'.isupper())\n",
    "print('HELLO'.isupper())"
   ]
  },
  {
   "cell_type": "code",
   "execution_count": 112,
   "id": "08d19964-b122-4c88-8c20-b6b308822997",
   "metadata": {},
   "outputs": [
    {
     "name": "stdout",
     "output_type": "stream",
     "text": [
      "True\n",
      "False\n"
     ]
    }
   ],
   "source": [
    "#16. isnumeric() -- checks if the number character . \n",
    "print('123'.isnumeric())\n",
    "print('Helo'.isnumeric())"
   ]
  },
  {
   "cell_type": "code",
   "execution_count": 124,
   "id": "b9196e0e-340b-4993-8ac2-3cd48dbc799b",
   "metadata": {},
   "outputs": [
    {
     "name": "stdout",
     "output_type": "stream",
     "text": [
      "Hello#Python#World\n",
      "Hello**Python**World\n"
     ]
    }
   ],
   "source": [
    "#17) join() - returns tha concatenated strings. \n",
    "l = ['Hello','Python','World']\n",
    "print('#'.join(l))\n",
    "print('**'.join(l))"
   ]
  },
  {
   "cell_type": "code",
   "execution_count": 138,
   "id": "2c0e1c18-819f-43ee-84da-16a5786f3354",
   "metadata": {},
   "outputs": [
    {
     "name": "stdout",
     "output_type": "stream",
     "text": [
      "python\n",
      "Hello python world\n"
     ]
    }
   ],
   "source": [
    "#18) strip() - removes both leading and trailing characters. \n",
    "s = '   python     '\n",
    "print(s.strip())\n",
    "print('Hello',s.strip(),'world')"
   ]
  },
  {
   "cell_type": "code",
   "execution_count": 140,
   "id": "a6a19164-3509-49f0-99b3-9b10313e0a2d",
   "metadata": {},
   "outputs": [
    {
     "data": {
      "text/plain": [
       "'coding learning is easy'"
      ]
     },
     "execution_count": 140,
     "metadata": {},
     "output_type": "execute_result"
    }
   ],
   "source": [
    "#19) replace(str1,str2) -- replace str1 with str2 \n",
    "str = 'Python learning is easy'\n",
    "str.replace('Python','coding')"
   ]
  },
  {
   "cell_type": "code",
   "execution_count": 156,
   "id": "04ba759d-9b5a-4d26-a6fe-07d3116b6b5a",
   "metadata": {},
   "outputs": [
    {
     "data": {
      "text/plain": [
       "['Hello', 'World']"
      ]
     },
     "execution_count": 156,
     "metadata": {},
     "output_type": "execute_result"
    }
   ],
   "source": [
    "#20) split() - splits starting from left\n",
    "str = \"Hello World\"\n",
    "str.split(' ') "
   ]
  },
  {
   "cell_type": "code",
   "execution_count": 158,
   "id": "6e28a18c-f907-4e71-9977-1bea81a713a5",
   "metadata": {},
   "outputs": [
    {
     "data": {
      "text/plain": [
       "'Hello Python'"
      ]
     },
     "execution_count": 158,
     "metadata": {},
     "output_type": "execute_result"
    }
   ],
   "source": [
    "#21) title() -- Retruns title cased string.\n",
    "str = 'hello python'\n",
    "str.title()"
   ]
  },
  {
   "cell_type": "code",
   "execution_count": 160,
   "id": "b892f45b-cef4-4864-924a-a51a8e74eebb",
   "metadata": {},
   "outputs": [
    {
     "data": {
      "text/plain": [
       "'hELLO WORLD'"
      ]
     },
     "execution_count": 160,
     "metadata": {},
     "output_type": "execute_result"
    }
   ],
   "source": [
    "#22) swapcase() -- swaps the case of str. \n",
    "str = 'Hello world'\n",
    "str.swapcase()"
   ]
  },
  {
   "cell_type": "code",
   "execution_count": 162,
   "id": "93dffe29-9cad-4a47-b07c-90e5c98ec15a",
   "metadata": {},
   "outputs": [
    {
     "data": {
      "text/plain": [
       "True"
      ]
     },
     "execution_count": 162,
     "metadata": {},
     "output_type": "execute_result"
    }
   ],
   "source": [
    "#23) startswith(elem) -- checks if the string starts with the elem. \n",
    "str = 'Hello World'\n",
    "str.startswith('He')"
   ]
  },
  {
   "cell_type": "code",
   "execution_count": null,
   "id": "56ec180b-cce5-4d0c-88db-e8a3198baad4",
   "metadata": {},
   "outputs": [],
   "source": []
  }
 ],
 "metadata": {
  "kernelspec": {
   "display_name": "Python [conda env:base] *",
   "language": "python",
   "name": "conda-base-py"
  },
  "language_info": {
   "codemirror_mode": {
    "name": "ipython",
    "version": 3
   },
   "file_extension": ".py",
   "mimetype": "text/x-python",
   "name": "python",
   "nbconvert_exporter": "python",
   "pygments_lexer": "ipython3",
   "version": "3.12.7"
  }
 },
 "nbformat": 4,
 "nbformat_minor": 5
}
