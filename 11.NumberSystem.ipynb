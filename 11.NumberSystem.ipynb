{
 "cells": [
  {
   "cell_type": "code",
   "execution_count": 1,
   "id": "0f7cb6bc-5780-47f3-9b2f-8f328061e486",
   "metadata": {},
   "outputs": [
    {
     "data": {
      "text/plain": [
       "'0b10100100'"
      ]
     },
     "execution_count": 1,
     "metadata": {},
     "output_type": "execute_result"
    }
   ],
   "source": [
    "a= 164 ## converting decimal to binary(0-1)\n",
    "bin(a)"
   ]
  },
  {
   "cell_type": "code",
   "execution_count": 3,
   "id": "48c2cfcd-fee7-4313-85ee-84097df45521",
   "metadata": {},
   "outputs": [
    {
     "data": {
      "text/plain": [
       "'0o244'"
      ]
     },
     "execution_count": 3,
     "metadata": {},
     "output_type": "execute_result"
    }
   ],
   "source": [
    "oct(a)  ## converting decimal to octal(base 8 - 0-7)"
   ]
  },
  {
   "cell_type": "code",
   "execution_count": 5,
   "id": "fb155d61-54d5-4055-a009-8ef67f0f7a44",
   "metadata": {},
   "outputs": [
    {
     "data": {
      "text/plain": [
       "'0xa4'"
      ]
     },
     "execution_count": 5,
     "metadata": {},
     "output_type": "execute_result"
    }
   ],
   "source": [
    "hex(a) ## converting decimal to hexadecimal (0-9 a-f)"
   ]
  },
  {
   "cell_type": "code",
   "execution_count": 13,
   "id": "3570b1d6-cbbf-4349-abf5-5de3a78c270b",
   "metadata": {},
   "outputs": [
    {
     "data": {
      "text/plain": [
       "'0b10100100'"
      ]
     },
     "execution_count": 13,
     "metadata": {},
     "output_type": "execute_result"
    }
   ],
   "source": [
    "## converting octal to binary. \n",
    "oc = 0o244\n",
    "bin(oc)"
   ]
  },
  {
   "cell_type": "code",
   "execution_count": 15,
   "id": "44b57903-63b0-4002-a52c-8be5d752142f",
   "metadata": {},
   "outputs": [
    {
     "data": {
      "text/plain": [
       "'0xa4'"
      ]
     },
     "execution_count": 15,
     "metadata": {},
     "output_type": "execute_result"
    }
   ],
   "source": [
    "##converting octal to hexadecimal\n",
    "hex(oc)"
   ]
  },
  {
   "cell_type": "code",
   "execution_count": 17,
   "id": "49a89ec4-67fb-476a-809c-21c0acd5283e",
   "metadata": {},
   "outputs": [
    {
     "data": {
      "text/plain": [
       "164"
      ]
     },
     "execution_count": 17,
     "metadata": {},
     "output_type": "execute_result"
    }
   ],
   "source": [
    "##Converting octal to decimal\n",
    "int(oc)"
   ]
  },
  {
   "cell_type": "code",
   "execution_count": 19,
   "id": "9ad73c12-79b3-46a0-ba6c-ee93239c41fc",
   "metadata": {},
   "outputs": [
    {
     "data": {
      "text/plain": [
       "164"
      ]
     },
     "execution_count": 19,
     "metadata": {},
     "output_type": "execute_result"
    }
   ],
   "source": [
    "## converting binary to decimal \n",
    "b = 0b10100100\n",
    "int(b)"
   ]
  },
  {
   "cell_type": "code",
   "execution_count": 21,
   "id": "9036cdfe-13f2-401f-ac57-aa6fb4c37200",
   "metadata": {},
   "outputs": [
    {
     "data": {
      "text/plain": [
       "'0o244'"
      ]
     },
     "execution_count": 21,
     "metadata": {},
     "output_type": "execute_result"
    }
   ],
   "source": [
    "## converting binary to octal\n",
    "oct(b)"
   ]
  },
  {
   "cell_type": "code",
   "execution_count": 23,
   "id": "56e6fbc1-73c7-459d-9fed-1788bcb7f836",
   "metadata": {},
   "outputs": [
    {
     "data": {
      "text/plain": [
       "'0xa4'"
      ]
     },
     "execution_count": 23,
     "metadata": {},
     "output_type": "execute_result"
    }
   ],
   "source": [
    "#converting binary to hexadecimal\n",
    "hex(b)"
   ]
  },
  {
   "cell_type": "code",
   "execution_count": 25,
   "id": "4819f979-04ee-4212-8c2d-b5cdb64aac25",
   "metadata": {},
   "outputs": [
    {
     "data": {
      "text/plain": [
       "164"
      ]
     },
     "execution_count": 25,
     "metadata": {},
     "output_type": "execute_result"
    }
   ],
   "source": [
    "#converting hexadecimal to decimal \n",
    "x= 0xa4\n",
    "int(x)"
   ]
  },
  {
   "cell_type": "code",
   "execution_count": 27,
   "id": "8b1d1a51-303d-4310-8779-c4930184ee12",
   "metadata": {},
   "outputs": [
    {
     "data": {
      "text/plain": [
       "'0o244'"
      ]
     },
     "execution_count": 27,
     "metadata": {},
     "output_type": "execute_result"
    }
   ],
   "source": [
    "#converting hexadecimal to octal \n",
    "oct(x)"
   ]
  },
  {
   "cell_type": "code",
   "execution_count": 29,
   "id": "6c169c10-ea11-4e1a-8c1b-cf3e72869af1",
   "metadata": {},
   "outputs": [
    {
     "data": {
      "text/plain": [
       "'0b10100100'"
      ]
     },
     "execution_count": 29,
     "metadata": {},
     "output_type": "execute_result"
    }
   ],
   "source": [
    "#converting hexadecimal to binary \n",
    "bin(x)"
   ]
  },
  {
   "cell_type": "code",
   "execution_count": null,
   "id": "f009601f-a232-4d25-9e5d-020b75850e7b",
   "metadata": {},
   "outputs": [],
   "source": []
  },
  {
   "cell_type": "code",
   "execution_count": null,
   "id": "6af7a42c-37f5-49a6-8a85-027f3ab08661",
   "metadata": {},
   "outputs": [],
   "source": []
  },
  {
   "cell_type": "code",
   "execution_count": null,
   "id": "cbbc3746-931f-4bba-9e46-b89029810aac",
   "metadata": {},
   "outputs": [],
   "source": []
  },
  {
   "cell_type": "code",
   "execution_count": null,
   "id": "3ff61873-8eb2-4035-b31a-5009adcbf8d5",
   "metadata": {},
   "outputs": [],
   "source": []
  },
  {
   "cell_type": "code",
   "execution_count": null,
   "id": "ae31f68d-531f-4e81-9d81-b45531ef130e",
   "metadata": {},
   "outputs": [],
   "source": []
  }
 ],
 "metadata": {
  "kernelspec": {
   "display_name": "Python [conda env:base] *",
   "language": "python",
   "name": "conda-base-py"
  },
  "language_info": {
   "codemirror_mode": {
    "name": "ipython",
    "version": 3
   },
   "file_extension": ".py",
   "mimetype": "text/x-python",
   "name": "python",
   "nbconvert_exporter": "python",
   "pygments_lexer": "ipython3",
   "version": "3.12.7"
  }
 },
 "nbformat": 4,
 "nbformat_minor": 5
}
