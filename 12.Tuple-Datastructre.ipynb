{
 "cells": [
  {
   "cell_type": "code",
   "execution_count": 1,
   "id": "0ca21918-46be-492e-ba27-490686548f3e",
   "metadata": {},
   "outputs": [
    {
     "data": {
      "text/plain": [
       "(2, 3, 4)"
      ]
     },
     "execution_count": 1,
     "metadata": {},
     "output_type": "execute_result"
    }
   ],
   "source": [
    "##tuple data structure is stores data in () brackets. allows duplicate elements.\n",
    "## tuple is immutable\n",
    "t = (2,3,4)\n",
    "t"
   ]
  },
  {
   "cell_type": "code",
   "execution_count": 3,
   "id": "5c6953ac-4898-4adb-973e-2d71a65df431",
   "metadata": {},
   "outputs": [
    {
     "data": {
      "text/plain": [
       "(2, 3, 4, 2, 3, 4, 2, 3, 4)"
      ]
     },
     "execution_count": 3,
     "metadata": {},
     "output_type": "execute_result"
    }
   ],
   "source": [
    "t * 3"
   ]
  },
  {
   "cell_type": "code",
   "execution_count": 5,
   "id": "f066518d-c4b3-46b4-b62f-dbea26379560",
   "metadata": {},
   "outputs": [
    {
     "data": {
      "text/plain": [
       "1"
      ]
     },
     "execution_count": 5,
     "metadata": {},
     "output_type": "execute_result"
    }
   ],
   "source": [
    "t.count(3)"
   ]
  },
  {
   "cell_type": "code",
   "execution_count": 17,
   "id": "ee8ce961-d609-45fc-bd8f-4710a2e0d746",
   "metadata": {},
   "outputs": [
    {
     "data": {
      "text/plain": [
       "2"
      ]
     },
     "execution_count": 17,
     "metadata": {},
     "output_type": "execute_result"
    }
   ],
   "source": [
    "t2 = (3,4,5,6,3,4,5) # tuple allows duplicate elements.\n",
    "t2.count(3)"
   ]
  },
  {
   "cell_type": "code",
   "execution_count": 19,
   "id": "182433e4-018d-42bf-ac8a-b4d338cf51db",
   "metadata": {},
   "outputs": [
    {
     "data": {
      "text/plain": [
       "0"
      ]
     },
     "execution_count": 19,
     "metadata": {},
     "output_type": "execute_result"
    }
   ],
   "source": [
    "t2.index(3)"
   ]
  },
  {
   "cell_type": "code",
   "execution_count": 21,
   "id": "eab9a347-c143-41ac-a14c-d2f8d9c16590",
   "metadata": {},
   "outputs": [
    {
     "data": {
      "text/plain": [
       "(3, 4, 5, 6, 3, 4, 5)"
      ]
     },
     "execution_count": 21,
     "metadata": {},
     "output_type": "execute_result"
    }
   ],
   "source": [
    "t2[:]"
   ]
  },
  {
   "cell_type": "code",
   "execution_count": 23,
   "id": "086c41fe-4a78-4bf7-8ecc-59964830a435",
   "metadata": {},
   "outputs": [
    {
     "ename": "TypeError",
     "evalue": "'tuple' object does not support item assignment",
     "output_type": "error",
     "traceback": [
      "\u001b[1;31m---------------------------------------------------------------------------\u001b[0m",
      "\u001b[1;31mTypeError\u001b[0m                                 Traceback (most recent call last)",
      "Cell \u001b[1;32mIn[23], line 1\u001b[0m\n\u001b[1;32m----> 1\u001b[0m t2[\u001b[38;5;241m4\u001b[39m]\u001b[38;5;241m=\u001b[39m\u001b[38;5;241m5\u001b[39m\n",
      "\u001b[1;31mTypeError\u001b[0m: 'tuple' object does not support item assignment"
     ]
    }
   ],
   "source": [
    "t2[4]=5 ##tuple is immutable"
   ]
  },
  {
   "cell_type": "code",
   "execution_count": 25,
   "id": "2af9653c-5117-4d2c-8014-ad97576b1447",
   "metadata": {},
   "outputs": [
    {
     "data": {
      "text/plain": [
       "[5, 6]"
      ]
     },
     "execution_count": 25,
     "metadata": {},
     "output_type": "execute_result"
    }
   ],
   "source": [
    "t3 = (4 ,5.6 , [5,6], 'radhika')\n",
    "t3[2]"
   ]
  },
  {
   "cell_type": "code",
   "execution_count": 27,
   "id": "f860bdfe-e23f-498c-8b0d-f9a3d8b5bf48",
   "metadata": {},
   "outputs": [
    {
     "data": {
      "text/plain": [
       "'radhika'"
      ]
     },
     "execution_count": 27,
     "metadata": {},
     "output_type": "execute_result"
    }
   ],
   "source": [
    "t3[3]"
   ]
  },
  {
   "cell_type": "code",
   "execution_count": 29,
   "id": "19f314d0-fd87-41bc-a7d9-44041ee764ce",
   "metadata": {},
   "outputs": [
    {
     "data": {
      "text/plain": [
       "'d'"
      ]
     },
     "execution_count": 29,
     "metadata": {},
     "output_type": "execute_result"
    }
   ],
   "source": [
    "t3[3][2]"
   ]
  },
  {
   "cell_type": "code",
   "execution_count": 31,
   "id": "4722f4d4-68ac-4143-b66e-e7117f71c28f",
   "metadata": {},
   "outputs": [
    {
     "ename": "TypeError",
     "evalue": "'str' object does not support item assignment",
     "output_type": "error",
     "traceback": [
      "\u001b[1;31m---------------------------------------------------------------------------\u001b[0m",
      "\u001b[1;31mTypeError\u001b[0m                                 Traceback (most recent call last)",
      "Cell \u001b[1;32mIn[31], line 1\u001b[0m\n\u001b[1;32m----> 1\u001b[0m t3[\u001b[38;5;241m3\u001b[39m][\u001b[38;5;241m2\u001b[39m] \u001b[38;5;241m=\u001b[39m \u001b[38;5;124m'\u001b[39m\u001b[38;5;124md\u001b[39m\u001b[38;5;124m'\u001b[39m\n",
      "\u001b[1;31mTypeError\u001b[0m: 'str' object does not support item assignment"
     ]
    }
   ],
   "source": [
    "t3[3][2] = 'd'"
   ]
  },
  {
   "cell_type": "code",
   "execution_count": 33,
   "id": "dbf2ebdb-d0d6-4eeb-8a9b-0c02b327221a",
   "metadata": {},
   "outputs": [
    {
     "data": {
      "text/plain": [
       "(4, 5.6, [5, 6], 'radhika')"
      ]
     },
     "execution_count": 33,
     "metadata": {},
     "output_type": "execute_result"
    }
   ],
   "source": [
    "t3[::]"
   ]
  },
  {
   "cell_type": "code",
   "execution_count": 35,
   "id": "c419c206-ffa3-4fc6-9559-fe1042c6aecd",
   "metadata": {},
   "outputs": [
    {
     "data": {
      "text/plain": [
       "('radhika', [5, 6], 5.6, 4)"
      ]
     },
     "execution_count": 35,
     "metadata": {},
     "output_type": "execute_result"
    }
   ],
   "source": [
    "t3[::-1]"
   ]
  },
  {
   "cell_type": "code",
   "execution_count": 37,
   "id": "5f5ebf45-9b8a-4d6b-904e-dd86764b453a",
   "metadata": {},
   "outputs": [
    {
     "ename": "IndexError",
     "evalue": "tuple index out of range",
     "output_type": "error",
     "traceback": [
      "\u001b[1;31m---------------------------------------------------------------------------\u001b[0m",
      "\u001b[1;31mIndexError\u001b[0m                                Traceback (most recent call last)",
      "Cell \u001b[1;32mIn[37], line 1\u001b[0m\n\u001b[1;32m----> 1\u001b[0m t3[\u001b[38;5;241m4\u001b[39m]\n",
      "\u001b[1;31mIndexError\u001b[0m: tuple index out of range"
     ]
    }
   ],
   "source": [
    "t3[4]"
   ]
  },
  {
   "cell_type": "code",
   "execution_count": 39,
   "id": "8eda65db-47a5-46c8-a194-bb1e29d8b4de",
   "metadata": {},
   "outputs": [
    {
     "data": {
      "text/plain": [
       "(4, 5.6, [5, 6], 'radhika')"
      ]
     },
     "execution_count": 39,
     "metadata": {},
     "output_type": "execute_result"
    }
   ],
   "source": [
    "t3[:50]"
   ]
  },
  {
   "cell_type": "code",
   "execution_count": 41,
   "id": "1373c59f-a1a3-4fdb-8e6a-05570481e456",
   "metadata": {},
   "outputs": [
    {
     "data": {
      "text/plain": [
       "(3, 4, 5, (7, 6, 8))"
      ]
     },
     "execution_count": 41,
     "metadata": {},
     "output_type": "execute_result"
    }
   ],
   "source": [
    "t4=( 3,4,5,(7,6,8)) # nested tuple- tuple inside a tuple\n",
    "t4"
   ]
  },
  {
   "cell_type": "code",
   "execution_count": 43,
   "id": "a0957905-8c46-4afb-ac3f-29e1c02f6cc1",
   "metadata": {},
   "outputs": [
    {
     "data": {
      "text/plain": [
       "8"
      ]
     },
     "execution_count": 43,
     "metadata": {},
     "output_type": "execute_result"
    }
   ],
   "source": [
    "t4[3][2]"
   ]
  },
  {
   "cell_type": "code",
   "execution_count": 45,
   "id": "9b4066f1-830a-49a7-9d05-349b9583171c",
   "metadata": {},
   "outputs": [
    {
     "data": {
      "text/plain": [
       "('A', 'B')"
      ]
     },
     "execution_count": 45,
     "metadata": {},
     "output_type": "execute_result"
    }
   ],
   "source": [
    "t3 = ('A','B','C','D','E')\n",
    "t3[:-3]"
   ]
  },
  {
   "cell_type": "code",
   "execution_count": 47,
   "id": "c180ec44-671d-4cde-a6e0-5a61dadf70ff",
   "metadata": {},
   "outputs": [
    {
     "data": {
      "text/plain": [
       "('B', 'C', 'D', 'E')"
      ]
     },
     "execution_count": 47,
     "metadata": {},
     "output_type": "execute_result"
    }
   ],
   "source": [
    "t3[-4:]"
   ]
  },
  {
   "cell_type": "code",
   "execution_count": 49,
   "id": "8503ec73-8c1f-4cd2-8d1a-0508300b0166",
   "metadata": {},
   "outputs": [
    {
     "data": {
      "text/plain": [
       "('D', 'E')"
      ]
     },
     "execution_count": 49,
     "metadata": {},
     "output_type": "execute_result"
    }
   ],
   "source": [
    "t3[-2:]"
   ]
  },
  {
   "cell_type": "code",
   "execution_count": 51,
   "id": "e6f947e5-3c2d-41b7-94f2-0bb54666e84c",
   "metadata": {},
   "outputs": [],
   "source": [
    "del t3"
   ]
  },
  {
   "cell_type": "code",
   "execution_count": 53,
   "id": "15c66947-f816-491c-bd36-d75a3edda227",
   "metadata": {},
   "outputs": [
    {
     "ename": "TypeError",
     "evalue": "'tuple' object doesn't support item deletion",
     "output_type": "error",
     "traceback": [
      "\u001b[1;31m---------------------------------------------------------------------------\u001b[0m",
      "\u001b[1;31mTypeError\u001b[0m                                 Traceback (most recent call last)",
      "Cell \u001b[1;32mIn[53], line 1\u001b[0m\n\u001b[1;32m----> 1\u001b[0m \u001b[38;5;28;01mdel\u001b[39;00m t4[\u001b[38;5;241m2\u001b[39m]\n",
      "\u001b[1;31mTypeError\u001b[0m: 'tuple' object doesn't support item deletion"
     ]
    }
   ],
   "source": [
    "del t4[2]"
   ]
  },
  {
   "cell_type": "code",
   "execution_count": 58,
   "id": "0d9c9547-a980-4393-806b-9291a4ea73fa",
   "metadata": {},
   "outputs": [
    {
     "name": "stdout",
     "output_type": "stream",
     "text": [
      "3\n",
      "4\n",
      "5\n",
      "(7, 6, 8)\n"
     ]
    }
   ],
   "source": [
    "#loop through a tuple\n",
    "for i in t4 :\n",
    " print(i)"
   ]
  },
  {
   "cell_type": "code",
   "execution_count": 60,
   "id": "f8d68d50-ac5f-4dbc-bbcb-47f39623d9fc",
   "metadata": {},
   "outputs": [
    {
     "name": "stdout",
     "output_type": "stream",
     "text": [
      "(0, 3)\n",
      "(1, 4)\n",
      "(2, 5)\n",
      "(3, (7, 6, 8))\n"
     ]
    }
   ],
   "source": [
    "#loop through a tuple\n",
    "for i in enumerate(t4) :\n",
    " print(i)"
   ]
  },
  {
   "cell_type": "code",
   "execution_count": 62,
   "id": "c4c2a6a5-4a90-499a-82c3-46ab74bd96dc",
   "metadata": {},
   "outputs": [
    {
     "data": {
      "text/plain": [
       "True"
      ]
     },
     "execution_count": 62,
     "metadata": {},
     "output_type": "execute_result"
    }
   ],
   "source": [
    "3 in t4"
   ]
  },
  {
   "cell_type": "code",
   "execution_count": 64,
   "id": "3b5128bc-87d3-4706-a786-7fcbeecc71ac",
   "metadata": {},
   "outputs": [
    {
     "data": {
      "text/plain": [
       "False"
      ]
     },
     "execution_count": 64,
     "metadata": {},
     "output_type": "execute_result"
    }
   ],
   "source": [
    "'R' in t4"
   ]
  },
  {
   "cell_type": "code",
   "execution_count": 66,
   "id": "f600cdd1-e701-49f4-aab8-7f2057e3231f",
   "metadata": {},
   "outputs": [
    {
     "data": {
      "text/plain": [
       "('one', 'two', 'three', 'four')"
      ]
     },
     "execution_count": 66,
     "metadata": {},
     "output_type": "execute_result"
    }
   ],
   "source": [
    "t5 = ('one','two','three','four')\n",
    "t5"
   ]
  },
  {
   "cell_type": "code",
   "execution_count": 72,
   "id": "f596d3bf-9557-4e94-9bfd-453f6587d1ca",
   "metadata": {},
   "outputs": [
    {
     "data": {
      "text/plain": [
       "True"
      ]
     },
     "execution_count": 72,
     "metadata": {},
     "output_type": "execute_result"
    }
   ],
   "source": [
    "'one' in t5"
   ]
  },
  {
   "cell_type": "code",
   "execution_count": 74,
   "id": "c83a3796-9c2c-4d6b-beb9-58d4078f502a",
   "metadata": {},
   "outputs": [
    {
     "data": {
      "text/plain": [
       "True"
      ]
     },
     "execution_count": 74,
     "metadata": {},
     "output_type": "execute_result"
    }
   ],
   "source": [
    "'three' in t5"
   ]
  },
  {
   "cell_type": "code",
   "execution_count": 76,
   "id": "b2ace558-966d-473e-9ac0-0dd07acf0158",
   "metadata": {},
   "outputs": [
    {
     "data": {
      "text/plain": [
       "False"
      ]
     },
     "execution_count": 76,
     "metadata": {},
     "output_type": "execute_result"
    }
   ],
   "source": [
    "'five' in t5"
   ]
  },
  {
   "cell_type": "code",
   "execution_count": 84,
   "id": "91d48173-0df8-4181-8533-dd771aec208a",
   "metadata": {},
   "outputs": [
    {
     "name": "stdout",
     "output_type": "stream",
     "text": [
      "one is in tuple5\n"
     ]
    }
   ],
   "source": [
    "if 'one' in t5:\n",
    "   print('one is in tuple5')\n",
    "else:\n",
    "   print('two is not in tuple5')"
   ]
  },
  {
   "cell_type": "code",
   "execution_count": 88,
   "id": "a6ee044e-0a76-4b81-9058-3fd202c55864",
   "metadata": {},
   "outputs": [
    {
     "data": {
      "text/plain": [
       "['four', 'one', 'three', 'two']"
      ]
     },
     "execution_count": 88,
     "metadata": {},
     "output_type": "execute_result"
    }
   ],
   "source": [
    "sorted(t5)"
   ]
  },
  {
   "cell_type": "code",
   "execution_count": 90,
   "id": "0a15ceb6-26b8-41d9-af95-1e37bcbdc597",
   "metadata": {},
   "outputs": [
    {
     "data": {
      "text/plain": [
       "(2, 3, 6, 1, 22, 11, 10)"
      ]
     },
     "execution_count": 90,
     "metadata": {},
     "output_type": "execute_result"
    }
   ],
   "source": [
    "t6 = (2,3,6,1,22,11,10)\n",
    "t6"
   ]
  },
  {
   "cell_type": "code",
   "execution_count": 92,
   "id": "e23b187b-bb42-4749-8277-418b1624f501",
   "metadata": {},
   "outputs": [
    {
     "data": {
      "text/plain": [
       "[1, 2, 3, 6, 10, 11, 22]"
      ]
     },
     "execution_count": 92,
     "metadata": {},
     "output_type": "execute_result"
    }
   ],
   "source": [
    "sorted(t6)"
   ]
  },
  {
   "cell_type": "code",
   "execution_count": 96,
   "id": "9ae690f0-cce9-4066-8114-c5b4ae733bd0",
   "metadata": {},
   "outputs": [
    {
     "data": {
      "text/plain": [
       "[22, 11, 10, 6, 3, 2, 1]"
      ]
     },
     "execution_count": 96,
     "metadata": {},
     "output_type": "execute_result"
    }
   ],
   "source": [
    "sorted(t6,reverse=True)"
   ]
  },
  {
   "cell_type": "code",
   "execution_count": 100,
   "id": "2044a06f-247e-4333-b761-b312ab5b0840",
   "metadata": {},
   "outputs": [
    {
     "ename": "TypeError",
     "evalue": "'<' not supported between instances of 'str' and 'int'",
     "output_type": "error",
     "traceback": [
      "\u001b[1;31m---------------------------------------------------------------------------\u001b[0m",
      "\u001b[1;31mTypeError\u001b[0m                                 Traceback (most recent call last)",
      "Cell \u001b[1;32mIn[100], line 2\u001b[0m\n\u001b[0;32m      1\u001b[0m t6 \u001b[38;5;241m=\u001b[39m (\u001b[38;5;241m3\u001b[39m,\u001b[38;5;241m4\u001b[39m,\u001b[38;5;124m'\u001b[39m\u001b[38;5;124mthree\u001b[39m\u001b[38;5;124m'\u001b[39m,\u001b[38;5;124m'\u001b[39m\u001b[38;5;124mone\u001b[39m\u001b[38;5;124m'\u001b[39m,\u001b[38;5;241m67\u001b[39m)\n\u001b[1;32m----> 2\u001b[0m \u001b[38;5;28msorted\u001b[39m(t6)\n",
      "\u001b[1;31mTypeError\u001b[0m: '<' not supported between instances of 'str' and 'int'"
     ]
    }
   ],
   "source": [
    "t6 = (3,4,'three','one',67)\n",
    "sorted(t6)"
   ]
  },
  {
   "cell_type": "code",
   "execution_count": 102,
   "id": "ea4266dd-e462-43d2-abc8-40eb75bc7fc8",
   "metadata": {},
   "outputs": [
    {
     "data": {
      "text/plain": [
       "[4, 5, 6, 30, 67]"
      ]
     },
     "execution_count": 102,
     "metadata": {},
     "output_type": "execute_result"
    }
   ],
   "source": [
    "t6 = (30,4,5,6,67)\n",
    "sorted(t6)"
   ]
  },
  {
   "cell_type": "code",
   "execution_count": 104,
   "id": "33f25c8b-0b95-429d-acf1-70a8c1b86cd4",
   "metadata": {},
   "outputs": [
    {
     "data": {
      "text/plain": [
       "[67, 30, 6, 5, 4]"
      ]
     },
     "execution_count": 104,
     "metadata": {},
     "output_type": "execute_result"
    }
   ],
   "source": [
    "t6 = (30,4,5,6,67)\n",
    "sorted(t6,reverse=True)"
   ]
  },
  {
   "cell_type": "code",
   "execution_count": null,
   "id": "ae3b81a6-6efa-447e-925e-ec51c0880022",
   "metadata": {},
   "outputs": [],
   "source": []
  }
 ],
 "metadata": {
  "kernelspec": {
   "display_name": "Python [conda env:base] *",
   "language": "python",
   "name": "conda-base-py"
  },
  "language_info": {
   "codemirror_mode": {
    "name": "ipython",
    "version": 3
   },
   "file_extension": ".py",
   "mimetype": "text/x-python",
   "name": "python",
   "nbconvert_exporter": "python",
   "pygments_lexer": "ipython3",
   "version": "3.12.7"
  }
 },
 "nbformat": 4,
 "nbformat_minor": 5
}
