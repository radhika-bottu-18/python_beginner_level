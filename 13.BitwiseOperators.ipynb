{
 "cells": [
  {
   "cell_type": "code",
   "execution_count": 1,
   "id": "0bb33dfa-cd3b-4f42-849c-5cbb6668d79f",
   "metadata": {},
   "outputs": [
    {
     "data": {
      "text/plain": [
       "10"
      ]
     },
     "execution_count": 1,
     "metadata": {},
     "output_type": "execute_result"
    }
   ],
   "source": [
    "4 and 10 # Relational operators"
   ]
  },
  {
   "cell_type": "code",
   "execution_count": 3,
   "id": "e957258e-602c-4b35-a0b5-e4ef4b07a61b",
   "metadata": {},
   "outputs": [
    {
     "data": {
      "text/plain": [
       "4"
      ]
     },
     "execution_count": 3,
     "metadata": {},
     "output_type": "execute_result"
    }
   ],
   "source": [
    "4 or 10 ## relational operators"
   ]
  },
  {
   "cell_type": "code",
   "execution_count": 5,
   "id": "18d6035e-1751-4472-9b93-6bef229b51ec",
   "metadata": {},
   "outputs": [
    {
     "data": {
      "text/plain": [
       "14"
      ]
     },
     "execution_count": 5,
     "metadata": {},
     "output_type": "execute_result"
    }
   ],
   "source": [
    "4 | 10 #Bitwise OR operator (0100 | 1010)"
   ]
  },
  {
   "cell_type": "code",
   "execution_count": 9,
   "id": "2412d0e5-efde-4200-a59d-5fa49db6ff77",
   "metadata": {},
   "outputs": [
    {
     "data": {
      "text/plain": [
       "0"
      ]
     },
     "execution_count": 9,
     "metadata": {},
     "output_type": "execute_result"
    }
   ],
   "source": [
    "4 & 10 #Bitwise OR operator (0100 & 1010)"
   ]
  },
  {
   "cell_type": "code",
   "execution_count": 13,
   "id": "c7dedb09-e61f-48b4-97ea-057122c584a9",
   "metadata": {},
   "outputs": [
    {
     "data": {
      "text/plain": [
       "'0b0'"
      ]
     },
     "execution_count": 13,
     "metadata": {},
     "output_type": "execute_result"
    }
   ],
   "source": [
    "bin(4 & 10)"
   ]
  },
  {
   "cell_type": "code",
   "execution_count": 15,
   "id": "35b8913e-d36d-4a8a-b997-36f90210bf6c",
   "metadata": {},
   "outputs": [
    {
     "data": {
      "text/plain": [
       "'0b1110'"
      ]
     },
     "execution_count": 15,
     "metadata": {},
     "output_type": "execute_result"
    }
   ],
   "source": [
    "bin(4 | 10)"
   ]
  },
  {
   "cell_type": "code",
   "execution_count": 17,
   "id": "b335125d-466a-4c74-9421-a8fd3a63f64d",
   "metadata": {},
   "outputs": [
    {
     "data": {
      "text/plain": [
       "False"
      ]
     },
     "execution_count": 17,
     "metadata": {},
     "output_type": "execute_result"
    }
   ],
   "source": [
    "not 10"
   ]
  },
  {
   "cell_type": "code",
   "execution_count": 25,
   "id": "6efd8b57-9ac6-41bc-9a85-1ba37580f9ff",
   "metadata": {},
   "outputs": [
    {
     "data": {
      "text/plain": [
       "True"
      ]
     },
     "execution_count": 25,
     "metadata": {},
     "output_type": "execute_result"
    }
   ],
   "source": [
    "not 0  ## (zero is considered as false and non-zero is considered as true)"
   ]
  },
  {
   "cell_type": "code",
   "execution_count": 21,
   "id": "40c6002e-c76e-42f6-92fe-21f20ac2d6f0",
   "metadata": {},
   "outputs": [
    {
     "data": {
      "text/plain": [
       "False"
      ]
     },
     "execution_count": 21,
     "metadata": {},
     "output_type": "execute_result"
    }
   ],
   "source": [
    "not 1"
   ]
  },
  {
   "cell_type": "code",
   "execution_count": 23,
   "id": "91e8667d-59ce-4e31-92d2-2c0f01bdc82b",
   "metadata": {},
   "outputs": [
    {
     "data": {
      "text/plain": [
       "False"
      ]
     },
     "execution_count": 23,
     "metadata": {},
     "output_type": "execute_result"
    }
   ],
   "source": [
    "not 2"
   ]
  },
  {
   "cell_type": "code",
   "execution_count": 27,
   "id": "f34cd3cf-5778-4a99-a6ce-961ec1c42b8a",
   "metadata": {},
   "outputs": [
    {
     "data": {
      "text/plain": [
       "40"
      ]
     },
     "execution_count": 27,
     "metadata": {},
     "output_type": "execute_result"
    }
   ],
   "source": [
    "## LEFT SHIFT (Gain by two digits)\n",
    "10 << 2  # 10 = 1010.00 , 10 << 2 = 101000.0\n"
   ]
  },
  {
   "cell_type": "code",
   "execution_count": 29,
   "id": "998937aa-9bd3-4a55-81bd-108c35fb11f9",
   "metadata": {},
   "outputs": [
    {
     "data": {
      "text/plain": [
       "'0b101000'"
      ]
     },
     "execution_count": 29,
     "metadata": {},
     "output_type": "execute_result"
    }
   ],
   "source": [
    "bin(10 << 2)"
   ]
  },
  {
   "cell_type": "code",
   "execution_count": 31,
   "id": "82a685e8-e922-4426-a0a6-c022ae32deee",
   "metadata": {},
   "outputs": [
    {
     "data": {
      "text/plain": [
       "2"
      ]
     },
     "execution_count": 31,
     "metadata": {},
     "output_type": "execute_result"
    }
   ],
   "source": [
    "## RIGHT SHIFT - (Loose by two digits)\n",
    "10 >> 2 # 10 =1010.00 , 10 >> 2 = 10.00"
   ]
  },
  {
   "cell_type": "code",
   "execution_count": 33,
   "id": "7acacc95-6251-459f-8387-9d10c99e676d",
   "metadata": {},
   "outputs": [
    {
     "data": {
      "text/plain": [
       "'0b10'"
      ]
     },
     "execution_count": 33,
     "metadata": {},
     "output_type": "execute_result"
    }
   ],
   "source": [
    "bin(10 >> 2)"
   ]
  },
  {
   "cell_type": "code",
   "execution_count": 36,
   "id": "691ae479-93ee-4d81-931e-f9081bd4f649",
   "metadata": {},
   "outputs": [
    {
     "data": {
      "text/plain": [
       "-3"
      ]
     },
     "execution_count": 36,
     "metadata": {},
     "output_type": "execute_result"
    }
   ],
   "source": [
    "~2"
   ]
  },
  {
   "cell_type": "code",
   "execution_count": null,
   "id": "a36062ca-f198-4b49-8821-74c7ea29c2aa",
   "metadata": {},
   "outputs": [],
   "source": []
  }
 ],
 "metadata": {
  "kernelspec": {
   "display_name": "Python [conda env:base] *",
   "language": "python",
   "name": "conda-base-py"
  },
  "language_info": {
   "codemirror_mode": {
    "name": "ipython",
    "version": 3
   },
   "file_extension": ".py",
   "mimetype": "text/x-python",
   "name": "python",
   "nbconvert_exporter": "python",
   "pygments_lexer": "ipython3",
   "version": "3.12.7"
  }
 },
 "nbformat": 4,
 "nbformat_minor": 5
}
