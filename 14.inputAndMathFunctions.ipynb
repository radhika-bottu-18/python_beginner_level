{
 "cells": [
  {
   "cell_type": "markdown",
   "id": "625363c6-260b-45c1-a617-cbb800ff9dd8",
   "metadata": {},
   "source": [
    "# import statement exampes"
   ]
  },
  {
   "cell_type": "code",
   "execution_count": 33,
   "id": "09269327-1571-4cbe-ab15-5b60afaf9c69",
   "metadata": {},
   "outputs": [
    {
     "data": {
      "text/plain": [
       "8.0"
      ]
     },
     "execution_count": 33,
     "metadata": {},
     "output_type": "execute_result"
    }
   ],
   "source": [
    "sqrt(64)"
   ]
  },
  {
   "cell_type": "code",
   "execution_count": 23,
   "id": "6a788546-fbf2-4feb-bfb5-57d636af8401",
   "metadata": {},
   "outputs": [
    {
     "data": {
      "text/plain": [
       "8.0"
      ]
     },
     "execution_count": 23,
     "metadata": {},
     "output_type": "execute_result"
    }
   ],
   "source": [
    "import math as m\n",
    "m.sqrt(64)"
   ]
  },
  {
   "cell_type": "code",
   "execution_count": 27,
   "id": "00d799c8-7e2f-4398-a916-767e25f45192",
   "metadata": {},
   "outputs": [
    {
     "data": {
      "text/plain": [
       "7.0"
      ]
     },
     "execution_count": 27,
     "metadata": {},
     "output_type": "execute_result"
    }
   ],
   "source": [
    "m.sqrt(49)"
   ]
  },
  {
   "cell_type": "code",
   "execution_count": 29,
   "id": "52e9fc89-0ab0-4e96-9549-63c61177481a",
   "metadata": {},
   "outputs": [
    {
     "data": {
      "text/plain": [
       "6.0"
      ]
     },
     "execution_count": 29,
     "metadata": {},
     "output_type": "execute_result"
    }
   ],
   "source": [
    "m.sqrt(36)"
   ]
  },
  {
   "cell_type": "code",
   "execution_count": 31,
   "id": "b26a0d8f-a0f4-4038-b452-caf2e9d669a3",
   "metadata": {},
   "outputs": [
    {
     "data": {
      "text/plain": [
       "8.0"
      ]
     },
     "execution_count": 31,
     "metadata": {},
     "output_type": "execute_result"
    }
   ],
   "source": [
    "from math import sqrt,pow\n",
    "sqrt(64)"
   ]
  },
  {
   "cell_type": "code",
   "execution_count": 35,
   "id": "b84f41b8-4335-4e46-a68a-294b2ec5f18f",
   "metadata": {},
   "outputs": [
    {
     "name": "stdin",
     "output_type": "stream",
     "text": [
      "Enter the value a 2\n",
      "Enter the value b 3\n"
     ]
    },
    {
     "name": "stdout",
     "output_type": "stream",
     "text": [
      "23\n"
     ]
    }
   ],
   "source": [
    "a = input('Enter the value a')\n",
    "b = input('Enter the value b')\n",
    "c = a+b \n",
    "print(c)"
   ]
  },
  {
   "cell_type": "code",
   "execution_count": 37,
   "id": "d72fe021-443b-4fc9-9161-4af2484d9ad1",
   "metadata": {},
   "outputs": [
    {
     "name": "stdin",
     "output_type": "stream",
     "text": [
      "Enter the value a 3\n",
      "Enter the value b 3\n"
     ]
    },
    {
     "name": "stdout",
     "output_type": "stream",
     "text": [
      "6\n"
     ]
    }
   ],
   "source": [
    "a = int(input('Enter the value a'))\n",
    "b = int(input('Enter the value b'))\n",
    "c = a+b \n",
    "print(c)"
   ]
  },
  {
   "cell_type": "code",
   "execution_count": 41,
   "id": "644f73ad-991c-4f31-93b1-aeb1ca06f1d9",
   "metadata": {},
   "outputs": [
    {
     "name": "stdin",
     "output_type": "stream",
     "text": [
      "Enter the character a f\n"
     ]
    },
    {
     "name": "stdout",
     "output_type": "stream",
     "text": [
      "f\n"
     ]
    }
   ],
   "source": [
    "ch = input('Enter the character a')\n",
    "print(ch)"
   ]
  },
  {
   "cell_type": "code",
   "execution_count": 43,
   "id": "3cd4084a-707c-4e6b-9c85-9489b70aaa16",
   "metadata": {},
   "outputs": [
    {
     "name": "stdin",
     "output_type": "stream",
     "text": [
      "Enter a expression 2 + 3\n"
     ]
    },
    {
     "name": "stdout",
     "output_type": "stream",
     "text": [
      "5\n"
     ]
    }
   ],
   "source": [
    "ch = eval(input('Enter a expression'))\n",
    "print(ch)"
   ]
  },
  {
   "cell_type": "code",
   "execution_count": 45,
   "id": "3ebbd54e-c4d9-4bee-bbcf-69bd088d29dc",
   "metadata": {},
   "outputs": [
    {
     "name": "stdin",
     "output_type": "stream",
     "text": [
      "Enter a expression 4*4*4\n"
     ]
    },
    {
     "name": "stdout",
     "output_type": "stream",
     "text": [
      "64\n"
     ]
    }
   ],
   "source": [
    "ch = eval(input('Enter a expression'))\n",
    "print(ch)"
   ]
  },
  {
   "cell_type": "code",
   "execution_count": 47,
   "id": "8d46f302-c12b-4615-accf-a091849f1c18",
   "metadata": {},
   "outputs": [
    {
     "name": "stdin",
     "output_type": "stream",
     "text": [
      "Enter the string Radhika\n"
     ]
    },
    {
     "name": "stdout",
     "output_type": "stream",
     "text": [
      "R\n"
     ]
    }
   ],
   "source": [
    "ch= input('Enter the string')[0]\n",
    "print(ch)"
   ]
  },
  {
   "cell_type": "code",
   "execution_count": 49,
   "id": "d9aa9d49-aee2-4951-a342-c2bf0d183b40",
   "metadata": {},
   "outputs": [
    {
     "name": "stdin",
     "output_type": "stream",
     "text": [
      "Enter the string Radhika\n"
     ]
    },
    {
     "name": "stdout",
     "output_type": "stream",
     "text": [
      "Radhika\n"
     ]
    }
   ],
   "source": [
    "ch= input('Enter the string')[0:]\n",
    "print(ch)"
   ]
  },
  {
   "cell_type": "code",
   "execution_count": 51,
   "id": "df189daa-76b7-4335-a7cf-9fcb0e99f6e9",
   "metadata": {},
   "outputs": [
    {
     "name": "stdin",
     "output_type": "stream",
     "text": [
      "Enter the string Radhika\n"
     ]
    },
    {
     "name": "stdout",
     "output_type": "stream",
     "text": [
      "dhika\n"
     ]
    }
   ],
   "source": [
    "ch= input('Enter the string')[2:]\n",
    "print(ch)"
   ]
  },
  {
   "cell_type": "code",
   "execution_count": 53,
   "id": "22a09a33-d908-460f-ac21-af62814a9629",
   "metadata": {},
   "outputs": [
    {
     "name": "stdin",
     "output_type": "stream",
     "text": [
      "Enter the string Radhika\n"
     ]
    },
    {
     "name": "stdout",
     "output_type": "stream",
     "text": [
      "akihdaR\n"
     ]
    }
   ],
   "source": [
    "ch= input('Enter the string')[::-1]\n",
    "print(ch)"
   ]
  },
  {
   "cell_type": "code",
   "execution_count": null,
   "id": "e32e1c16-2a28-4b7e-8f40-ac3540a8c44d",
   "metadata": {},
   "outputs": [],
   "source": []
  }
 ],
 "metadata": {
  "kernelspec": {
   "display_name": "Python [conda env:base] *",
   "language": "python",
   "name": "conda-base-py"
  },
  "language_info": {
   "codemirror_mode": {
    "name": "ipython",
    "version": 3
   },
   "file_extension": ".py",
   "mimetype": "text/x-python",
   "name": "python",
   "nbconvert_exporter": "python",
   "pygments_lexer": "ipython3",
   "version": "3.12.7"
  }
 },
 "nbformat": 4,
 "nbformat_minor": 5
}
