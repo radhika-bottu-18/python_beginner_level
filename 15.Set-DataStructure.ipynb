{
 "cells": [
  {
   "cell_type": "code",
   "execution_count": 1,
   "id": "64a5a5be-529e-4a12-a7b0-64bea5989b43",
   "metadata": {},
   "outputs": [
    {
     "data": {
      "text/plain": [
       "dict"
      ]
     },
     "execution_count": 1,
     "metadata": {},
     "output_type": "execute_result"
    }
   ],
   "source": [
    "s = {}\n",
    "type(s)"
   ]
  },
  {
   "cell_type": "code",
   "execution_count": 3,
   "id": "37ede041-4565-48d5-96ff-4f2ac42d02fa",
   "metadata": {},
   "outputs": [
    {
     "data": {
      "text/plain": [
       "set"
      ]
     },
     "execution_count": 3,
     "metadata": {},
     "output_type": "execute_result"
    }
   ],
   "source": [
    "s = set()\n",
    "type(s)"
   ]
  },
  {
   "cell_type": "code",
   "execution_count": 5,
   "id": "b81b4b3d-7767-420a-b12b-f79d74481162",
   "metadata": {},
   "outputs": [
    {
     "data": {
      "text/plain": [
       "set"
      ]
     },
     "execution_count": 5,
     "metadata": {},
     "output_type": "execute_result"
    }
   ],
   "source": [
    "s = {1,2,3}\n",
    "type(s)"
   ]
  },
  {
   "cell_type": "code",
   "execution_count": 7,
   "id": "1977280a-b4e1-4ecb-b613-fb2fe6d86d85",
   "metadata": {},
   "outputs": [
    {
     "data": {
      "text/plain": [
       "3"
      ]
     },
     "execution_count": 7,
     "metadata": {},
     "output_type": "execute_result"
    }
   ],
   "source": [
    "len(s)"
   ]
  },
  {
   "cell_type": "code",
   "execution_count": 9,
   "id": "3625a623-a0fa-42db-8f44-913b6f9b699d",
   "metadata": {},
   "outputs": [
    {
     "data": {
      "text/plain": [
       "{0, 1, 2, 3, 4, 9}"
      ]
     },
     "execution_count": 9,
     "metadata": {},
     "output_type": "execute_result"
    }
   ],
   "source": [
    "s={1,2,3,0,9,4}\n",
    "s"
   ]
  },
  {
   "cell_type": "code",
   "execution_count": 11,
   "id": "579581ca-0f87-43a0-86c1-77e1092354ab",
   "metadata": {},
   "outputs": [],
   "source": [
    "s = {3,3,3,3,4,4,4,6}"
   ]
  },
  {
   "cell_type": "code",
   "execution_count": 13,
   "id": "433cec8b-0544-43e4-84e3-4b568033d240",
   "metadata": {},
   "outputs": [
    {
     "data": {
      "text/plain": [
       "{3, 4, 6}"
      ]
     },
     "execution_count": 13,
     "metadata": {},
     "output_type": "execute_result"
    }
   ],
   "source": [
    "s"
   ]
  },
  {
   "cell_type": "code",
   "execution_count": 3,
   "id": "eb42a6f5-adb8-484d-8ceb-bf288ef1937c",
   "metadata": {},
   "outputs": [
    {
     "data": {
      "text/plain": [
       "{(3+5j), 1, 4.4, 'radhika'}"
      ]
     },
     "execution_count": 3,
     "metadata": {},
     "output_type": "execute_result"
    }
   ],
   "source": [
    "s = {1,'radhika',4.4,True,3+5J}\n",
    "s"
   ]
  },
  {
   "cell_type": "code",
   "execution_count": 5,
   "id": "a76cfcf4-8600-4345-8532-39819b92e9bd",
   "metadata": {},
   "outputs": [
    {
     "ename": "TypeError",
     "evalue": "unhashable type: 'list'",
     "output_type": "error",
     "traceback": [
      "\u001b[1;31m---------------------------------------------------------------------------\u001b[0m",
      "\u001b[1;31mTypeError\u001b[0m                                 Traceback (most recent call last)",
      "Cell \u001b[1;32mIn[5], line 1\u001b[0m\n\u001b[1;32m----> 1\u001b[0m s \u001b[38;5;241m=\u001b[39m {\u001b[38;5;241m10\u001b[39m,\u001b[38;5;241m20\u001b[39m,\u001b[38;5;124m'\u001b[39m\u001b[38;5;124mhelo\u001b[39m\u001b[38;5;124m'\u001b[39m,[\u001b[38;5;241m3\u001b[39m,\u001b[38;5;241m4\u001b[39m,\u001b[38;5;241m5\u001b[39m]}\n\u001b[0;32m      2\u001b[0m s\n",
      "\u001b[1;31mTypeError\u001b[0m: unhashable type: 'list'"
     ]
    }
   ],
   "source": [
    "s = {10,20,'helo',[3,4,5]}  #cannot use hash inside the set \n",
    "s"
   ]
  },
  {
   "cell_type": "code",
   "execution_count": 7,
   "id": "2737bae9-0e28-4591-bd9c-21ab86e75fe2",
   "metadata": {},
   "outputs": [
    {
     "name": "stdout",
     "output_type": "stream",
     "text": [
      "<class 'set'>\n"
     ]
    }
   ],
   "source": [
    "myset = set()\n",
    "print(type(myset))"
   ]
  },
  {
   "cell_type": "code",
   "execution_count": 10,
   "id": "b9387b77-12db-4682-ad36-dfa39298561f",
   "metadata": {},
   "outputs": [
    {
     "data": {
      "text/plain": [
       "{'four', 'one', 'three', 'two'}"
      ]
     },
     "execution_count": 10,
     "metadata": {},
     "output_type": "execute_result"
    }
   ],
   "source": [
    "my_set=set(('one','two','three','four'))\n",
    "my_set"
   ]
  },
  {
   "cell_type": "code",
   "execution_count": 13,
   "id": "936e5207-dabd-4a1b-89a7-b46a9cdb4ef3",
   "metadata": {},
   "outputs": [
    {
     "data": {
      "text/plain": [
       "{'eight', 'five', 'four', 'nine', 'one', 'seven', 'six', 'three', 'two'}"
      ]
     },
     "execution_count": 13,
     "metadata": {},
     "output_type": "execute_result"
    }
   ],
   "source": [
    "my_set={'one','two','three','four','five','six','seven','eight','nine'}\n",
    "my_set"
   ]
  },
  {
   "cell_type": "code",
   "execution_count": 23,
   "id": "34b5af1c-882b-4f58-affd-efba197227ff",
   "metadata": {},
   "outputs": [
    {
     "name": "stdout",
     "output_type": "stream",
     "text": [
      "eight\n",
      "three\n",
      "five\n",
      "nine\n",
      "six\n",
      "four\n",
      "two\n",
      "seven\n",
      "one\n"
     ]
    }
   ],
   "source": [
    "for i in my_set:\n",
    " print(i)"
   ]
  },
  {
   "cell_type": "code",
   "execution_count": 27,
   "id": "df44f7ab-3147-4407-9592-5debf1453b98",
   "metadata": {},
   "outputs": [
    {
     "name": "stdout",
     "output_type": "stream",
     "text": [
      "(0, 'eight')\n",
      "(1, 'three')\n",
      "(2, 'five')\n",
      "(3, 'nine')\n",
      "(4, 'six')\n",
      "(5, 'four')\n",
      "(6, 'two')\n",
      "(7, 'seven')\n",
      "(8, 'one')\n"
     ]
    }
   ],
   "source": [
    "for i in enumerate(my_set):\n",
    " print(i)"
   ]
  },
  {
   "cell_type": "code",
   "execution_count": 29,
   "id": "bfd74ab4-69ff-45aa-83e3-6af76fc6b247",
   "metadata": {},
   "outputs": [
    {
     "data": {
      "text/plain": [
       "False"
      ]
     },
     "execution_count": 29,
     "metadata": {},
     "output_type": "execute_result"
    }
   ],
   "source": [
    "'five' in myset"
   ]
  },
  {
   "cell_type": "code",
   "execution_count": 31,
   "id": "c9908917-0daa-459f-aeb8-b62ac8ba17ec",
   "metadata": {},
   "outputs": [
    {
     "data": {
      "text/plain": [
       "False"
      ]
     },
     "execution_count": 31,
     "metadata": {},
     "output_type": "execute_result"
    }
   ],
   "source": [
    "'ten' in myset"
   ]
  },
  {
   "cell_type": "code",
   "execution_count": 37,
   "id": "f0033873-9b9d-4881-a3b2-7728fdccae86",
   "metadata": {},
   "outputs": [
    {
     "name": "stdout",
     "output_type": "stream",
     "text": [
      "three in the set\n"
     ]
    }
   ],
   "source": [
    "if 'three' in my_set:\n",
    " print('three in the set')\n",
    "else:\n",
    " print('three is not in set')"
   ]
  },
  {
   "cell_type": "code",
   "execution_count": 41,
   "id": "6af01af1-f653-4235-b820-0dc7c8bf054a",
   "metadata": {},
   "outputs": [
    {
     "name": "stdout",
     "output_type": "stream",
     "text": [
      "eleven is not the set\n"
     ]
    }
   ],
   "source": [
    "if 'eleven' in my_set:\n",
    " print('eleven in the set')\n",
    "else: \n",
    " print('eleven is not the set')"
   ]
  },
  {
   "cell_type": "code",
   "execution_count": 43,
   "id": "e9b83a71-30ea-4292-8d43-40dda7a40b87",
   "metadata": {},
   "outputs": [
    {
     "ename": "TypeError",
     "evalue": "'set' object does not support item assignment",
     "output_type": "error",
     "traceback": [
      "\u001b[1;31m---------------------------------------------------------------------------\u001b[0m",
      "\u001b[1;31mTypeError\u001b[0m                                 Traceback (most recent call last)",
      "Cell \u001b[1;32mIn[43], line 1\u001b[0m\n\u001b[1;32m----> 1\u001b[0m my_set[\u001b[38;5;241m3\u001b[39m] \u001b[38;5;241m=\u001b[39m \u001b[38;5;124m'\u001b[39m\u001b[38;5;124mthree\u001b[39m\u001b[38;5;124m'\u001b[39m\n",
      "\u001b[1;31mTypeError\u001b[0m: 'set' object does not support item assignment"
     ]
    }
   ],
   "source": [
    "my_set[3] = 'three'"
   ]
  },
  {
   "cell_type": "code",
   "execution_count": 45,
   "id": "6795dde7-6dcd-4255-8446-888f8a91b8b4",
   "metadata": {},
   "outputs": [],
   "source": [
    "my_set.add('eleven')"
   ]
  },
  {
   "cell_type": "code",
   "execution_count": 47,
   "id": "4137277a-3957-4c88-b57e-2fdf29755c5c",
   "metadata": {},
   "outputs": [
    {
     "data": {
      "text/plain": [
       "{'eight',\n",
       " 'eleven',\n",
       " 'five',\n",
       " 'four',\n",
       " 'nine',\n",
       " 'one',\n",
       " 'seven',\n",
       " 'six',\n",
       " 'three',\n",
       " 'two'}"
      ]
     },
     "execution_count": 47,
     "metadata": {},
     "output_type": "execute_result"
    }
   ],
   "source": [
    "my_set"
   ]
  },
  {
   "cell_type": "code",
   "execution_count": 49,
   "id": "401047eb-2556-4890-8b8f-d4b0e7576f2a",
   "metadata": {},
   "outputs": [],
   "source": [
    "my_set.add('twenty')"
   ]
  },
  {
   "cell_type": "code",
   "execution_count": 51,
   "id": "2dc7d441-e177-4fe0-886f-cbc27dcd48d4",
   "metadata": {},
   "outputs": [
    {
     "data": {
      "text/plain": [
       "{'eight',\n",
       " 'eleven',\n",
       " 'five',\n",
       " 'four',\n",
       " 'nine',\n",
       " 'one',\n",
       " 'seven',\n",
       " 'six',\n",
       " 'three',\n",
       " 'twenty',\n",
       " 'two'}"
      ]
     },
     "execution_count": 51,
     "metadata": {},
     "output_type": "execute_result"
    }
   ],
   "source": [
    "my_set"
   ]
  },
  {
   "cell_type": "code",
   "execution_count": 53,
   "id": "88363746-78df-444a-8156-5cf4c321e082",
   "metadata": {},
   "outputs": [],
   "source": [
    "my_set.update('XYZ')"
   ]
  },
  {
   "cell_type": "code",
   "execution_count": 55,
   "id": "a29de196-19ef-4531-a15b-6c672fb26d48",
   "metadata": {},
   "outputs": [
    {
     "data": {
      "text/plain": [
       "{'X',\n",
       " 'Y',\n",
       " 'Z',\n",
       " 'eight',\n",
       " 'eleven',\n",
       " 'five',\n",
       " 'four',\n",
       " 'nine',\n",
       " 'one',\n",
       " 'seven',\n",
       " 'six',\n",
       " 'three',\n",
       " 'twenty',\n",
       " 'two'}"
      ]
     },
     "execution_count": 55,
     "metadata": {},
     "output_type": "execute_result"
    }
   ],
   "source": [
    "my_set"
   ]
  },
  {
   "cell_type": "code",
   "execution_count": 57,
   "id": "3e7491bb-2812-4853-ade1-fe6b95ff0c82",
   "metadata": {},
   "outputs": [
    {
     "data": {
      "text/plain": [
       "{'A',\n",
       " 'B',\n",
       " 'C',\n",
       " 'H',\n",
       " 'N',\n",
       " 'X',\n",
       " 'Y',\n",
       " 'Z',\n",
       " 'eight',\n",
       " 'eleven',\n",
       " 'five',\n",
       " 'four',\n",
       " 'nine',\n",
       " 'one',\n",
       " 'seven',\n",
       " 'six',\n",
       " 'three',\n",
       " 'twenty',\n",
       " 'two'}"
      ]
     },
     "execution_count": 57,
     "metadata": {},
     "output_type": "execute_result"
    }
   ],
   "source": [
    "my_set.update('XYZ','ABC','NH')\n",
    "my_set"
   ]
  },
  {
   "cell_type": "code",
   "execution_count": 59,
   "id": "6d84e1e4-d740-4c0f-b27b-c4abcf71b942",
   "metadata": {},
   "outputs": [
    {
     "data": {
      "text/plain": [
       "{'A',\n",
       " 'ABC',\n",
       " 'B',\n",
       " 'C',\n",
       " 'H',\n",
       " 'N',\n",
       " 'NH',\n",
       " 'X',\n",
       " 'XYZ',\n",
       " 'Y',\n",
       " 'Z',\n",
       " 'eight',\n",
       " 'eleven',\n",
       " 'five',\n",
       " 'four',\n",
       " 'nine',\n",
       " 'one',\n",
       " 'seven',\n",
       " 'six',\n",
       " 'three',\n",
       " 'twenty',\n",
       " 'two'}"
      ]
     },
     "execution_count": 59,
     "metadata": {},
     "output_type": "execute_result"
    }
   ],
   "source": [
    "my_set.update(['XYZ','ABC','NH'])\n",
    "my_set"
   ]
  },
  {
   "cell_type": "code",
   "execution_count": 63,
   "id": "174ab018-cefd-4cf6-9819-2e644b5d8b24",
   "metadata": {},
   "outputs": [
    {
     "ename": "KeyError",
     "evalue": "'TEN'",
     "output_type": "error",
     "traceback": [
      "\u001b[1;31m---------------------------------------------------------------------------\u001b[0m",
      "\u001b[1;31mKeyError\u001b[0m                                  Traceback (most recent call last)",
      "Cell \u001b[1;32mIn[63], line 1\u001b[0m\n\u001b[1;32m----> 1\u001b[0m my_set\u001b[38;5;241m.\u001b[39mremove(\u001b[38;5;124m'\u001b[39m\u001b[38;5;124mTEN\u001b[39m\u001b[38;5;124m'\u001b[39m)\n\u001b[0;32m      2\u001b[0m my_set\n",
      "\u001b[1;31mKeyError\u001b[0m: 'TEN'"
     ]
    }
   ],
   "source": [
    "my_set.remove('TEN')\n",
    "my_set"
   ]
  },
  {
   "cell_type": "code",
   "execution_count": 65,
   "id": "ae17cc10-5288-4e61-96fc-18922e8c26a2",
   "metadata": {},
   "outputs": [
    {
     "data": {
      "text/plain": [
       "{'A',\n",
       " 'ABC',\n",
       " 'B',\n",
       " 'C',\n",
       " 'H',\n",
       " 'N',\n",
       " 'NH',\n",
       " 'X',\n",
       " 'XYZ',\n",
       " 'Y',\n",
       " 'Z',\n",
       " 'eight',\n",
       " 'eleven',\n",
       " 'five',\n",
       " 'four',\n",
       " 'nine',\n",
       " 'one',\n",
       " 'seven',\n",
       " 'six',\n",
       " 'three',\n",
       " 'twenty'}"
      ]
     },
     "execution_count": 65,
     "metadata": {},
     "output_type": "execute_result"
    }
   ],
   "source": [
    "my_set.remove('two')\n",
    "my_set"
   ]
  },
  {
   "cell_type": "code",
   "execution_count": 67,
   "id": "55f1564d-7755-4884-9486-ca5e3f01017b",
   "metadata": {},
   "outputs": [],
   "source": [
    "my_set.discard('A')"
   ]
  },
  {
   "cell_type": "code",
   "execution_count": 69,
   "id": "c269ad8c-9b9c-4b16-9e5c-a5ac87e0c3c1",
   "metadata": {},
   "outputs": [
    {
     "data": {
      "text/plain": [
       "{'ABC',\n",
       " 'B',\n",
       " 'C',\n",
       " 'H',\n",
       " 'N',\n",
       " 'NH',\n",
       " 'X',\n",
       " 'XYZ',\n",
       " 'Y',\n",
       " 'Z',\n",
       " 'eight',\n",
       " 'eleven',\n",
       " 'five',\n",
       " 'four',\n",
       " 'nine',\n",
       " 'one',\n",
       " 'seven',\n",
       " 'six',\n",
       " 'three',\n",
       " 'twenty'}"
      ]
     },
     "execution_count": 69,
     "metadata": {},
     "output_type": "execute_result"
    }
   ],
   "source": [
    "my_set"
   ]
  },
  {
   "cell_type": "code",
   "execution_count": 71,
   "id": "95c560e9-db01-42b7-bc8f-9ff6bdc759a1",
   "metadata": {},
   "outputs": [
    {
     "ename": "KeyError",
     "evalue": "'AAA'",
     "output_type": "error",
     "traceback": [
      "\u001b[1;31m---------------------------------------------------------------------------\u001b[0m",
      "\u001b[1;31mKeyError\u001b[0m                                  Traceback (most recent call last)",
      "Cell \u001b[1;32mIn[71], line 1\u001b[0m\n\u001b[1;32m----> 1\u001b[0m my_set\u001b[38;5;241m.\u001b[39mremove(\u001b[38;5;124m'\u001b[39m\u001b[38;5;124mAAA\u001b[39m\u001b[38;5;124m'\u001b[39m)\n",
      "\u001b[1;31mKeyError\u001b[0m: 'AAA'"
     ]
    }
   ],
   "source": [
    "my_set.remove('AAA')"
   ]
  },
  {
   "cell_type": "code",
   "execution_count": 77,
   "id": "5c1546b6-7db9-4ae5-9adf-9b1deb8c863c",
   "metadata": {},
   "outputs": [
    {
     "data": {
      "text/plain": [
       "set()"
      ]
     },
     "execution_count": 77,
     "metadata": {},
     "output_type": "execute_result"
    }
   ],
   "source": [
    "myset.discard('TEN') # remove item from a set using discard() method\n",
    "myset"
   ]
  },
  {
   "cell_type": "code",
   "execution_count": 79,
   "id": "3a948fb4-61cc-44b1-8d95-f7ce39b005fc",
   "metadata": {},
   "outputs": [],
   "source": [
    "myset.clear()"
   ]
  },
  {
   "cell_type": "code",
   "execution_count": 81,
   "id": "154dc43f-3e08-4bf8-a469-09bbc579721f",
   "metadata": {},
   "outputs": [
    {
     "data": {
      "text/plain": [
       "set()"
      ]
     },
     "execution_count": 81,
     "metadata": {},
     "output_type": "execute_result"
    }
   ],
   "source": [
    "myset"
   ]
  },
  {
   "cell_type": "code",
   "execution_count": 83,
   "id": "54e8faed-6f91-4cd0-a5de-59aefd5443a9",
   "metadata": {},
   "outputs": [],
   "source": [
    "del myset"
   ]
  },
  {
   "cell_type": "code",
   "execution_count": 85,
   "id": "172f368d-9d9a-4406-8a00-2c973cf5e4dd",
   "metadata": {},
   "outputs": [
    {
     "ename": "NameError",
     "evalue": "name 'myset' is not defined",
     "output_type": "error",
     "traceback": [
      "\u001b[1;31m---------------------------------------------------------------------------\u001b[0m",
      "\u001b[1;31mNameError\u001b[0m                                 Traceback (most recent call last)",
      "Cell \u001b[1;32mIn[85], line 1\u001b[0m\n\u001b[1;32m----> 1\u001b[0m myset\n",
      "\u001b[1;31mNameError\u001b[0m: name 'myset' is not defined"
     ]
    }
   ],
   "source": [
    "myset"
   ]
  },
  {
   "cell_type": "code",
   "execution_count": 87,
   "id": "7ed58156-e9de-4194-9dc9-d4cbdd419dd5",
   "metadata": {},
   "outputs": [
    {
     "data": {
      "text/plain": [
       "{1, 2, 3, 4, 5, 6, 7}"
      ]
     },
     "execution_count": 87,
     "metadata": {},
     "output_type": "execute_result"
    }
   ],
   "source": [
    "myset = {1,2,3,4,5,6,7}\n",
    "myset"
   ]
  },
  {
   "cell_type": "code",
   "execution_count": 89,
   "id": "a0afd709-80c8-4607-9985-9ef0a76e3af4",
   "metadata": {},
   "outputs": [
    {
     "data": {
      "text/plain": [
       "{1, 2, 3, 4, 5, 6, 7}"
      ]
     },
     "execution_count": 89,
     "metadata": {},
     "output_type": "execute_result"
    }
   ],
   "source": [
    "myset1 = myset\n",
    "myset1"
   ]
  },
  {
   "cell_type": "code",
   "execution_count": 91,
   "id": "cc7932f9-bc12-4bc3-95f7-965b189606b6",
   "metadata": {},
   "outputs": [
    {
     "data": {
      "text/plain": [
       "{1, 2, 3, 4, 5, 6, 7}"
      ]
     },
     "execution_count": 91,
     "metadata": {},
     "output_type": "execute_result"
    }
   ],
   "source": [
    "myset2 = myset1.copy()\n",
    "myset2"
   ]
  },
  {
   "cell_type": "code",
   "execution_count": 93,
   "id": "82cd73f1-6b6e-404f-82ea-847d60b4e944",
   "metadata": {},
   "outputs": [
    {
     "data": {
      "text/plain": [
       "2040980105120"
      ]
     },
     "execution_count": 93,
     "metadata": {},
     "output_type": "execute_result"
    }
   ],
   "source": [
    "id(myset)"
   ]
  },
  {
   "cell_type": "code",
   "execution_count": 95,
   "id": "a6cbc601-fc47-4100-8101-d041e36e444a",
   "metadata": {},
   "outputs": [
    {
     "data": {
      "text/plain": [
       "2040980105120"
      ]
     },
     "execution_count": 95,
     "metadata": {},
     "output_type": "execute_result"
    }
   ],
   "source": [
    "id(myset1)"
   ]
  },
  {
   "cell_type": "code",
   "execution_count": 97,
   "id": "2382938f-de7f-4569-a0eb-eef7a663119f",
   "metadata": {},
   "outputs": [
    {
     "data": {
      "text/plain": [
       "2040980106912"
      ]
     },
     "execution_count": 97,
     "metadata": {},
     "output_type": "execute_result"
    }
   ],
   "source": [
    "id(myset2)"
   ]
  },
  {
   "cell_type": "code",
   "execution_count": 99,
   "id": "9231b686-4480-46b0-9714-3694d982b924",
   "metadata": {},
   "outputs": [],
   "source": [
    "myset2.add('three number')"
   ]
  },
  {
   "cell_type": "code",
   "execution_count": 101,
   "id": "cabab4e9-11bb-4f7a-a177-1dcdebf5d71d",
   "metadata": {},
   "outputs": [
    {
     "data": {
      "text/plain": [
       "{1, 2, 3, 4, 5, 6, 7, 'three number'}"
      ]
     },
     "execution_count": 101,
     "metadata": {},
     "output_type": "execute_result"
    }
   ],
   "source": [
    "myset2"
   ]
  },
  {
   "cell_type": "code",
   "execution_count": 103,
   "id": "76fe9b6a-b2c0-4ca8-9272-7752f99e67a3",
   "metadata": {},
   "outputs": [],
   "source": [
    "# union operations\n",
    "A = {1,2,3,4,5,6}\n",
    "B = {4,5,6,7,8,9}\n",
    "C = A | B\n"
   ]
  },
  {
   "cell_type": "code",
   "execution_count": 105,
   "id": "c55e59c0-d5b1-46b8-a891-ccc48edc9a6d",
   "metadata": {},
   "outputs": [
    {
     "data": {
      "text/plain": [
       "{1, 2, 3, 4, 5, 6, 7, 8, 9}"
      ]
     },
     "execution_count": 105,
     "metadata": {},
     "output_type": "execute_result"
    }
   ],
   "source": [
    "C"
   ]
  },
  {
   "cell_type": "code",
   "execution_count": 111,
   "id": "5fedd77e-c3f1-4e49-8d68-7df7640b4b19",
   "metadata": {},
   "outputs": [],
   "source": [
    "CU = A.union(B)"
   ]
  },
  {
   "cell_type": "code",
   "execution_count": 113,
   "id": "8c0f6aa6-3763-45db-aa26-10a8f678ef9e",
   "metadata": {},
   "outputs": [
    {
     "data": {
      "text/plain": [
       "{1, 2, 3, 4, 5, 6, 7, 8, 9}"
      ]
     },
     "execution_count": 113,
     "metadata": {},
     "output_type": "execute_result"
    }
   ],
   "source": [
    "CU"
   ]
  },
  {
   "cell_type": "code",
   "execution_count": 115,
   "id": "3430e386-a73a-4b69-973e-f46ab9775b08",
   "metadata": {},
   "outputs": [
    {
     "data": {
      "text/plain": [
       "{4, 5, 6}"
      ]
     },
     "execution_count": 115,
     "metadata": {},
     "output_type": "execute_result"
    }
   ],
   "source": [
    "D = A & B\n",
    "D"
   ]
  },
  {
   "cell_type": "code",
   "execution_count": 125,
   "id": "782f40b5-ca19-4b2d-9d68-4ecce9a01537",
   "metadata": {},
   "outputs": [
    {
     "data": {
      "text/plain": [
       "{1, 2, 3, 4, 5, 6}"
      ]
     },
     "execution_count": 125,
     "metadata": {},
     "output_type": "execute_result"
    }
   ],
   "source": [
    "A.intersection(B)\n",
    "A"
   ]
  },
  {
   "cell_type": "code",
   "execution_count": 127,
   "id": "6ab16113-a4b3-4a34-b6ee-53df36d58caa",
   "metadata": {},
   "outputs": [
    {
     "data": {
      "text/plain": [
       "{4, 5, 6}"
      ]
     },
     "execution_count": 127,
     "metadata": {},
     "output_type": "execute_result"
    }
   ],
   "source": [
    "v= A.intersection(B)\n",
    "v"
   ]
  },
  {
   "cell_type": "code",
   "execution_count": 129,
   "id": "91b8fb55-696c-42b3-b54f-eca314ed7c9c",
   "metadata": {},
   "outputs": [],
   "source": [
    "A.update(B,C)"
   ]
  },
  {
   "cell_type": "code",
   "execution_count": 137,
   "id": "0a31607c-276c-4d56-a813-2ece98dbd9d5",
   "metadata": {},
   "outputs": [
    {
     "data": {
      "text/plain": [
       "{4, 5, 6, 7, 8, 9}"
      ]
     },
     "execution_count": 137,
     "metadata": {},
     "output_type": "execute_result"
    }
   ],
   "source": [
    "A"
   ]
  },
  {
   "cell_type": "code",
   "execution_count": 135,
   "id": "bbd03794-5871-4896-8f13-3d67d5fcab8b",
   "metadata": {},
   "outputs": [
    {
     "data": {
      "text/plain": [
       "{4, 5, 6, 7, 8, 9}"
      ]
     },
     "execution_count": 135,
     "metadata": {},
     "output_type": "execute_result"
    }
   ],
   "source": [
    "A.intersection_update(B)\n",
    "A"
   ]
  },
  {
   "cell_type": "code",
   "execution_count": 143,
   "id": "3c4b3995-3c5a-42ad-8c05-972c8e9bb628",
   "metadata": {},
   "outputs": [],
   "source": [
    "A = {1,2,3,4,5,6,7}\n",
    "B = {4,5,6,7,8,9,0}\n",
    "A.update(B)"
   ]
  },
  {
   "cell_type": "code",
   "execution_count": 145,
   "id": "58b24c2b-f082-4401-8cd0-81e5a29622ef",
   "metadata": {},
   "outputs": [
    {
     "data": {
      "text/plain": [
       "{0, 1, 2, 3, 4, 5, 6, 7, 8, 9}"
      ]
     },
     "execution_count": 145,
     "metadata": {},
     "output_type": "execute_result"
    }
   ],
   "source": [
    "A"
   ]
  },
  {
   "cell_type": "code",
   "execution_count": 147,
   "id": "5a55bed7-f0fd-4663-b292-30ecf5207f1b",
   "metadata": {},
   "outputs": [
    {
     "data": {
      "text/plain": [
       "{1, 2, 3}"
      ]
     },
     "execution_count": 147,
     "metadata": {},
     "output_type": "execute_result"
    }
   ],
   "source": [
    "A - B"
   ]
  },
  {
   "cell_type": "code",
   "execution_count": 149,
   "id": "cdd9649a-088a-4e18-a687-73307eab9ee8",
   "metadata": {},
   "outputs": [],
   "source": [
    "A = {1,2,3,4,5,6,7}\n",
    "B = {4,5,6,7,8,9,0}\n",
    "A.update(B)"
   ]
  },
  {
   "cell_type": "code",
   "execution_count": 153,
   "id": "3ef8fa32-f19a-4b78-8a77-0d99268741e6",
   "metadata": {},
   "outputs": [
    {
     "data": {
      "text/plain": [
       "{0, 1, 2, 3, 4, 5, 6, 7, 8, 9}"
      ]
     },
     "execution_count": 153,
     "metadata": {},
     "output_type": "execute_result"
    }
   ],
   "source": [
    "A"
   ]
  },
  {
   "cell_type": "code",
   "execution_count": 157,
   "id": "04e501af-a834-49eb-ac6c-9c99726a181b",
   "metadata": {},
   "outputs": [],
   "source": [
    "A.difference_update(B)"
   ]
  },
  {
   "cell_type": "code",
   "execution_count": 159,
   "id": "3ffa5f4f-0656-4a18-b84a-21e2d2c09fe8",
   "metadata": {},
   "outputs": [
    {
     "data": {
      "text/plain": [
       "{1, 2, 3}"
      ]
     },
     "execution_count": 159,
     "metadata": {},
     "output_type": "execute_result"
    }
   ],
   "source": [
    "A"
   ]
  },
  {
   "cell_type": "code",
   "execution_count": 171,
   "id": "695e2114-60b3-469f-8280-773770986a24",
   "metadata": {},
   "outputs": [
    {
     "data": {
      "text/plain": [
       "{0, 1, 2, 3, 8, 9}"
      ]
     },
     "execution_count": 171,
     "metadata": {},
     "output_type": "execute_result"
    }
   ],
   "source": [
    "A = {1,2,3,4,5,6,7}\n",
    "B = {4,5,6,7,8,9,0}\n",
    "A.symmetric_difference(B)"
   ]
  },
  {
   "cell_type": "code",
   "execution_count": 173,
   "id": "3fdb9bc4-1e8d-4c06-b2cd-b31552add82d",
   "metadata": {},
   "outputs": [
    {
     "data": {
      "text/plain": [
       "{1, 2, 3, 4, 5, 6, 7}"
      ]
     },
     "execution_count": 173,
     "metadata": {},
     "output_type": "execute_result"
    }
   ],
   "source": [
    "A"
   ]
  },
  {
   "cell_type": "code",
   "execution_count": 175,
   "id": "e40790af-6374-48ac-ac5c-e7a04681d994",
   "metadata": {},
   "outputs": [],
   "source": [
    "A = {1,2,3,4,5,6,7}\n",
    "B = {4,5,6,7,8,9,0}\n",
    "A.symmetric_difference_update(B)"
   ]
  },
  {
   "cell_type": "code",
   "execution_count": 177,
   "id": "ea9a1c39-9472-43c3-85d1-ecd0a23efb76",
   "metadata": {},
   "outputs": [
    {
     "data": {
      "text/plain": [
       "{0, 1, 2, 3, 8, 9}"
      ]
     },
     "execution_count": 177,
     "metadata": {},
     "output_type": "execute_result"
    }
   ],
   "source": [
    "A"
   ]
  },
  {
   "cell_type": "code",
   "execution_count": 183,
   "id": "2dced4ee-2f3e-4015-ae25-89896a1940a1",
   "metadata": {},
   "outputs": [],
   "source": [
    "A = {1,2,3,4,5,6,7,8,9}\n",
    "B = {3,4,5,6,7,8}\n",
    "C = {10,20,30,40}"
   ]
  },
  {
   "cell_type": "code",
   "execution_count": 185,
   "id": "3887a2da-bc46-408c-b8b4-ae78b1dbc7dd",
   "metadata": {},
   "outputs": [
    {
     "data": {
      "text/plain": [
       "True"
      ]
     },
     "execution_count": 185,
     "metadata": {},
     "output_type": "execute_result"
    }
   ],
   "source": [
    "B.issubset(A)"
   ]
  },
  {
   "cell_type": "code",
   "execution_count": 187,
   "id": "88750bed-bcf8-4761-b5ce-03349c9fe900",
   "metadata": {},
   "outputs": [
    {
     "data": {
      "text/plain": [
       "False"
      ]
     },
     "execution_count": 187,
     "metadata": {},
     "output_type": "execute_result"
    }
   ],
   "source": [
    "A.issubset(B)"
   ]
  },
  {
   "cell_type": "code",
   "execution_count": 193,
   "id": "b22c49f8-ec38-4604-86a8-529ca753c6ca",
   "metadata": {},
   "outputs": [
    {
     "data": {
      "text/plain": [
       "True"
      ]
     },
     "execution_count": 193,
     "metadata": {},
     "output_type": "execute_result"
    }
   ],
   "source": [
    "A.issuperset(B)"
   ]
  },
  {
   "cell_type": "code",
   "execution_count": 195,
   "id": "c6bc34e7-beae-4ec1-9820-08bec2ce702b",
   "metadata": {},
   "outputs": [
    {
     "data": {
      "text/plain": [
       "True"
      ]
     },
     "execution_count": 195,
     "metadata": {},
     "output_type": "execute_result"
    }
   ],
   "source": [
    "C.isdisjoint(A)"
   ]
  },
  {
   "cell_type": "code",
   "execution_count": 197,
   "id": "2fc4004d-b7da-4f51-8146-1344b7c3f06c",
   "metadata": {},
   "outputs": [
    {
     "data": {
      "text/plain": [
       "False"
      ]
     },
     "execution_count": 197,
     "metadata": {},
     "output_type": "execute_result"
    }
   ],
   "source": [
    "B.isdisjoint(A)"
   ]
  },
  {
   "cell_type": "code",
   "execution_count": 199,
   "id": "2a49b055-0883-4208-9bef-f2b91f483253",
   "metadata": {},
   "outputs": [
    {
     "data": {
      "text/plain": [
       "{1, 2, 3, 4, 5, 6, 7, 8, 9}"
      ]
     },
     "execution_count": 199,
     "metadata": {},
     "output_type": "execute_result"
    }
   ],
   "source": [
    "A"
   ]
  },
  {
   "cell_type": "code",
   "execution_count": 201,
   "id": "ca7e4857-dfda-4cd7-8a22-1f15f7cd4232",
   "metadata": {},
   "outputs": [
    {
     "data": {
      "text/plain": [
       "45"
      ]
     },
     "execution_count": 201,
     "metadata": {},
     "output_type": "execute_result"
    }
   ],
   "source": [
    "sum(A)"
   ]
  },
  {
   "cell_type": "code",
   "execution_count": 203,
   "id": "d610bd21-f3fb-4384-88c8-26e67c16b633",
   "metadata": {},
   "outputs": [
    {
     "data": {
      "text/plain": [
       "9"
      ]
     },
     "execution_count": 203,
     "metadata": {},
     "output_type": "execute_result"
    }
   ],
   "source": [
    "max(A)"
   ]
  },
  {
   "cell_type": "code",
   "execution_count": 205,
   "id": "3f556551-e01c-43e8-af90-a96ee20fa721",
   "metadata": {},
   "outputs": [
    {
     "data": {
      "text/plain": [
       "1"
      ]
     },
     "execution_count": 205,
     "metadata": {},
     "output_type": "execute_result"
    }
   ],
   "source": [
    "min(A)"
   ]
  },
  {
   "cell_type": "code",
   "execution_count": 207,
   "id": "156d9bbd-7eab-4659-b692-7b3383a4867c",
   "metadata": {},
   "outputs": [
    {
     "data": {
      "text/plain": [
       "9"
      ]
     },
     "execution_count": 207,
     "metadata": {},
     "output_type": "execute_result"
    }
   ],
   "source": [
    "len(A)"
   ]
  },
  {
   "cell_type": "code",
   "execution_count": 209,
   "id": "23ca62b0-8445-4e13-80a4-0d23b23c5f9b",
   "metadata": {},
   "outputs": [
    {
     "data": {
      "text/plain": [
       "[(0, 1), (1, 2), (2, 3), (3, 4), (4, 5), (5, 6), (6, 7), (7, 8), (8, 9)]"
      ]
     },
     "execution_count": 209,
     "metadata": {},
     "output_type": "execute_result"
    }
   ],
   "source": [
    "list(enumerate(A))"
   ]
  },
  {
   "cell_type": "code",
   "execution_count": 211,
   "id": "efae9e50-b71c-4dde-bbaf-3fb26193b98f",
   "metadata": {},
   "outputs": [],
   "source": [
    "D = sorted(A)"
   ]
  },
  {
   "cell_type": "code",
   "execution_count": 213,
   "id": "a5563fcd-46cc-41c4-91ba-800225f3da39",
   "metadata": {},
   "outputs": [],
   "source": [
    "D= sorted(A,reverse=True)"
   ]
  },
  {
   "cell_type": "code",
   "execution_count": 215,
   "id": "1064ebf7-1139-4790-8e76-ff659c73bacf",
   "metadata": {},
   "outputs": [
    {
     "data": {
      "text/plain": [
       "[9, 8, 7, 6, 5, 4, 3, 2, 1]"
      ]
     },
     "execution_count": 215,
     "metadata": {},
     "output_type": "execute_result"
    }
   ],
   "source": [
    "D"
   ]
  },
  {
   "cell_type": "code",
   "execution_count": null,
   "id": "dcf0714f-7845-4c86-9835-4e401cb60534",
   "metadata": {},
   "outputs": [],
   "source": []
  }
 ],
 "metadata": {
  "kernelspec": {
   "display_name": "Python [conda env:base] *",
   "language": "python",
   "name": "conda-base-py"
  },
  "language_info": {
   "codemirror_mode": {
    "name": "ipython",
    "version": 3
   },
   "file_extension": ".py",
   "mimetype": "text/x-python",
   "name": "python",
   "nbconvert_exporter": "python",
   "pygments_lexer": "ipython3",
   "version": "3.12.7"
  }
 },
 "nbformat": 4,
 "nbformat_minor": 5
}
