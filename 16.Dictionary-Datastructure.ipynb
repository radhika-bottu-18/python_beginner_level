{
 "cells": [
  {
   "cell_type": "code",
   "execution_count": 2,
   "id": "3a0cb82b-c1c4-4fb9-a5e3-374581d6effc",
   "metadata": {},
   "outputs": [
    {
     "data": {
      "text/plain": [
       "dict"
      ]
     },
     "execution_count": 2,
     "metadata": {},
     "output_type": "execute_result"
    }
   ],
   "source": [
    "mydict = {} \n",
    "type(mydict)"
   ]
  },
  {
   "cell_type": "code",
   "execution_count": 6,
   "id": "4b386438-d3b5-4853-a562-e4eacbfc7b28",
   "metadata": {},
   "outputs": [
    {
     "data": {
      "text/plain": [
       "{1: 'one', 2: 'two', 3: 'three', 4: 'four'}"
      ]
     },
     "execution_count": 6,
     "metadata": {},
     "output_type": "execute_result"
    }
   ],
   "source": [
    "mydict = {1 : 'one', 2: 'two', 3: 'three' , 4: 'four'}\n",
    "mydict"
   ]
  },
  {
   "cell_type": "code",
   "execution_count": 8,
   "id": "b019e731-99db-4632-9d01-9e131203d27a",
   "metadata": {},
   "outputs": [
    {
     "data": {
      "text/plain": [
       "{1: 'one', 2: 'two', 3: 'three', 4: 'four'}"
      ]
     },
     "execution_count": 8,
     "metadata": {},
     "output_type": "execute_result"
    }
   ],
   "source": [
    "mydict1 =dict({1 : 'one', 2: 'two', 3: 'three' , 4: 'four'})\n",
    "mydict1"
   ]
  },
  {
   "cell_type": "code",
   "execution_count": 12,
   "id": "afface63-8ed0-4e1a-be1a-9d5b7001c9a8",
   "metadata": {},
   "outputs": [
    {
     "data": {
      "text/plain": [
       "{'A': 'one', 'B': 'two', 'C': 'three', 'D': 'three'}"
      ]
     },
     "execution_count": 12,
     "metadata": {},
     "output_type": "execute_result"
    }
   ],
   "source": [
    "mydict2 = {'A': 'one', 'B': 'two' , 'C' : 'three' , 'D':'three'}\n",
    "mydict2"
   ]
  },
  {
   "cell_type": "code",
   "execution_count": 14,
   "id": "4e250ea6-9bd1-483b-8500-a68effaa7ba8",
   "metadata": {},
   "outputs": [
    {
     "data": {
      "text/plain": [
       "{1: 'one', 'B': 'two', 3: 'three', 'D': 'three'}"
      ]
     },
     "execution_count": 14,
     "metadata": {},
     "output_type": "execute_result"
    }
   ],
   "source": [
    "mydict3 = {1: 'one', 'B': 'two' , 3 : 'three' , 'D':'three'}\n",
    "mydict3"
   ]
  },
  {
   "cell_type": "code",
   "execution_count": 16,
   "id": "1aa46ee2-f4bf-40e4-ad8a-8f911f9dd5af",
   "metadata": {},
   "outputs": [
    {
     "data": {
      "text/plain": [
       "dict_keys([1, 'B', 3, 'D'])"
      ]
     },
     "execution_count": 16,
     "metadata": {},
     "output_type": "execute_result"
    }
   ],
   "source": [
    "mydict3.keys()"
   ]
  },
  {
   "cell_type": "code",
   "execution_count": 18,
   "id": "a678ead5-746f-490d-8540-768412597685",
   "metadata": {},
   "outputs": [
    {
     "data": {
      "text/plain": [
       "dict_values(['one', 'two', 'three', 'three'])"
      ]
     },
     "execution_count": 18,
     "metadata": {},
     "output_type": "execute_result"
    }
   ],
   "source": [
    "mydict3.values()"
   ]
  },
  {
   "cell_type": "code",
   "execution_count": 20,
   "id": "c807e95e-2971-4b3c-969b-08ed00211453",
   "metadata": {},
   "outputs": [
    {
     "data": {
      "text/plain": [
       "dict_items([(1, 'one'), ('B', 'two'), (3, 'three'), ('D', 'three')])"
      ]
     },
     "execution_count": 20,
     "metadata": {},
     "output_type": "execute_result"
    }
   ],
   "source": [
    "mydict3.items()"
   ]
  },
  {
   "cell_type": "code",
   "execution_count": 22,
   "id": "141edda9-febe-411a-ab60-51766ed6ec01",
   "metadata": {},
   "outputs": [
    {
     "data": {
      "text/plain": [
       "{1: 'one', 'B': 'two', 'C': 'three', 'D': [1, 2, 3]}"
      ]
     },
     "execution_count": 22,
     "metadata": {},
     "output_type": "execute_result"
    }
   ],
   "source": [
    "mydic4 = {1:'one' , 'B': 'two' , 'C' : 'three' , 'D' : [1,2,3]}\n",
    "mydic4"
   ]
  },
  {
   "cell_type": "code",
   "execution_count": 24,
   "id": "23dba524-9e23-4056-b7ff-a21736e82577",
   "metadata": {},
   "outputs": [
    {
     "data": {
      "text/plain": [
       "{2: 'two',\n",
       " 'A': ['Apple', 'Aparicot', 'ant'],\n",
       " 'C': ['Cat', 'Cow'],\n",
       " 'D': [1, 2, 3]}"
      ]
     },
     "execution_count": 24,
     "metadata": {},
     "output_type": "execute_result"
    }
   ],
   "source": [
    "mydic4 = {2:'two' , 'A': ['Apple','Aparicot','ant'] , 'C' : ['Cat','Cow'] , 'D' : [1,2,3]}\n",
    "mydic4"
   ]
  },
  {
   "cell_type": "code",
   "execution_count": 3,
   "id": "9ef4c591-5ef5-4d17-a6dd-980065dcaa20",
   "metadata": {},
   "outputs": [
    {
     "data": {
      "text/plain": [
       "{'C': None, 'D': None, 'B': None, 'A': None}"
      ]
     },
     "execution_count": 3,
     "metadata": {},
     "output_type": "execute_result"
    }
   ],
   "source": [
    "keys = {'A','B','C','D'}\n",
    "mydict10 = dict.fromkeys(keys)\n",
    "mydict10"
   ]
  },
  {
   "cell_type": "code",
   "execution_count": 34,
   "id": "4dd5daea-1185-4731-9b90-12211ef65c6e",
   "metadata": {},
   "outputs": [
    {
     "data": {
      "text/plain": [
       "{2: 10, 'D': 10, 'B': 10, 'E': 10, 'A': 10}"
      ]
     },
     "execution_count": 34,
     "metadata": {},
     "output_type": "execute_result"
    }
   ],
   "source": [
    "keyss = {'A', 2 ,'B','D','E'}\n",
    "valuess =10\n",
    "mydict10=dict.fromkeys(keyss,valuess)\n",
    "mydict10"
   ]
  },
  {
   "cell_type": "code",
   "execution_count": 36,
   "id": "111d4289-2ff5-4241-9676-e9a775553aa8",
   "metadata": {},
   "outputs": [
    {
     "data": {
      "text/plain": [
       "{2: [10, 20], 'D': [10, 20], 'B': [10, 20], 'E': [10, 20], 'A': [10, 20]}"
      ]
     },
     "execution_count": 36,
     "metadata": {},
     "output_type": "execute_result"
    }
   ],
   "source": [
    "keyss = {'A', 2 ,'B','D','E'}\n",
    "valuess =[10,20]\n",
    "mydict10=dict.fromkeys(keyss,valuess)\n",
    "mydict10"
   ]
  },
  {
   "cell_type": "code",
   "execution_count": 40,
   "id": "94b4f816-65fd-4bca-a991-89e5e91116bf",
   "metadata": {},
   "outputs": [
    {
     "data": {
      "text/plain": [
       "{2: [10, 20],\n",
       " 'D': [10, 20],\n",
       " 'B': [10, 20],\n",
       " 'F': [10, 20],\n",
       " 'E': [10, 20],\n",
       " 'A': [10, 20]}"
      ]
     },
     "execution_count": 40,
     "metadata": {},
     "output_type": "execute_result"
    }
   ],
   "source": [
    "keyss = {'A', 2 ,'B','D','E','F','F','A', 2 ,'B','D','E','F','F'}\n",
    "valuess =[10,20]\n",
    "mydict10=dict.fromkeys(keyss,valuess)\n",
    "mydict10"
   ]
  },
  {
   "cell_type": "code",
   "execution_count": 42,
   "id": "7b0acd3b-c5f5-4372-986f-6acd62138e7b",
   "metadata": {},
   "outputs": [
    {
     "data": {
      "text/plain": [
       "{2: [10, 20, 20],\n",
       " 'D': [10, 20, 20],\n",
       " 'B': [10, 20, 20],\n",
       " 'F': [10, 20, 20],\n",
       " 'E': [10, 20, 20],\n",
       " 'A': [10, 20, 20]}"
      ]
     },
     "execution_count": 42,
     "metadata": {},
     "output_type": "execute_result"
    }
   ],
   "source": [
    "valuess.append(20)\n",
    "mydict10"
   ]
  },
  {
   "cell_type": "code",
   "execution_count": 44,
   "id": "d116de1d-bd77-4cbe-9da7-2691534f108f",
   "metadata": {},
   "outputs": [],
   "source": [
    "valuess = [10,20,30,40,50,60]\n",
    "valuess.append(70)"
   ]
  },
  {
   "cell_type": "code",
   "execution_count": 48,
   "id": "baf61e1f-6a5b-4d41-b0ac-60b153a62689",
   "metadata": {},
   "outputs": [
    {
     "data": {
      "text/plain": [
       "{2: [10, 20, 30, 40, 50, 60, 70],\n",
       " 'D': [10, 20, 30, 40, 50, 60, 70],\n",
       " 'B': [10, 20, 30, 40, 50, 60, 70],\n",
       " 'F': [10, 20, 30, 40, 50, 60, 70],\n",
       " 'E': [10, 20, 30, 40, 50, 60, 70],\n",
       " 'A': [10, 20, 30, 40, 50, 60, 70]}"
      ]
     },
     "execution_count": 48,
     "metadata": {},
     "output_type": "execute_result"
    }
   ],
   "source": [
    "mydict10=dict.fromkeys(keyss,valuess)\n",
    "mydict10"
   ]
  },
  {
   "cell_type": "code",
   "execution_count": 50,
   "id": "81e63914-3801-47f2-bfca-65fb5fcdba08",
   "metadata": {},
   "outputs": [],
   "source": [
    "valuess.append(80)"
   ]
  },
  {
   "cell_type": "code",
   "execution_count": 52,
   "id": "1811981d-b528-41ff-9bce-c6d2d2832437",
   "metadata": {},
   "outputs": [
    {
     "data": {
      "text/plain": [
       "{2: [10, 20, 30, 40, 50, 60, 70, 80],\n",
       " 'D': [10, 20, 30, 40, 50, 60, 70, 80],\n",
       " 'B': [10, 20, 30, 40, 50, 60, 70, 80],\n",
       " 'F': [10, 20, 30, 40, 50, 60, 70, 80],\n",
       " 'E': [10, 20, 30, 40, 50, 60, 70, 80],\n",
       " 'A': [10, 20, 30, 40, 50, 60, 70, 80]}"
      ]
     },
     "execution_count": 52,
     "metadata": {},
     "output_type": "execute_result"
    }
   ],
   "source": [
    "mydict10"
   ]
  },
  {
   "cell_type": "code",
   "execution_count": 56,
   "id": "4081bb00-7a3b-469f-8a2e-1dbf72df2093",
   "metadata": {},
   "outputs": [
    {
     "data": {
      "text/plain": [
       "{1: 'one', 2: 'two', 3: 'three', 4: 'four'}"
      ]
     },
     "execution_count": 56,
     "metadata": {},
     "output_type": "execute_result"
    }
   ],
   "source": [
    "mydict10 = {1:'one', 2 : 'two' , 3: 'three' ,4 : 'four'}\n",
    "mydict10"
   ]
  },
  {
   "cell_type": "code",
   "execution_count": 58,
   "id": "7b34e202-f238-41b3-bd0c-a3b89a653e93",
   "metadata": {},
   "outputs": [
    {
     "data": {
      "text/plain": [
       "'one'"
      ]
     },
     "execution_count": 58,
     "metadata": {},
     "output_type": "execute_result"
    }
   ],
   "source": [
    "mydict10[1]"
   ]
  },
  {
   "cell_type": "code",
   "execution_count": 60,
   "id": "017746bb-3ef5-4526-ae7a-a455594e87cb",
   "metadata": {},
   "outputs": [
    {
     "data": {
      "text/plain": [
       "'four'"
      ]
     },
     "execution_count": 60,
     "metadata": {},
     "output_type": "execute_result"
    }
   ],
   "source": [
    "mydict10[4]"
   ]
  },
  {
   "cell_type": "code",
   "execution_count": 62,
   "id": "308771ac-d3aa-4e82-808e-454a57cd3e6c",
   "metadata": {},
   "outputs": [
    {
     "ename": "KeyError",
     "evalue": "5",
     "output_type": "error",
     "traceback": [
      "\u001b[1;31m---------------------------------------------------------------------------\u001b[0m",
      "\u001b[1;31mKeyError\u001b[0m                                  Traceback (most recent call last)",
      "Cell \u001b[1;32mIn[62], line 1\u001b[0m\n\u001b[1;32m----> 1\u001b[0m mydict10[\u001b[38;5;241m5\u001b[39m]\n",
      "\u001b[1;31mKeyError\u001b[0m: 5"
     ]
    }
   ],
   "source": [
    "mydict10[5]"
   ]
  },
  {
   "cell_type": "code",
   "execution_count": 64,
   "id": "032d57ae-a916-4360-b725-475e56704cdc",
   "metadata": {},
   "outputs": [
    {
     "data": {
      "text/plain": [
       "'one'"
      ]
     },
     "execution_count": 64,
     "metadata": {},
     "output_type": "execute_result"
    }
   ],
   "source": [
    "mydict10.get(1)"
   ]
  },
  {
   "cell_type": "code",
   "execution_count": 66,
   "id": "b78755dc-6620-426b-a0f8-f1f05ea68331",
   "metadata": {},
   "outputs": [
    {
     "data": {
      "text/plain": [
       "'four'"
      ]
     },
     "execution_count": 66,
     "metadata": {},
     "output_type": "execute_result"
    }
   ],
   "source": [
    "mydict10.get(4)"
   ]
  },
  {
   "cell_type": "code",
   "execution_count": 74,
   "id": "5d1ccb9a-627c-4262-8c54-f9599e841e22",
   "metadata": {},
   "outputs": [
    {
     "data": {
      "text/plain": [
       "{'name': 'Radhika',\n",
       " 'Job': 'Applications engineer',\n",
       " 'location': 'hyderabad',\n",
       " 'city': 'Hyderabad',\n",
       " 'Age': 10}"
      ]
     },
     "execution_count": 74,
     "metadata": {},
     "output_type": "execute_result"
    }
   ],
   "source": [
    "mydict10 = {'name' : 'Radhika' , 'Job' : 'Applications engineer' , 'location' : 'hyderabad' , 'city': 'Hyderabad','Age':10}\n",
    "mydict10"
   ]
  },
  {
   "cell_type": "code",
   "execution_count": 76,
   "id": "34f0bdce-4780-4636-b2ce-a52ee99b8966",
   "metadata": {},
   "outputs": [
    {
     "data": {
      "text/plain": [
       "'Applications engineer'"
      ]
     },
     "execution_count": 76,
     "metadata": {},
     "output_type": "execute_result"
    }
   ],
   "source": [
    "mydict10.get('Job')"
   ]
  },
  {
   "cell_type": "code",
   "execution_count": 80,
   "id": "d48cbcdd-8ba7-41a8-9e8d-9cf1a1891afb",
   "metadata": {},
   "outputs": [
    {
     "data": {
      "text/plain": [
       "10"
      ]
     },
     "execution_count": 80,
     "metadata": {},
     "output_type": "execute_result"
    }
   ],
   "source": [
    "mydict10['Age']"
   ]
  },
  {
   "cell_type": "code",
   "execution_count": 82,
   "id": "6ce9458e-5d29-4efe-b76a-ebeefc380c4b",
   "metadata": {},
   "outputs": [
    {
     "data": {
      "text/plain": [
       "{'name': 'Radhika',\n",
       " 'Job': 'Applications engineer',\n",
       " 'location': 'hyderabad',\n",
       " 'city': 'Hyderabad',\n",
       " 'Age': 15}"
      ]
     },
     "execution_count": 82,
     "metadata": {},
     "output_type": "execute_result"
    }
   ],
   "source": [
    "mydict10['Age'] = 15\n",
    "mydict10"
   ]
  },
  {
   "cell_type": "code",
   "execution_count": 84,
   "id": "cba7f21e-11fe-4e31-af1d-f33c179cf086",
   "metadata": {},
   "outputs": [
    {
     "data": {
      "text/plain": [
       "{'name': 'Radhika',\n",
       " 'Job': 'Applications engineer',\n",
       " 'location': 'hyderabad',\n",
       " 'city': 'Tirupati',\n",
       " 'Age': 15}"
      ]
     },
     "execution_count": 84,
     "metadata": {},
     "output_type": "execute_result"
    }
   ],
   "source": [
    "dict1= {'city' : 'Tirupati'}\n",
    "mydict10.update(dict1)\n",
    "mydict10"
   ]
  },
  {
   "cell_type": "code",
   "execution_count": 86,
   "id": "7d2a1622-ed20-47eb-a613-f900c6f5d9d6",
   "metadata": {},
   "outputs": [
    {
     "data": {
      "text/plain": [
       "{'name': 'Radhika',\n",
       " 'Job': 'Applications engineer',\n",
       " 'location': 'hyderabad',\n",
       " 'city': 'Tirupati',\n",
       " 'Age': 15}"
      ]
     },
     "execution_count": 86,
     "metadata": {},
     "output_type": "execute_result"
    }
   ],
   "source": [
    "mydict10"
   ]
  },
  {
   "cell_type": "code",
   "execution_count": 90,
   "id": "70e525de-23db-4316-b94b-fba618de91e1",
   "metadata": {},
   "outputs": [
    {
     "data": {
      "text/plain": [
       "{'name': 'Radhika',\n",
       " 'Job': 'Applications engineer',\n",
       " 'location': 'hyderabad',\n",
       " 'city': 'Hyderabad',\n",
       " 'Age': 10}"
      ]
     },
     "execution_count": 90,
     "metadata": {},
     "output_type": "execute_result"
    }
   ],
   "source": [
    "mydict10 = {'name' : 'Radhika' , 'Job' : 'Applications engineer' , 'location' : 'hyderabad' , 'city': 'Hyderabad','Age':10}\n",
    "mydict10"
   ]
  },
  {
   "cell_type": "code",
   "execution_count": 92,
   "id": "ecdf076f-3ebd-4209-9bfe-5b314cf7183f",
   "metadata": {},
   "outputs": [
    {
     "data": {
      "text/plain": [
       "{'name': 'Radhika',\n",
       " 'Job': 'Applications engineer',\n",
       " 'location': 'hyderabad',\n",
       " 'city': 'Hyderabad',\n",
       " 'Age': 40}"
      ]
     },
     "execution_count": 92,
     "metadata": {},
     "output_type": "execute_result"
    }
   ],
   "source": [
    "mydict10['Age'] = 40\n",
    "mydict10"
   ]
  },
  {
   "cell_type": "code",
   "execution_count": 96,
   "id": "b4c52276-fc67-4456-a7a3-d91854667847",
   "metadata": {},
   "outputs": [
    {
     "data": {
      "text/plain": [
       "{'name': 'Radhika',\n",
       " 'Job': 'Applications engineer',\n",
       " 'location': 'hyderabad',\n",
       " 'city': 'Hyderabad',\n",
       " 'Age': 50}"
      ]
     },
     "execution_count": 96,
     "metadata": {},
     "output_type": "execute_result"
    }
   ],
   "source": [
    "dict = {'Age': 50}\n",
    "mydict10.update(dict)\n",
    "mydict10"
   ]
  },
  {
   "cell_type": "code",
   "execution_count": 100,
   "id": "1e9985a2-bb67-4119-a4c3-b4be2df42999",
   "metadata": {},
   "outputs": [
    {
     "data": {
      "text/plain": [
       "{'name': 'Radhika',\n",
       " 'Job': 'Applications engineer',\n",
       " 'location': 'hyderabad',\n",
       " 'city': 'Hyderabad',\n",
       " 'Age': 50,\n",
       " 'phone': ['mobile']}"
      ]
     },
     "execution_count": 100,
     "metadata": {},
     "output_type": "execute_result"
    }
   ],
   "source": [
    "mydict10['phone'] = ['mobile']\n",
    "mydict10"
   ]
  },
  {
   "cell_type": "code",
   "execution_count": 104,
   "id": "28f29eb3-e2af-4097-87fa-5a866b191ccd",
   "metadata": {},
   "outputs": [
    {
     "data": {
      "text/plain": [
       "{'name': 'Radhika',\n",
       " 'Job': 'Applications engineer',\n",
       " 'location': 'hyderabad',\n",
       " 'city': 'Hyderabad',\n",
       " 'Age': 50,\n",
       " 'phone': ['mobile'],\n",
       " 'height': 3}"
      ]
     },
     "execution_count": 104,
     "metadata": {},
     "output_type": "execute_result"
    }
   ],
   "source": [
    "dict = {'height' : 3}\n",
    "mydict10.update(dict)\n",
    "mydict10"
   ]
  },
  {
   "cell_type": "code",
   "execution_count": 106,
   "id": "53bb2226-1c94-49dd-a5cd-b188f75e5bcc",
   "metadata": {},
   "outputs": [
    {
     "data": {
      "text/plain": [
       "{'name': 'Radhika',\n",
       " 'Job': 'Applications engineer',\n",
       " 'location': 'hyderabad',\n",
       " 'city': 'Hyderabad',\n",
       " 'Age': 50,\n",
       " 'phone': ['mobile'],\n",
       " 'height': 40}"
      ]
     },
     "execution_count": 106,
     "metadata": {},
     "output_type": "execute_result"
    }
   ],
   "source": [
    "mydict10['height'] = 40\n",
    "mydict10"
   ]
  },
  {
   "cell_type": "code",
   "execution_count": 110,
   "id": "d3c98df5-a526-4268-9d0f-dc0a54f9e3ae",
   "metadata": {},
   "outputs": [
    {
     "data": {
      "text/plain": [
       "{'name': 'Radhika',\n",
       " 'Job': 'Applications engineer',\n",
       " 'location': 'hyderabad',\n",
       " 'city': 'Hyderabad',\n",
       " 'Age': 50,\n",
       " 'phone': ['mobile'],\n",
       " 'height': 40,\n",
       " 'A': 'B'}"
      ]
     },
     "execution_count": 110,
     "metadata": {},
     "output_type": "execute_result"
    }
   ],
   "source": [
    "dict = {'A' : 'B'}\n",
    "mydict10.update(dict)\n",
    "mydict10"
   ]
  },
  {
   "cell_type": "code",
   "execution_count": 112,
   "id": "e3676675-f32e-4ca8-a1f4-9016f659ac1f",
   "metadata": {},
   "outputs": [],
   "source": [
    "del mydict10['A']"
   ]
  },
  {
   "cell_type": "code",
   "execution_count": 114,
   "id": "98f08a03-5349-47c6-bb12-17899047e1e6",
   "metadata": {},
   "outputs": [
    {
     "data": {
      "text/plain": [
       "{'name': 'Radhika',\n",
       " 'Job': 'Applications engineer',\n",
       " 'location': 'hyderabad',\n",
       " 'city': 'Hyderabad',\n",
       " 'Age': 50,\n",
       " 'phone': ['mobile'],\n",
       " 'height': 40}"
      ]
     },
     "execution_count": 114,
     "metadata": {},
     "output_type": "execute_result"
    }
   ],
   "source": [
    "mydict10"
   ]
  },
  {
   "cell_type": "code",
   "execution_count": 116,
   "id": "a1c65592-d0b1-4db1-b0ff-8ec832444ba1",
   "metadata": {},
   "outputs": [],
   "source": [
    "mydict11 = mydict10.copy()"
   ]
  },
  {
   "cell_type": "code",
   "execution_count": 118,
   "id": "dc88be9d-6cf3-4e0d-9c64-4bc6d0217bb4",
   "metadata": {},
   "outputs": [
    {
     "data": {
      "text/plain": [
       "{'name': 'Radhika',\n",
       " 'Job': 'Applications engineer',\n",
       " 'location': 'hyderabad',\n",
       " 'city': 'Hyderabad',\n",
       " 'Age': 50,\n",
       " 'phone': ['mobile'],\n",
       " 'height': 40}"
      ]
     },
     "execution_count": 118,
     "metadata": {},
     "output_type": "execute_result"
    }
   ],
   "source": [
    "mydict11"
   ]
  },
  {
   "cell_type": "code",
   "execution_count": 120,
   "id": "b841a3d4-f612-4b27-a2d4-1bfb0fcd553e",
   "metadata": {},
   "outputs": [],
   "source": [
    "del(mydict10['height'])"
   ]
  },
  {
   "cell_type": "code",
   "execution_count": 122,
   "id": "fa61b43b-bc57-45c6-a8fe-4f556c315b6e",
   "metadata": {},
   "outputs": [
    {
     "data": {
      "text/plain": [
       "{'name': 'Radhika',\n",
       " 'Job': 'Applications engineer',\n",
       " 'location': 'hyderabad',\n",
       " 'city': 'Hyderabad',\n",
       " 'Age': 50,\n",
       " 'phone': ['mobile']}"
      ]
     },
     "execution_count": 122,
     "metadata": {},
     "output_type": "execute_result"
    }
   ],
   "source": [
    "mydict10"
   ]
  },
  {
   "cell_type": "code",
   "execution_count": 124,
   "id": "e0f480fb-bd79-4356-8488-f965579eecfe",
   "metadata": {},
   "outputs": [],
   "source": [
    "mydict10.clear()"
   ]
  },
  {
   "cell_type": "code",
   "execution_count": 126,
   "id": "d9d4a4ad-4973-4a01-84aa-60999a293dab",
   "metadata": {},
   "outputs": [
    {
     "data": {
      "text/plain": [
       "{}"
      ]
     },
     "execution_count": 126,
     "metadata": {},
     "output_type": "execute_result"
    }
   ],
   "source": [
    "mydict10"
   ]
  },
  {
   "cell_type": "code",
   "execution_count": 128,
   "id": "91081a29-30ba-4d21-8fda-a9ee629a0224",
   "metadata": {},
   "outputs": [
    {
     "ename": "KeyError",
     "evalue": "'city'",
     "output_type": "error",
     "traceback": [
      "\u001b[1;31m---------------------------------------------------------------------------\u001b[0m",
      "\u001b[1;31mKeyError\u001b[0m                                  Traceback (most recent call last)",
      "Cell \u001b[1;32mIn[128], line 1\u001b[0m\n\u001b[1;32m----> 1\u001b[0m \u001b[38;5;28;01mdel\u001b[39;00m mydict10[\u001b[38;5;124m'\u001b[39m\u001b[38;5;124mcity\u001b[39m\u001b[38;5;124m'\u001b[39m]\n",
      "\u001b[1;31mKeyError\u001b[0m: 'city'"
     ]
    }
   ],
   "source": [
    "del mydict10['city']"
   ]
  },
  {
   "cell_type": "code",
   "execution_count": 130,
   "id": "1c834884-5e0c-48d4-900e-b9b5bf59b338",
   "metadata": {},
   "outputs": [
    {
     "data": {
      "text/plain": [
       "{'name': 'Radhika',\n",
       " 'Job': 'Applications engineer',\n",
       " 'location': 'hyderabad',\n",
       " 'city': 'Hyderabad',\n",
       " 'Age': 50,\n",
       " 'phone': ['mobile'],\n",
       " 'height': 40}"
      ]
     },
     "execution_count": 130,
     "metadata": {},
     "output_type": "execute_result"
    }
   ],
   "source": [
    "mydict11"
   ]
  },
  {
   "cell_type": "code",
   "execution_count": 132,
   "id": "9393341a-70d4-4d32-ba72-6f65069bbecf",
   "metadata": {},
   "outputs": [
    {
     "name": "stdout",
     "output_type": "stream",
     "text": [
      "Radhika\n",
      "Applications engineer\n",
      "hyderabad\n",
      "Hyderabad\n",
      "50\n",
      "['mobile']\n",
      "40\n"
     ]
    }
   ],
   "source": [
    "for i in mydict11 : \n",
    "    print(mydict11[i])"
   ]
  },
  {
   "cell_type": "code",
   "execution_count": 134,
   "id": "38fca287-30a3-4cee-9f9a-e96d1fc75390",
   "metadata": {},
   "outputs": [
    {
     "name": "stdout",
     "output_type": "stream",
     "text": [
      "name : Radhika\n",
      "Job : Applications engineer\n",
      "location : hyderabad\n",
      "city : Hyderabad\n",
      "Age : 50\n",
      "phone : ['mobile']\n",
      "height : 40\n"
     ]
    }
   ],
   "source": [
    "for i in mydict11 : \n",
    "    print(i , ':' ,mydict11[i])"
   ]
  },
  {
   "cell_type": "code",
   "execution_count": 136,
   "id": "b661863f-40de-4736-941c-2d2f9ae7f380",
   "metadata": {},
   "outputs": [
    {
     "data": {
      "text/plain": [
       "False"
      ]
     },
     "execution_count": 136,
     "metadata": {},
     "output_type": "execute_result"
    }
   ],
   "source": [
    "'Name' in mydict11"
   ]
  },
  {
   "cell_type": "code",
   "execution_count": 138,
   "id": "f80da5fe-1655-4caa-88cb-814672e1074e",
   "metadata": {},
   "outputs": [
    {
     "data": {
      "text/plain": [
       "True"
      ]
     },
     "execution_count": 138,
     "metadata": {},
     "output_type": "execute_result"
    }
   ],
   "source": [
    "'Job' in mydict11"
   ]
  },
  {
   "cell_type": "code",
   "execution_count": 140,
   "id": "7512aee3-7c07-4ef6-bd8e-18b16c17795d",
   "metadata": {},
   "outputs": [
    {
     "data": {
      "text/plain": [
       "False"
      ]
     },
     "execution_count": 140,
     "metadata": {},
     "output_type": "execute_result"
    }
   ],
   "source": [
    "'DOB' in mydict11"
   ]
  },
  {
   "cell_type": "code",
   "execution_count": 142,
   "id": "c1eecf41-711c-4533-a031-816fbcce4a3e",
   "metadata": {},
   "outputs": [
    {
     "data": {
      "text/plain": [
       "{'name': 'Radhika',\n",
       " 'Job': 'Applications engineer',\n",
       " 'location': 'hyderabad',\n",
       " 'city': 'Hyderabad',\n",
       " 'Age': 50,\n",
       " 'phone': ['mobile'],\n",
       " 'height': 40}"
      ]
     },
     "execution_count": 142,
     "metadata": {},
     "output_type": "execute_result"
    }
   ],
   "source": [
    "mydict11"
   ]
  },
  {
   "cell_type": "code",
   "execution_count": 182,
   "id": "b27c72b3-0c79-4513-a13f-f458bd7a38bf",
   "metadata": {},
   "outputs": [
    {
     "data": {
      "text/plain": [
       "True"
      ]
     },
     "execution_count": 182,
     "metadata": {},
     "output_type": "execute_result"
    }
   ],
   "source": [
    "all(mydict11)"
   ]
  },
  {
   "cell_type": "code",
   "execution_count": 184,
   "id": "592e6ac0-46f4-4094-8a50-8295c839299a",
   "metadata": {},
   "outputs": [
    {
     "data": {
      "text/plain": [
       "{'name': 'Radhika',\n",
       " 'Job': 'Applications engineer',\n",
       " 'location': 'hyderabad',\n",
       " 'city': 'Hyderabad',\n",
       " 'Age': 50,\n",
       " 'phone': ['mobile'],\n",
       " 'height': 40}"
      ]
     },
     "execution_count": 184,
     "metadata": {},
     "output_type": "execute_result"
    }
   ],
   "source": [
    "mydict11"
   ]
  },
  {
   "cell_type": "code",
   "execution_count": 186,
   "id": "0a25d9c8-5226-4472-8b11-a8b7b5b6c369",
   "metadata": {},
   "outputs": [
    {
     "data": {
      "text/plain": [
       "True"
      ]
     },
     "execution_count": 186,
     "metadata": {},
     "output_type": "execute_result"
    }
   ],
   "source": [
    "any(mydict11)"
   ]
  },
  {
   "cell_type": "code",
   "execution_count": null,
   "id": "676b8b7a-2f15-406f-aad8-fa08a04b424b",
   "metadata": {},
   "outputs": [],
   "source": []
  },
  {
   "cell_type": "code",
   "execution_count": 199,
   "id": "2f14cf2b-c28d-4834-ba2b-97500c1ee41d",
   "metadata": {},
   "outputs": [
    {
     "data": {
      "text/plain": [
       "range(0, 3)"
      ]
     },
     "execution_count": 199,
     "metadata": {},
     "output_type": "execute_result"
    }
   ],
   "source": [
    "range(3)"
   ]
  },
  {
   "cell_type": "code",
   "execution_count": 203,
   "id": "97f2533e-b767-4ab6-9bfa-8f6fa2525c76",
   "metadata": {},
   "outputs": [
    {
     "data": {
      "text/plain": [
       "range(0, 5)"
      ]
     },
     "execution_count": 203,
     "metadata": {},
     "output_type": "execute_result"
    }
   ],
   "source": [
    "range(5)"
   ]
  },
  {
   "cell_type": "code",
   "execution_count": 207,
   "id": "6367d4d9-5c13-4d9e-bb80-75c8ea197a7f",
   "metadata": {},
   "outputs": [
    {
     "data": {
      "text/plain": [
       "range(0, 5)"
      ]
     },
     "execution_count": 207,
     "metadata": {},
     "output_type": "execute_result"
    }
   ],
   "source": [
    "range(0,5)"
   ]
  },
  {
   "cell_type": "code",
   "execution_count": null,
   "id": "361e00fa-9e33-4a75-82f4-5e1636352a5f",
   "metadata": {},
   "outputs": [],
   "source": []
  }
 ],
 "metadata": {
  "kernelspec": {
   "display_name": "Python [conda env:base] *",
   "language": "python",
   "name": "conda-base-py"
  },
  "language_info": {
   "codemirror_mode": {
    "name": "ipython",
    "version": 3
   },
   "file_extension": ".py",
   "mimetype": "text/x-python",
   "name": "python",
   "nbconvert_exporter": "python",
   "pygments_lexer": "ipython3",
   "version": "3.12.7"
  }
 },
 "nbformat": 4,
 "nbformat_minor": 5
}
