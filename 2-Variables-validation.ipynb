{
 "cells": [
  {
   "cell_type": "raw",
   "id": "9515762c-16d9-4a46-9e57-ef833a699f6d",
   "metadata": {},
   "source": [
    "#Rules To Define variables"
   ]
  },
  {
   "cell_type": "code",
   "execution_count": 2,
   "id": "b8ea071d-cc62-4690-b395-b8cecf827a6b",
   "metadata": {},
   "outputs": [
    {
     "ename": "SyntaxError",
     "evalue": "invalid decimal literal (4042987229.py, line 1)",
     "output_type": "error",
     "traceback": [
      "\u001b[1;36m  Cell \u001b[1;32mIn[2], line 1\u001b[1;36m\u001b[0m\n\u001b[1;33m    1v=9\u001b[0m\n\u001b[1;37m    ^\u001b[0m\n\u001b[1;31mSyntaxError\u001b[0m\u001b[1;31m:\u001b[0m invalid decimal literal\n"
     ]
    }
   ],
   "source": [
    "1v=9\n",
    "1v"
   ]
  },
  {
   "cell_type": "code",
   "execution_count": 4,
   "id": "2d8df0a0-449b-4420-b1d4-ec820c001443",
   "metadata": {},
   "outputs": [
    {
     "ename": "SyntaxError",
     "evalue": "invalid syntax (1414384392.py, line 1)",
     "output_type": "error",
     "traceback": [
      "\u001b[1;36m  Cell \u001b[1;32mIn[4], line 1\u001b[1;36m\u001b[0m\n\u001b[1;33m    def = 9\u001b[0m\n\u001b[1;37m        ^\u001b[0m\n\u001b[1;31mSyntaxError\u001b[0m\u001b[1;31m:\u001b[0m invalid syntax\n"
     ]
    }
   ],
   "source": [
    "def = 9\n",
    "def"
   ]
  },
  {
   "cell_type": "code",
   "execution_count": 8,
   "id": "b246f487-04ce-41e5-8670-a82744077880",
   "metadata": {},
   "outputs": [
    {
     "ename": "NameError",
     "evalue": "name 'nit' is not defined",
     "output_type": "error",
     "traceback": [
      "\u001b[1;31m---------------------------------------------------------------------------\u001b[0m",
      "\u001b[1;31mNameError\u001b[0m                                 Traceback (most recent call last)",
      "Cell \u001b[1;32mIn[8], line 2\u001b[0m\n\u001b[0;32m      1\u001b[0m NIT \u001b[38;5;241m=\u001b[39m \u001b[38;5;241m9\u001b[39m\n\u001b[1;32m----> 2\u001b[0m nit\n",
      "\u001b[1;31mNameError\u001b[0m: name 'nit' is not defined"
     ]
    }
   ],
   "source": [
    "NIT = 9\n",
    "nit"
   ]
  },
  {
   "cell_type": "code",
   "execution_count": 10,
   "id": "2390d161-7165-42dd-b796-e600e299752f",
   "metadata": {},
   "outputs": [
    {
     "data": {
      "text/plain": [
       "9"
      ]
     },
     "execution_count": 10,
     "metadata": {},
     "output_type": "execute_result"
    }
   ],
   "source": [
    "h_ =9 \n",
    "h_"
   ]
  },
  {
   "cell_type": "code",
   "execution_count": 12,
   "id": "79c1f4a6-998a-438d-a8bd-5841c87a71a1",
   "metadata": {},
   "outputs": [
    {
     "data": {
      "text/plain": [
       "9"
      ]
     },
     "execution_count": 12,
     "metadata": {},
     "output_type": "execute_result"
    }
   ],
   "source": [
    "_6 =9 \n",
    "_6"
   ]
  },
  {
   "cell_type": "code",
   "execution_count": 14,
   "id": "e73b9e7b-3720-4f17-a492-3f3d138bbd9f",
   "metadata": {},
   "outputs": [
    {
     "data": {
      "text/plain": [
       "98"
      ]
     },
     "execution_count": 14,
     "metadata": {},
     "output_type": "execute_result"
    }
   ],
   "source": [
    "_u = 98\n",
    "_u"
   ]
  },
  {
   "cell_type": "code",
   "execution_count": 18,
   "id": "242a4f2b-15e6-40b1-b643-fd7c4aba4d6a",
   "metadata": {},
   "outputs": [
    {
     "data": {
      "text/plain": [
       "9"
      ]
     },
     "execution_count": 18,
     "metadata": {},
     "output_type": "execute_result"
    }
   ],
   "source": [
    "_nit = 9\n",
    "_nit"
   ]
  },
  {
   "cell_type": "code",
   "execution_count": 20,
   "id": "3b242c3a-2284-4454-a290-9abb3d96185c",
   "metadata": {},
   "outputs": [
    {
     "data": {
      "text/plain": [
       "98"
      ]
     },
     "execution_count": 20,
     "metadata": {},
     "output_type": "execute_result"
    }
   ],
   "source": [
    "_jgh = 98 \n",
    "_jgh"
   ]
  },
  {
   "cell_type": "code",
   "execution_count": 22,
   "id": "b68e5c7c-e86f-4dec-aa02-fcdeb6791183",
   "metadata": {},
   "outputs": [
    {
     "data": {
      "text/plain": [
       "int"
      ]
     },
     "execution_count": 22,
     "metadata": {},
     "output_type": "execute_result"
    }
   ],
   "source": [
    "type(_jgh)"
   ]
  },
  {
   "cell_type": "code",
   "execution_count": null,
   "id": "d6e42b22-124c-4846-a234-f26246bbcb10",
   "metadata": {},
   "outputs": [],
   "source": []
  }
 ],
 "metadata": {
  "kernelspec": {
   "display_name": "Python [conda env:base] *",
   "language": "python",
   "name": "conda-base-py"
  },
  "language_info": {
   "codemirror_mode": {
    "name": "ipython",
    "version": 3
   },
   "file_extension": ".py",
   "mimetype": "text/x-python",
   "name": "python",
   "nbconvert_exporter": "python",
   "pygments_lexer": "ipython3",
   "version": "3.12.7"
  }
 },
 "nbformat": 4,
 "nbformat_minor": 5
}
