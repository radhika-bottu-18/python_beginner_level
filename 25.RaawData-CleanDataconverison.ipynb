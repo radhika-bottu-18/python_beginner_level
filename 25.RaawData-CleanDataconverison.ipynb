{
 "cells": [
  {
   "cell_type": "code",
   "execution_count": 1,
   "id": "26d53c3d-7c10-45a2-a637-b8c7d80f5a3d",
   "metadata": {},
   "outputs": [],
   "source": [
    "import numpy as np\n",
    "import pandas as pd"
   ]
  },
  {
   "cell_type": "code",
   "execution_count": 2,
   "id": "cce2a65d-9876-46d0-b04d-7eac6f41b5b3",
   "metadata": {},
   "outputs": [],
   "source": [
    "raw_data= pd.read_csv(r'C:\\DataScienceAndAICourse\\february\\15th,17th - Kaggle, Dt , time split\\TASK\\Mydata-Address.csv')"
   ]
  },
  {
   "cell_type": "code",
   "execution_count": 9,
   "id": "463a85cd-138f-40e0-a134-c67928f73c01",
   "metadata": {},
   "outputs": [
    {
     "data": {
      "text/plain": [
       "0    No. 8-2-120/112,  Park View Estate, Banjara Hi...\n",
       "1    Plot No.66, Park View Enclave, Jubilee Hills, ...\n",
       "2    11-5-152/6 , Adams Umbrella Towers , Lakdikapu...\n",
       "Name: Address, dtype: object"
      ]
     },
     "execution_count": 9,
     "metadata": {},
     "output_type": "execute_result"
    }
   ],
   "source": [
    "raw_data['Address']"
   ]
  },
  {
   "cell_type": "code",
   "execution_count": 13,
   "id": "82c708ad-fbaf-4d03-9d9c-b8546755dd92",
   "metadata": {},
   "outputs": [
    {
     "name": "stdout",
     "output_type": "stream",
     "text": [
      "<class 'pandas.core.frame.DataFrame'>\n",
      "RangeIndex: 3 entries, 0 to 2\n",
      "Data columns (total 2 columns):\n",
      " #   Column         Non-Null Count  Dtype \n",
      "---  ------         --------------  ----- \n",
      " 0   Address        3 non-null      object\n",
      " 1   Date of Birth  3 non-null      object\n",
      "dtypes: object(2)\n",
      "memory usage: 180.0+ bytes\n"
     ]
    }
   ],
   "source": [
    "raw_data.info()"
   ]
  },
  {
   "cell_type": "code",
   "execution_count": 21,
   "id": "528d9d00-f47d-44b1-8df0-cc486ac943f5",
   "metadata": {},
   "outputs": [],
   "source": [
    "raw_data[['HNO' , 'Street' , 'locality' , 'city' , 'state' , 'pin code', 'country']] = raw_data['Address'].str.split(',',expand=True)"
   ]
  },
  {
   "cell_type": "code",
   "execution_count": 23,
   "id": "b9c3382b-e1f8-4f0d-81b5-29ce8773cae1",
   "metadata": {},
   "outputs": [
    {
     "data": {
      "text/html": [
       "<div>\n",
       "<style scoped>\n",
       "    .dataframe tbody tr th:only-of-type {\n",
       "        vertical-align: middle;\n",
       "    }\n",
       "\n",
       "    .dataframe tbody tr th {\n",
       "        vertical-align: top;\n",
       "    }\n",
       "\n",
       "    .dataframe thead th {\n",
       "        text-align: right;\n",
       "    }\n",
       "</style>\n",
       "<table border=\"1\" class=\"dataframe\">\n",
       "  <thead>\n",
       "    <tr style=\"text-align: right;\">\n",
       "      <th></th>\n",
       "      <th>Address</th>\n",
       "      <th>Date of Birth</th>\n",
       "      <th>HNO</th>\n",
       "      <th>Street</th>\n",
       "      <th>locality</th>\n",
       "      <th>city</th>\n",
       "      <th>state</th>\n",
       "      <th>pin code</th>\n",
       "      <th>country</th>\n",
       "    </tr>\n",
       "  </thead>\n",
       "  <tbody>\n",
       "    <tr>\n",
       "      <th>0</th>\n",
       "      <td>No. 8-2-120/112,  Park View Estate, Banjara Hi...</td>\n",
       "      <td>18.03.2001</td>\n",
       "      <td>No. 8-2-120/112</td>\n",
       "      <td>Park View Estate</td>\n",
       "      <td>Banjara Hills</td>\n",
       "      <td>Hyderabad</td>\n",
       "      <td>Telangana</td>\n",
       "      <td>500034</td>\n",
       "      <td>India</td>\n",
       "    </tr>\n",
       "    <tr>\n",
       "      <th>1</th>\n",
       "      <td>Plot No.66, Park View Enclave, Jubilee Hills, ...</td>\n",
       "      <td>22.11.1990</td>\n",
       "      <td>Plot No.66</td>\n",
       "      <td>Park View Enclave</td>\n",
       "      <td>Jubilee Hills</td>\n",
       "      <td>Hyderabad</td>\n",
       "      <td>Telangana 500033</td>\n",
       "      <td>India</td>\n",
       "      <td>None</td>\n",
       "    </tr>\n",
       "    <tr>\n",
       "      <th>2</th>\n",
       "      <td>11-5-152/6 , Adams Umbrella Towers , Lakdikapu...</td>\n",
       "      <td>11.08.1993</td>\n",
       "      <td>11-5-152/6</td>\n",
       "      <td>Adams Umbrella Towers</td>\n",
       "      <td>Lakdikapul</td>\n",
       "      <td>Hyderabad</td>\n",
       "      <td>Telangana</td>\n",
       "      <td>500004</td>\n",
       "      <td>India</td>\n",
       "    </tr>\n",
       "  </tbody>\n",
       "</table>\n",
       "</div>"
      ],
      "text/plain": [
       "                                             Address Date of Birth  \\\n",
       "0  No. 8-2-120/112,  Park View Estate, Banjara Hi...    18.03.2001   \n",
       "1  Plot No.66, Park View Enclave, Jubilee Hills, ...    22.11.1990   \n",
       "2  11-5-152/6 , Adams Umbrella Towers , Lakdikapu...    11.08.1993   \n",
       "\n",
       "               HNO                   Street        locality        city  \\\n",
       "0  No. 8-2-120/112         Park View Estate   Banjara Hills   Hyderabad   \n",
       "1       Plot No.66        Park View Enclave   Jubilee Hills   Hyderabad   \n",
       "2      11-5-152/6    Adams Umbrella Towers       Lakdikapul   Hyderabad   \n",
       "\n",
       "               state pin code country  \n",
       "0         Telangana    500034   India  \n",
       "1   Telangana 500033    India    None  \n",
       "2          Telangana   500004   India  "
      ]
     },
     "execution_count": 23,
     "metadata": {},
     "output_type": "execute_result"
    }
   ],
   "source": [
    "raw_data"
   ]
  },
  {
   "cell_type": "code",
   "execution_count": 25,
   "id": "46af5b45-56f1-492d-b4ae-98310db11b19",
   "metadata": {},
   "outputs": [
    {
     "data": {
      "text/plain": [
       "0    18.03.2001\n",
       "1    22.11.1990\n",
       "2    11.08.1993\n",
       "Name: Date of Birth, dtype: object"
      ]
     },
     "execution_count": 25,
     "metadata": {},
     "output_type": "execute_result"
    }
   ],
   "source": [
    "raw_data['Date of Birth']"
   ]
  },
  {
   "cell_type": "code",
   "execution_count": 27,
   "id": "e9be85b7-ec41-4e85-ac03-cf906086764d",
   "metadata": {},
   "outputs": [
    {
     "data": {
      "text/plain": [
       "0    [18, 03, 2001]\n",
       "1    [22, 11, 1990]\n",
       "2    [11, 08, 1993]\n",
       "Name: Date of Birth, dtype: object"
      ]
     },
     "execution_count": 27,
     "metadata": {},
     "output_type": "execute_result"
    }
   ],
   "source": [
    "raw_data['Date of Birth'].str.split('.')"
   ]
  },
  {
   "cell_type": "code",
   "execution_count": 29,
   "id": "9f05da5f-f291-4bda-97bd-1fab41c9bf7f",
   "metadata": {},
   "outputs": [
    {
     "data": {
      "text/html": [
       "<div>\n",
       "<style scoped>\n",
       "    .dataframe tbody tr th:only-of-type {\n",
       "        vertical-align: middle;\n",
       "    }\n",
       "\n",
       "    .dataframe tbody tr th {\n",
       "        vertical-align: top;\n",
       "    }\n",
       "\n",
       "    .dataframe thead th {\n",
       "        text-align: right;\n",
       "    }\n",
       "</style>\n",
       "<table border=\"1\" class=\"dataframe\">\n",
       "  <thead>\n",
       "    <tr style=\"text-align: right;\">\n",
       "      <th></th>\n",
       "      <th>0</th>\n",
       "      <th>1</th>\n",
       "      <th>2</th>\n",
       "    </tr>\n",
       "  </thead>\n",
       "  <tbody>\n",
       "    <tr>\n",
       "      <th>0</th>\n",
       "      <td>18</td>\n",
       "      <td>03</td>\n",
       "      <td>2001</td>\n",
       "    </tr>\n",
       "    <tr>\n",
       "      <th>1</th>\n",
       "      <td>22</td>\n",
       "      <td>11</td>\n",
       "      <td>1990</td>\n",
       "    </tr>\n",
       "    <tr>\n",
       "      <th>2</th>\n",
       "      <td>11</td>\n",
       "      <td>08</td>\n",
       "      <td>1993</td>\n",
       "    </tr>\n",
       "  </tbody>\n",
       "</table>\n",
       "</div>"
      ],
      "text/plain": [
       "    0   1     2\n",
       "0  18  03  2001\n",
       "1  22  11  1990\n",
       "2  11  08  1993"
      ]
     },
     "execution_count": 29,
     "metadata": {},
     "output_type": "execute_result"
    }
   ],
   "source": [
    "raw_data['Date of Birth'].str.split('.',expand=True)"
   ]
  },
  {
   "cell_type": "code",
   "execution_count": 31,
   "id": "7146c61a-34cc-45bb-a59d-063cb255d439",
   "metadata": {},
   "outputs": [],
   "source": [
    "raw_data[['Date','Month','Year']] = raw_data['Date of Birth'].str.split('.',expand=True)"
   ]
  },
  {
   "cell_type": "code",
   "execution_count": 33,
   "id": "d756844c-96f9-4442-a69e-71044d9ba0e8",
   "metadata": {},
   "outputs": [
    {
     "data": {
      "text/html": [
       "<div>\n",
       "<style scoped>\n",
       "    .dataframe tbody tr th:only-of-type {\n",
       "        vertical-align: middle;\n",
       "    }\n",
       "\n",
       "    .dataframe tbody tr th {\n",
       "        vertical-align: top;\n",
       "    }\n",
       "\n",
       "    .dataframe thead th {\n",
       "        text-align: right;\n",
       "    }\n",
       "</style>\n",
       "<table border=\"1\" class=\"dataframe\">\n",
       "  <thead>\n",
       "    <tr style=\"text-align: right;\">\n",
       "      <th></th>\n",
       "      <th>Address</th>\n",
       "      <th>Date of Birth</th>\n",
       "      <th>HNO</th>\n",
       "      <th>Street</th>\n",
       "      <th>locality</th>\n",
       "      <th>city</th>\n",
       "      <th>state</th>\n",
       "      <th>pin code</th>\n",
       "      <th>country</th>\n",
       "      <th>Date</th>\n",
       "      <th>Month</th>\n",
       "      <th>Year</th>\n",
       "    </tr>\n",
       "  </thead>\n",
       "  <tbody>\n",
       "    <tr>\n",
       "      <th>0</th>\n",
       "      <td>No. 8-2-120/112,  Park View Estate, Banjara Hi...</td>\n",
       "      <td>18.03.2001</td>\n",
       "      <td>No. 8-2-120/112</td>\n",
       "      <td>Park View Estate</td>\n",
       "      <td>Banjara Hills</td>\n",
       "      <td>Hyderabad</td>\n",
       "      <td>Telangana</td>\n",
       "      <td>500034</td>\n",
       "      <td>India</td>\n",
       "      <td>18</td>\n",
       "      <td>03</td>\n",
       "      <td>2001</td>\n",
       "    </tr>\n",
       "    <tr>\n",
       "      <th>1</th>\n",
       "      <td>Plot No.66, Park View Enclave, Jubilee Hills, ...</td>\n",
       "      <td>22.11.1990</td>\n",
       "      <td>Plot No.66</td>\n",
       "      <td>Park View Enclave</td>\n",
       "      <td>Jubilee Hills</td>\n",
       "      <td>Hyderabad</td>\n",
       "      <td>Telangana 500033</td>\n",
       "      <td>India</td>\n",
       "      <td>None</td>\n",
       "      <td>22</td>\n",
       "      <td>11</td>\n",
       "      <td>1990</td>\n",
       "    </tr>\n",
       "    <tr>\n",
       "      <th>2</th>\n",
       "      <td>11-5-152/6 , Adams Umbrella Towers , Lakdikapu...</td>\n",
       "      <td>11.08.1993</td>\n",
       "      <td>11-5-152/6</td>\n",
       "      <td>Adams Umbrella Towers</td>\n",
       "      <td>Lakdikapul</td>\n",
       "      <td>Hyderabad</td>\n",
       "      <td>Telangana</td>\n",
       "      <td>500004</td>\n",
       "      <td>India</td>\n",
       "      <td>11</td>\n",
       "      <td>08</td>\n",
       "      <td>1993</td>\n",
       "    </tr>\n",
       "  </tbody>\n",
       "</table>\n",
       "</div>"
      ],
      "text/plain": [
       "                                             Address Date of Birth  \\\n",
       "0  No. 8-2-120/112,  Park View Estate, Banjara Hi...    18.03.2001   \n",
       "1  Plot No.66, Park View Enclave, Jubilee Hills, ...    22.11.1990   \n",
       "2  11-5-152/6 , Adams Umbrella Towers , Lakdikapu...    11.08.1993   \n",
       "\n",
       "               HNO                   Street        locality        city  \\\n",
       "0  No. 8-2-120/112         Park View Estate   Banjara Hills   Hyderabad   \n",
       "1       Plot No.66        Park View Enclave   Jubilee Hills   Hyderabad   \n",
       "2      11-5-152/6    Adams Umbrella Towers       Lakdikapul   Hyderabad   \n",
       "\n",
       "               state pin code country Date Month  Year  \n",
       "0         Telangana    500034   India   18    03  2001  \n",
       "1   Telangana 500033    India    None   22    11  1990  \n",
       "2          Telangana   500004   India   11    08  1993  "
      ]
     },
     "execution_count": 33,
     "metadata": {},
     "output_type": "execute_result"
    }
   ],
   "source": [
    "raw_data"
   ]
  },
  {
   "cell_type": "code",
   "execution_count": 35,
   "id": "2c21f5df-8500-477d-8200-81c7a1cd2259",
   "metadata": {},
   "outputs": [],
   "source": [
    "raw_data.to_csv(r'C:\\DataScienceAndAICourse\\february\\15th,17th - Kaggle, Dt , time split\\TASK\\Cleaned-Address.csv')"
   ]
  },
  {
   "cell_type": "code",
   "execution_count": 37,
   "id": "338dd9dc-7096-458e-bf76-b05832995906",
   "metadata": {},
   "outputs": [],
   "source": [
    "cleaned_data = pd.read_csv(r'C:\\DataScienceAndAICourse\\february\\15th,17th - Kaggle, Dt , time split\\TASK\\Cleaned-Address.csv')"
   ]
  },
  {
   "cell_type": "code",
   "execution_count": 39,
   "id": "cc426f2c-1780-4b6c-81f4-4d1005cc1ea9",
   "metadata": {},
   "outputs": [
    {
     "data": {
      "text/html": [
       "<div>\n",
       "<style scoped>\n",
       "    .dataframe tbody tr th:only-of-type {\n",
       "        vertical-align: middle;\n",
       "    }\n",
       "\n",
       "    .dataframe tbody tr th {\n",
       "        vertical-align: top;\n",
       "    }\n",
       "\n",
       "    .dataframe thead th {\n",
       "        text-align: right;\n",
       "    }\n",
       "</style>\n",
       "<table border=\"1\" class=\"dataframe\">\n",
       "  <thead>\n",
       "    <tr style=\"text-align: right;\">\n",
       "      <th></th>\n",
       "      <th>Unnamed: 0</th>\n",
       "      <th>Address</th>\n",
       "      <th>Date of Birth</th>\n",
       "      <th>HNO</th>\n",
       "      <th>Street</th>\n",
       "      <th>locality</th>\n",
       "      <th>city</th>\n",
       "      <th>state</th>\n",
       "      <th>pin code</th>\n",
       "      <th>country</th>\n",
       "      <th>Date</th>\n",
       "      <th>Month</th>\n",
       "      <th>Year</th>\n",
       "    </tr>\n",
       "  </thead>\n",
       "  <tbody>\n",
       "    <tr>\n",
       "      <th>0</th>\n",
       "      <td>0</td>\n",
       "      <td>No. 8-2-120/112,  Park View Estate, Banjara Hi...</td>\n",
       "      <td>18.03.2001</td>\n",
       "      <td>No. 8-2-120/112</td>\n",
       "      <td>Park View Estate</td>\n",
       "      <td>Banjara Hills</td>\n",
       "      <td>Hyderabad</td>\n",
       "      <td>Telangana</td>\n",
       "      <td>500034</td>\n",
       "      <td>India</td>\n",
       "      <td>18</td>\n",
       "      <td>3</td>\n",
       "      <td>2001</td>\n",
       "    </tr>\n",
       "    <tr>\n",
       "      <th>1</th>\n",
       "      <td>1</td>\n",
       "      <td>Plot No.66, Park View Enclave, Jubilee Hills, ...</td>\n",
       "      <td>22.11.1990</td>\n",
       "      <td>Plot No.66</td>\n",
       "      <td>Park View Enclave</td>\n",
       "      <td>Jubilee Hills</td>\n",
       "      <td>Hyderabad</td>\n",
       "      <td>Telangana 500033</td>\n",
       "      <td>India</td>\n",
       "      <td>NaN</td>\n",
       "      <td>22</td>\n",
       "      <td>11</td>\n",
       "      <td>1990</td>\n",
       "    </tr>\n",
       "    <tr>\n",
       "      <th>2</th>\n",
       "      <td>2</td>\n",
       "      <td>11-5-152/6 , Adams Umbrella Towers , Lakdikapu...</td>\n",
       "      <td>11.08.1993</td>\n",
       "      <td>11-5-152/6</td>\n",
       "      <td>Adams Umbrella Towers</td>\n",
       "      <td>Lakdikapul</td>\n",
       "      <td>Hyderabad</td>\n",
       "      <td>Telangana</td>\n",
       "      <td>500004</td>\n",
       "      <td>India</td>\n",
       "      <td>11</td>\n",
       "      <td>8</td>\n",
       "      <td>1993</td>\n",
       "    </tr>\n",
       "  </tbody>\n",
       "</table>\n",
       "</div>"
      ],
      "text/plain": [
       "   Unnamed: 0                                            Address  \\\n",
       "0           0  No. 8-2-120/112,  Park View Estate, Banjara Hi...   \n",
       "1           1  Plot No.66, Park View Enclave, Jubilee Hills, ...   \n",
       "2           2  11-5-152/6 , Adams Umbrella Towers , Lakdikapu...   \n",
       "\n",
       "  Date of Birth              HNO                   Street        locality  \\\n",
       "0    18.03.2001  No. 8-2-120/112         Park View Estate   Banjara Hills   \n",
       "1    22.11.1990       Plot No.66        Park View Enclave   Jubilee Hills   \n",
       "2    11.08.1993      11-5-152/6    Adams Umbrella Towers       Lakdikapul   \n",
       "\n",
       "         city              state pin code country  Date  Month  Year  \n",
       "0   Hyderabad         Telangana    500034   India    18      3  2001  \n",
       "1   Hyderabad   Telangana 500033    India     NaN    22     11  1990  \n",
       "2   Hyderabad          Telangana   500004   India    11      8  1993  "
      ]
     },
     "execution_count": 39,
     "metadata": {},
     "output_type": "execute_result"
    }
   ],
   "source": [
    "cleaned_data"
   ]
  },
  {
   "cell_type": "code",
   "execution_count": null,
   "id": "30f79faa-cc24-4159-bccb-9e66f18e00a3",
   "metadata": {},
   "outputs": [],
   "source": []
  }
 ],
 "metadata": {
  "kernelspec": {
   "display_name": "Python [conda env:base] *",
   "language": "python",
   "name": "conda-base-py"
  },
  "language_info": {
   "codemirror_mode": {
    "name": "ipython",
    "version": 3
   },
   "file_extension": ".py",
   "mimetype": "text/x-python",
   "name": "python",
   "nbconvert_exporter": "python",
   "pygments_lexer": "ipython3",
   "version": "3.12.7"
  }
 },
 "nbformat": 4,
 "nbformat_minor": 5
}
