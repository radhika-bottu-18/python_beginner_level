{
 "cells": [
  {
   "cell_type": "code",
   "execution_count": 1,
   "id": "37b14d27-f265-49ca-af79-8affa6923307",
   "metadata": {},
   "outputs": [
    {
     "name": "stdout",
     "output_type": "stream",
     "text": [
      "R\n",
      "a\n",
      "d\n",
      "h\n",
      "i\n",
      "k\n",
      "a\n"
     ]
    }
   ],
   "source": [
    "name = 'Radhika'\n",
    "for i in name:\n",
    "    print(i)"
   ]
  },
  {
   "cell_type": "code",
   "execution_count": 2,
   "id": "f45fd326-ad9f-459b-b0ba-2b5b449b241b",
   "metadata": {},
   "outputs": [
    {
     "name": "stdout",
     "output_type": "stream",
     "text": [
      "1\n",
      "3\n",
      "2\n",
      "hello\n"
     ]
    }
   ],
   "source": [
    "list= [1,3,2,'hello']\n",
    "for i in list:\n",
    "    print(i)"
   ]
  },
  {
   "cell_type": "code",
   "execution_count": 6,
   "id": "b36fa21a-7ceb-48f1-a735-d91bc2ad7926",
   "metadata": {},
   "outputs": [
    {
     "name": "stdout",
     "output_type": "stream",
     "text": [
      "2\n",
      "3\n",
      "4\n",
      "1\n",
      "nit\n"
     ]
    }
   ],
   "source": [
    "for i in [2,3,4,1,'nit']:\n",
    "    print(i)"
   ]
  },
  {
   "cell_type": "code",
   "execution_count": 10,
   "id": "691f0c01-094e-40a2-8e61-eef597c9696e",
   "metadata": {},
   "outputs": [
    {
     "name": "stdout",
     "output_type": "stream",
     "text": [
      "0\n",
      "1\n",
      "2\n",
      "3\n",
      "4\n"
     ]
    }
   ],
   "source": [
    "for i in range(5):\n",
    "    print(i)"
   ]
  },
  {
   "cell_type": "code",
   "execution_count": 16,
   "id": "7daa7533-13c6-4709-8278-1f2839bde2db",
   "metadata": {},
   "outputs": [
    {
     "name": "stdout",
     "output_type": "stream",
     "text": [
      "5\n",
      "10\n",
      "15\n",
      "20\n",
      "25\n",
      "30\n",
      "35\n",
      "40\n",
      "45\n",
      "50\n"
     ]
    }
   ],
   "source": [
    "for i in range(1,51):\n",
    "    if i%5 ==0 :\n",
    "     print(i)"
   ]
  },
  {
   "cell_type": "code",
   "execution_count": 7,
   "id": "aa7dde33-5390-4db3-ba76-d1f70f5481a1",
   "metadata": {},
   "outputs": [
    {
     "name": "stdin",
     "output_type": "stream",
     "text": [
      "How many chocolates do you want? 5\n"
     ]
    },
    {
     "name": "stdout",
     "output_type": "stream",
     "text": [
      "Chocolate\n",
      "Chocolate\n",
      "Chocolate\n",
      "Chocolate\n",
      "Chocolate\n"
     ]
    }
   ],
   "source": [
    "x = int(input('How many chocolates do you want?'))\n",
    "\n",
    "i =1 \n",
    "while i<=x : \n",
    "    print('Chocolate')\n",
    "    i += 1 "
   ]
  },
  {
   "cell_type": "code",
   "execution_count": 11,
   "id": "3abe17b9-b6fe-4f48-ab28-67180b2476e2",
   "metadata": {},
   "outputs": [
    {
     "name": "stdin",
     "output_type": "stream",
     "text": [
      "How many chocolates do you want ?? 7\n"
     ]
    },
    {
     "name": "stdout",
     "output_type": "stream",
     "text": [
      "Chocolate\n",
      "Chocolate\n",
      "Chocolate\n",
      "Chocolate\n",
      "Chocolate\n",
      "Bye for now.\n"
     ]
    }
   ],
   "source": [
    "available_chocolate = 5 \n",
    "x = int(input('How many chocolates do you want ??'))\n",
    "i=1 \n",
    "while i<=x :\n",
    "    if i>available_chocolate :\n",
    "        break\n",
    "    print('Chocolate')\n",
    "    i=i+1\n",
    "print('Bye for now.')"
   ]
  },
  {
   "cell_type": "code",
   "execution_count": 17,
   "id": "e28a978f-c05f-4caa-872e-be35a09a661c",
   "metadata": {},
   "outputs": [
    {
     "name": "stdin",
     "output_type": "stream",
     "text": [
      "Enter number of chocolates? 7\n"
     ]
    },
    {
     "name": "stdout",
     "output_type": "stream",
     "text": [
      "Chocolate\n",
      "Chocolate\n",
      "Chocolate\n",
      "Chocolate\n",
      "Chocolate\n",
      "Out of stock\n",
      "bye for now.\n"
     ]
    }
   ],
   "source": [
    "available_chos=5\n",
    "num= int(input('Enter number of chocolates?'))\n",
    "i=1\n",
    "while i<=num :\n",
    "    if i>available_chos :\n",
    "        print('Out of stock')\n",
    "        break\n",
    "    print('Chocolate')\n",
    "    i=i+1\n",
    "print('bye for now.')"
   ]
  },
  {
   "cell_type": "code",
   "execution_count": 19,
   "id": "eff65db7-2975-4a27-be3f-26131ec39664",
   "metadata": {},
   "outputs": [
    {
     "name": "stdout",
     "output_type": "stream",
     "text": [
      "1\n",
      "2\n",
      "4\n",
      "5\n",
      "6\n",
      "7\n",
      "8\n",
      "9\n",
      "10\n"
     ]
    }
   ],
   "source": [
    "for i in range(1,11):\n",
    "    if i == 3:\n",
    "        continue\n",
    "    print(i)"
   ]
  },
  {
   "cell_type": "code",
   "execution_count": 21,
   "id": "5dc7497b-650e-46ab-848d-6d35dc8f05a3",
   "metadata": {},
   "outputs": [
    {
     "name": "stdout",
     "output_type": "stream",
     "text": [
      "hello:this is radhika 1\n",
      "hello:this is radhika 2\n",
      "hello:this is radhika 3\n",
      "hello:this is radhika 4\n",
      "hello:this is radhika 5\n",
      "hello:this is radhika 7\n",
      "hello:this is radhika 8\n",
      "hello:this is radhika 9\n",
      "hello:this is radhika 10\n"
     ]
    }
   ],
   "source": [
    "for i in range(1,11):\n",
    "    if i == 6 : \n",
    "        continue\n",
    "    print('hello:this is radhika',i)"
   ]
  },
  {
   "cell_type": "code",
   "execution_count": 23,
   "id": "b5c72402-9ef0-4e5f-b657-afd062726edf",
   "metadata": {},
   "outputs": [
    {
     "ename": "SyntaxError",
     "evalue": "incomplete input (388870565.py, line 1)",
     "output_type": "error",
     "traceback": [
      "\u001b[1;36m  Cell \u001b[1;32mIn[23], line 1\u001b[1;36m\u001b[0m\n\u001b[1;33m    for i in [2,3] :\u001b[0m\n\u001b[1;37m                     ^\u001b[0m\n\u001b[1;31mSyntaxError\u001b[0m\u001b[1;31m:\u001b[0m incomplete input\n"
     ]
    }
   ],
   "source": [
    "for i in [2,3] : "
   ]
  },
  {
   "cell_type": "code",
   "execution_count": 25,
   "id": "81418823-62f6-460c-adb9-a952215c152f",
   "metadata": {},
   "outputs": [
    {
     "name": "stdout",
     "output_type": "stream",
     "text": [
      "1\n",
      "2\n",
      "3\n",
      "4\n",
      "6\n",
      "7\n",
      "8\n",
      "9\n",
      "11\n",
      "12\n",
      "13\n",
      "14\n",
      "16\n",
      "17\n",
      "18\n",
      "19\n",
      "21\n",
      "22\n",
      "23\n",
      "24\n",
      "26\n",
      "27\n",
      "28\n",
      "29\n",
      "31\n",
      "32\n",
      "33\n",
      "34\n",
      "36\n",
      "37\n",
      "38\n",
      "39\n",
      "41\n",
      "42\n",
      "43\n",
      "44\n",
      "46\n",
      "47\n",
      "48\n",
      "49\n"
     ]
    }
   ],
   "source": [
    "for i in range(1,51):\n",
    "    if i%5==0:\n",
    "        continue\n",
    "    print(i)"
   ]
  },
  {
   "cell_type": "code",
   "execution_count": 27,
   "id": "a85d6f16-8d0c-4b2f-8353-cf34a7aff05f",
   "metadata": {},
   "outputs": [
    {
     "name": "stdout",
     "output_type": "stream",
     "text": [
      "5\n",
      "10\n",
      "15\n",
      "20\n",
      "25\n",
      "30\n",
      "35\n",
      "40\n",
      "45\n",
      "50\n"
     ]
    }
   ],
   "source": [
    "for i in range(1,51):\n",
    "    if i%5 !=0:\n",
    "        continue\n",
    "    print(i)"
   ]
  },
  {
   "cell_type": "code",
   "execution_count": 31,
   "id": "c78166e5-a5fb-4cdd-b167-9d615e0af9c7",
   "metadata": {},
   "outputs": [
    {
     "name": "stdout",
     "output_type": "stream",
     "text": [
      "15\n",
      "30\n",
      "45\n"
     ]
    }
   ],
   "source": [
    "for i in range(1,51) :\n",
    "    if(i%3 !=0 or i%5 !=0):\n",
    "        continue\n",
    "    print(i)\n",
    "    "
   ]
  },
  {
   "cell_type": "code",
   "execution_count": 36,
   "id": "3a6e1fc1-6c7d-4a97-a0ad-106194429904",
   "metadata": {},
   "outputs": [
    {
     "name": "stdout",
     "output_type": "stream",
     "text": [
      "1\n",
      "2\n",
      "3\n",
      "4\n",
      "5\n",
      "6\n",
      "7\n",
      "8\n",
      "9\n",
      "10\n",
      "11\n",
      "12\n",
      "13\n",
      "14\n",
      "16\n",
      "17\n",
      "18\n",
      "19\n",
      "20\n",
      "21\n",
      "22\n",
      "23\n",
      "24\n",
      "25\n",
      "26\n",
      "27\n",
      "28\n",
      "29\n",
      "31\n",
      "32\n",
      "33\n",
      "34\n",
      "35\n",
      "36\n",
      "37\n",
      "38\n",
      "39\n",
      "40\n",
      "41\n",
      "42\n",
      "43\n",
      "44\n",
      "46\n",
      "47\n",
      "48\n",
      "49\n",
      "end\n"
     ]
    }
   ],
   "source": [
    "for i in range(1,50):\n",
    "    if(i%3 == 0 and i%5==0):\n",
    "      continue\n",
    "    print(i)\n",
    "print('end')"
   ]
  },
  {
   "cell_type": "code",
   "execution_count": 38,
   "id": "8ee027f8-e22f-468a-b382-f1c8b176b8e3",
   "metadata": {},
   "outputs": [
    {
     "name": "stdout",
     "output_type": "stream",
     "text": [
      "3\n",
      "5\n",
      "6\n",
      "9\n",
      "10\n",
      "12\n",
      "15\n",
      "18\n",
      "20\n",
      "21\n",
      "24\n",
      "25\n",
      "27\n",
      "30\n",
      "33\n",
      "35\n",
      "36\n",
      "39\n",
      "40\n",
      "42\n",
      "45\n",
      "48\n",
      "end\n"
     ]
    }
   ],
   "source": [
    "for i in range(1,50):\n",
    "    if(i%3 != 0 and i%5 !=0):\n",
    "      continue\n",
    "    print(i)\n",
    "print('end')"
   ]
  },
  {
   "cell_type": "code",
   "execution_count": 40,
   "id": "39cc63ef-da8f-48bf-89fc-96a6c8013baa",
   "metadata": {},
   "outputs": [
    {
     "name": "stdout",
     "output_type": "stream",
     "text": [
      "1 Odd\n",
      "2 Even\n",
      "3 Odd\n",
      "4 Even\n",
      "5 Odd\n",
      "6 Even\n",
      "7 Odd\n",
      "8 Even\n",
      "9 Odd\n",
      "10 Even\n",
      "11 Odd\n",
      "12 Even\n",
      "13 Odd\n",
      "14 Even\n",
      "15 Odd\n",
      "16 Even\n",
      "17 Odd\n",
      "18 Even\n",
      "19 Odd\n",
      "20 Even\n",
      "21 Odd\n",
      "22 Even\n",
      "23 Odd\n",
      "24 Even\n",
      "25 Odd\n",
      "26 Even\n",
      "27 Odd\n",
      "28 Even\n",
      "29 Odd\n",
      "30 Even\n",
      "31 Odd\n",
      "32 Even\n",
      "33 Odd\n",
      "34 Even\n",
      "35 Odd\n",
      "36 Even\n",
      "37 Odd\n",
      "38 Even\n",
      "39 Odd\n",
      "40 Even\n",
      "41 Odd\n",
      "42 Even\n",
      "43 Odd\n",
      "44 Even\n",
      "45 Odd\n",
      "46 Even\n",
      "47 Odd\n",
      "48 Even\n",
      "49 Odd\n",
      "50 Even\n"
     ]
    }
   ],
   "source": [
    "for i in range(1,51):\n",
    "    if(i%2==0):\n",
    "        print(i,'Even')\n",
    "    else:\n",
    "        print(i,'Odd')\n",
    "    "
   ]
  },
  {
   "cell_type": "code",
   "execution_count": 42,
   "id": "4c5966b3-9258-4f57-8440-85aac58efd08",
   "metadata": {},
   "outputs": [
    {
     "name": "stdout",
     "output_type": "stream",
     "text": [
      "1\n",
      "3\n",
      "5\n",
      "7\n",
      "9\n",
      "11\n",
      "13\n",
      "15\n",
      "17\n",
      "19\n",
      "21\n",
      "23\n",
      "25\n",
      "27\n",
      "29\n",
      "31\n",
      "33\n",
      "35\n",
      "37\n",
      "39\n",
      "41\n",
      "43\n",
      "45\n",
      "47\n",
      "49\n"
     ]
    }
   ],
   "source": [
    "for i in range(1,51):\n",
    "    if(i%2==0) :\n",
    "      continue\n",
    "    else:\n",
    "        print(i)"
   ]
  },
  {
   "cell_type": "markdown",
   "id": "dd9cd5cf-8918-40e5-b725-72febd004a3a",
   "metadata": {},
   "source": [
    "#### Patterns"
   ]
  },
  {
   "cell_type": "code",
   "execution_count": 44,
   "id": "44dd3eaf-8da6-4aac-b8a5-c2ce066c41fb",
   "metadata": {},
   "outputs": [
    {
     "name": "stdout",
     "output_type": "stream",
     "text": [
      "# # # #\n",
      "# # # #\n",
      "# # # #\n",
      "# # # #\n"
     ]
    }
   ],
   "source": [
    "for i in range(1,5):\n",
    "    i=i+1\n",
    "    print('# # # #')\n",
    "    "
   ]
  },
  {
   "cell_type": "code",
   "execution_count": 46,
   "id": "f84dfdf5-f30d-4e7d-bf67-6dc49af2bdc8",
   "metadata": {},
   "outputs": [
    {
     "name": "stdout",
     "output_type": "stream",
     "text": [
      "# # # #\n",
      "# # # #\n",
      "# # # #\n",
      "# # # #\n"
     ]
    }
   ],
   "source": [
    "for i in range(1,5):\n",
    "    print('# # # #')"
   ]
  },
  {
   "cell_type": "code",
   "execution_count": 48,
   "id": "6190e1bd-db3a-46ee-8124-14c719c9bd6c",
   "metadata": {},
   "outputs": [
    {
     "name": "stdout",
     "output_type": "stream",
     "text": [
      "# # # # "
     ]
    }
   ],
   "source": [
    "for j in range(4):\n",
    "    print(\"#\",end=\" \")"
   ]
  },
  {
   "cell_type": "code",
   "execution_count": 58,
   "id": "357c85f5-661b-4dcd-ada0-df1e2c5ef405",
   "metadata": {},
   "outputs": [
    {
     "name": "stdout",
     "output_type": "stream",
     "text": [
      "# # # # # # # # "
     ]
    }
   ],
   "source": [
    "for j in range(4):\n",
    "    print(\"#\",end=\" \")\n",
    "for j in range(4):\n",
    "   print(\"#\",end=\" \")"
   ]
  },
  {
   "cell_type": "code",
   "execution_count": 62,
   "id": "46f3b10c-f008-43ac-8b39-072d3a9c7fb7",
   "metadata": {},
   "outputs": [
    {
     "name": "stdout",
     "output_type": "stream",
     "text": [
      "# # # # # \n",
      "#\n",
      "#\n",
      "#\n",
      "#\n",
      "#\n"
     ]
    }
   ],
   "source": [
    "for j in range(5):\n",
    "    print(\"#\",end=\" \")\n",
    "print()\n",
    "for j in range(5):\n",
    "    print(\"#\")"
   ]
  },
  {
   "cell_type": "code",
   "execution_count": 66,
   "id": "b8ce4180-7936-4079-b8b7-69580a60ba4f",
   "metadata": {},
   "outputs": [
    {
     "name": "stdout",
     "output_type": "stream",
     "text": [
      "# # # # \n",
      "# # # # \n",
      "# # # # \n",
      "# # # # "
     ]
    }
   ],
   "source": [
    "for j in range(4):\n",
    "    print(\"#\",end=\" \")\n",
    "print()\n",
    "for j in range(4):\n",
    "    print(\"#\",end=\" \")\n",
    "print()\n",
    "for j in range(4):\n",
    "    print(\"#\",end=\" \")\n",
    "print()\n",
    "for j in range(4):\n",
    "       print(\"#\",end=\" \")"
   ]
  },
  {
   "cell_type": "code",
   "execution_count": 68,
   "id": "74734bc6-7623-4764-821c-f6b26767603c",
   "metadata": {},
   "outputs": [
    {
     "name": "stdout",
     "output_type": "stream",
     "text": [
      "# # # # \n",
      "# # # # \n",
      "# # # # \n",
      "# # # # \n"
     ]
    }
   ],
   "source": [
    "for i in range(4):\n",
    "    for j in range(4):\n",
    "        print(\"#\",end=\" \")\n",
    "    print()\n"
   ]
  },
  {
   "cell_type": "code",
   "execution_count": 76,
   "id": "4c54d754-96a6-4bfb-98e5-bf240d0cfb64",
   "metadata": {},
   "outputs": [
    {
     "name": "stdout",
     "output_type": "stream",
     "text": [
      "# # # # # # # # # # # # # # # # "
     ]
    }
   ],
   "source": [
    "for i in range(4):\n",
    "   for j in range(4) :\n",
    "      print(\"#\" , end=\" \")"
   ]
  },
  {
   "cell_type": "code",
   "execution_count": 82,
   "id": "a4e51139-a715-4019-a303-bb80c290c1b3",
   "metadata": {},
   "outputs": [
    {
     "name": "stdout",
     "output_type": "stream",
     "text": [
      "# \n",
      "# # \n",
      "# # # \n",
      "# # # # \n"
     ]
    }
   ],
   "source": [
    "for i in range(4):\n",
    "    for j in range(0,i+1):\n",
    "      print(\"#\",end=\" \")\n",
    "    print()"
   ]
  },
  {
   "cell_type": "code",
   "execution_count": 86,
   "id": "378d44d6-5227-43f5-ad0a-61f7c7b42ec6",
   "metadata": {},
   "outputs": [
    {
     "name": "stdout",
     "output_type": "stream",
     "text": [
      "\n",
      "# \n",
      "# # \n",
      "# # # \n",
      "# # # # \n"
     ]
    }
   ],
   "source": [
    "for i in range(5):\n",
    "    print(\"# \"*i)"
   ]
  },
  {
   "cell_type": "code",
   "execution_count": 102,
   "id": "b8683f2b-313a-460e-a006-f4bf42621242",
   "metadata": {},
   "outputs": [
    {
     "name": "stdout",
     "output_type": "stream",
     "text": [
      "# \n",
      "# # \n",
      "# # # \n",
      "# # # # \n"
     ]
    }
   ],
   "source": [
    "for i in range(1,5):\n",
    "    for j in range(4):\n",
    "        if i>j : \n",
    "            print(\"#\",end=\" \")\n",
    "    print()       "
   ]
  },
  {
   "cell_type": "code",
   "execution_count": 112,
   "id": "c5692e45-f9ac-4153-b7a2-9ccb3cafc428",
   "metadata": {},
   "outputs": [
    {
     "ename": "TypeError",
     "evalue": "'list' object is not callable",
     "output_type": "error",
     "traceback": [
      "\u001b[1;31m---------------------------------------------------------------------------\u001b[0m",
      "\u001b[1;31mTypeError\u001b[0m                                 Traceback (most recent call last)",
      "Cell \u001b[1;32mIn[112], line 1\u001b[0m\n\u001b[1;32m----> 1\u001b[0m \u001b[38;5;28mprint\u001b[39m(\u001b[38;5;28mlist\u001b[39m(\u001b[38;5;28mrange\u001b[39m(\u001b[38;5;241m4\u001b[39m)))\n",
      "\u001b[1;31mTypeError\u001b[0m: 'list' object is not callable"
     ]
    }
   ],
   "source": []
  },
  {
   "cell_type": "code",
   "execution_count": 114,
   "id": "2f881dfc-2cbc-4604-93d5-4c05ce18e5ba",
   "metadata": {},
   "outputs": [
    {
     "data": {
      "text/plain": [
       "range(0, 4)"
      ]
     },
     "execution_count": 114,
     "metadata": {},
     "output_type": "execute_result"
    }
   ],
   "source": [
    "range(4)"
   ]
  },
  {
   "cell_type": "code",
   "execution_count": 116,
   "id": "b1b9846b-98ef-4ad8-99a6-075ef6260f45",
   "metadata": {},
   "outputs": [
    {
     "name": "stdout",
     "output_type": "stream",
     "text": [
      "\n",
      "# \n",
      "# # \n",
      "# # # \n"
     ]
    }
   ],
   "source": [
    "for i in range(4):\n",
    "    for j in range(i):\n",
    "        print(\"#\",end=\" \")\n",
    "    print()"
   ]
  },
  {
   "cell_type": "code",
   "execution_count": 118,
   "id": "8e9bf77a-90ea-4395-bcb9-77b742464d73",
   "metadata": {},
   "outputs": [
    {
     "name": "stdout",
     "output_type": "stream",
     "text": [
      "# # # # \n",
      "# # # \n",
      "# # \n",
      "# \n"
     ]
    }
   ],
   "source": [
    "for i in range(4):\n",
    "    for j in range(4-i):\n",
    "       print(\"#\",end=\" \")\n",
    "    print()"
   ]
  },
  {
   "cell_type": "code",
   "execution_count": 122,
   "id": "6d5331d4-fe04-46e9-afca-ae1638456784",
   "metadata": {},
   "outputs": [
    {
     "name": "stdout",
     "output_type": "stream",
     "text": [
      "# # # # # \n",
      "# # # # \n",
      "# # # \n",
      "# # \n",
      "# \n"
     ]
    }
   ],
   "source": [
    "for i in range(5):\n",
    "    print(\"# \"*(5-i))"
   ]
  },
  {
   "cell_type": "code",
   "execution_count": 124,
   "id": "d807702c-6e1c-4a75-ae17-ec2da7fd1d24",
   "metadata": {},
   "outputs": [
    {
     "name": "stdout",
     "output_type": "stream",
     "text": [
      "15\n",
      "20\n",
      "25\n"
     ]
    }
   ],
   "source": [
    "nums = [1,12,14,15,16,20,25]\n",
    "\n",
    "for num in nums:\n",
    "    if num %5 == 0 : \n",
    "        print(num)\n",
    "        "
   ]
  },
  {
   "cell_type": "code",
   "execution_count": 128,
   "id": "889851f0-5e4a-4eb5-b937-2a3db5e367e5",
   "metadata": {},
   "outputs": [
    {
     "data": {
      "text/plain": [
       "[12, 12, 24, 20, 25]"
      ]
     },
     "execution_count": 128,
     "metadata": {},
     "output_type": "execute_result"
    }
   ],
   "source": [
    "nums = [12,12,24,20,25]\n",
    "nums"
   ]
  },
  {
   "cell_type": "code",
   "execution_count": 130,
   "id": "52a4e4ca-26f5-41a4-bd75-8563c6aec719",
   "metadata": {},
   "outputs": [
    {
     "name": "stdout",
     "output_type": "stream",
     "text": [
      "15\n"
     ]
    }
   ],
   "source": [
    "nums = [12,15,12,20,25,30]\n",
    "for num in nums:\n",
    "    if(num % 5 == 0):\n",
    "        print(num)\n",
    "        break"
   ]
  },
  {
   "cell_type": "code",
   "execution_count": 132,
   "id": "7b5e95b1-c4bb-44ed-a8bf-69119e19be05",
   "metadata": {},
   "outputs": [
    {
     "name": "stdout",
     "output_type": "stream",
     "text": [
      "15\n"
     ]
    }
   ],
   "source": [
    "nums = [12,15,12,20,25,30]\n",
    "for num in nums:\n",
    "    if(num % 5 == 0):\n",
    "        print(num)\n",
    "        break\n",
    "else:\n",
    "    print(\"Found first multiple of 5\")"
   ]
  },
  {
   "cell_type": "code",
   "execution_count": 136,
   "id": "eda133a9-2fc4-4536-bb45-43c0f531e30c",
   "metadata": {},
   "outputs": [
    {
     "name": "stdout",
     "output_type": "stream",
     "text": [
      "Not found any multiple of 5\n"
     ]
    }
   ],
   "source": [
    "nums = [12,16,12,21,22,33]\n",
    "for num in nums:\n",
    "    if(num % 5 == 0):\n",
    "        print(num)\n",
    "        break\n",
    "else:\n",
    "    print(\"Not found any multiple of 5\")"
   ]
  },
  {
   "cell_type": "code",
   "execution_count": 138,
   "id": "7f8d0ecb-20e7-43c3-b196-5fd407265587",
   "metadata": {},
   "outputs": [],
   "source": [
    "nums=[3,2,4,7,8]\n",
    "for num in nums : \n",
    "    if num%5 ==0 : \n",
    "        break"
   ]
  },
  {
   "cell_type": "code",
   "execution_count": 140,
   "id": "e2d4e8e2-cbbc-4d9e-84cc-ef3363be1695",
   "metadata": {},
   "outputs": [
    {
     "name": "stdout",
     "output_type": "stream",
     "text": [
      "multiple of 5 not found.\n"
     ]
    }
   ],
   "source": [
    "nums=[3,2,4,7,8]\n",
    "for num in nums : \n",
    "    if num%5 ==0 : \n",
    "        break\n",
    "else:\n",
    "    print(\"multiple of 5 not found.\")"
   ]
  },
  {
   "cell_type": "code",
   "execution_count": 142,
   "id": "6f4165a8-35a9-4313-bb07-c28253f33b01",
   "metadata": {},
   "outputs": [
    {
     "name": "stdout",
     "output_type": "stream",
     "text": [
      "Number not found.\n",
      "Number not found.\n"
     ]
    }
   ],
   "source": [
    "nums = [7,14]\n",
    "for num in nums:\n",
    "    if(num%5==0) : \n",
    "        print(num)\n",
    "        break\n",
    "    else:\n",
    "        print(\"Number not found.\")"
   ]
  },
  {
   "cell_type": "code",
   "execution_count": 148,
   "id": "f6c72819-cb92-450a-8209-f40d479dcd1d",
   "metadata": {},
   "outputs": [
    {
     "name": "stdout",
     "output_type": "stream",
     "text": [
      "Number not found.\n"
     ]
    }
   ],
   "source": [
    "nums = [7,14]\n",
    "for num in nums:\n",
    "    if(num%5==0) : \n",
    "        print(num)\n",
    "        break\n",
    "else:\n",
    "        print(\"Number not found.\")"
   ]
  },
  {
   "cell_type": "code",
   "execution_count": 5,
   "id": "412fc2c2-d6f7-45f7-8744-2659773de707",
   "metadata": {},
   "outputs": [
    {
     "name": "stdout",
     "output_type": "stream",
     "text": [
      "10\n"
     ]
    }
   ],
   "source": [
    "nums = [10,12,14,21,20,27]\n",
    "\n",
    "for num in nums:\n",
    "    if num %5 == 0 : \n",
    "        print(num)\n",
    "        break\n",
    "    else:\n",
    "        print(num,' not a multiple of 5')\n"
   ]
  },
  {
   "cell_type": "code",
   "execution_count": 7,
   "id": "a28f8202-de10-459d-b57c-bb7d983843a8",
   "metadata": {},
   "outputs": [
    {
     "name": "stdout",
     "output_type": "stream",
     "text": [
      "10\n",
      "12  not a multiple of 5\n",
      "14  not a multiple of 5\n",
      "21  not a multiple of 5\n",
      "20\n",
      "27  not a multiple of 5\n"
     ]
    }
   ],
   "source": [
    "nums = [10,12,14,21,20,27]\n",
    "\n",
    "for num in nums:\n",
    "    if num %5 == 0 : \n",
    "        print(num)\n",
    "        #break\n",
    "    else:\n",
    "        print(num,' not a multiple of 5')\n"
   ]
  },
  {
   "cell_type": "code",
   "execution_count": 9,
   "id": "17fd8727-9403-4675-9fae-a2d81927d652",
   "metadata": {},
   "outputs": [
    {
     "name": "stdout",
     "output_type": "stream",
     "text": [
      "10\n"
     ]
    }
   ],
   "source": [
    "nums = [10,14,18,21,20,27]\n",
    "for num in nums: \n",
    "    if num%5 == 0:\n",
    "        print(num)\n",
    "        break\n",
    "else:\n",
    "    print('Not found')"
   ]
  },
  {
   "cell_type": "code",
   "execution_count": 17,
   "id": "21bcf927-ba0d-400b-bdce-6b0e82672e56",
   "metadata": {},
   "outputs": [
    {
     "name": "stdin",
     "output_type": "stream",
     "text": [
      "Enter the number : 17\n"
     ]
    },
    {
     "name": "stdout",
     "output_type": "stream",
     "text": [
      "Prime number\n"
     ]
    }
   ],
   "source": [
    "num = int(input('Enter the number :'))\n",
    "for i in range(2,num):\n",
    "    if num % i ==0 :\n",
    "        print(num , ' Is not a primt number')\n",
    "        break\n",
    "else:\n",
    "    print('Prime number')"
   ]
  },
  {
   "cell_type": "code",
   "execution_count": 25,
   "id": "6b765675-8777-4bba-828a-9d10e6817cd4",
   "metadata": {},
   "outputs": [
    {
     "name": "stdin",
     "output_type": "stream",
     "text": [
      "Enter the length of the array 7\n",
      "Enter the next value: 1\n",
      "Enter the next value: 2\n",
      "Enter the next value: 3\n",
      "Enter the next value: 4\n",
      "Enter the next value: 5\n",
      "Enter the next value: 6\n",
      "Enter the next value: 7\n"
     ]
    },
    {
     "name": "stdout",
     "output_type": "stream",
     "text": [
      "array('i', [1, 2, 3, 4, 5, 6, 7])\n"
     ]
    }
   ],
   "source": [
    "from array import * \n",
    "arr = array('i',[])\n",
    "n= int(input('Enter the length of the array'))\n",
    "\n",
    "for i in range(n):\n",
    "    x= int(input('Enter the next value:'))\n",
    "    arr.append(x)\n",
    "print(arr)"
   ]
  },
  {
   "cell_type": "code",
   "execution_count": 35,
   "id": "d513046e-c409-4afc-96fc-32b6f0752e5d",
   "metadata": {},
   "outputs": [
    {
     "name": "stdin",
     "output_type": "stream",
     "text": [
      "Enter the length of the array. 7\n",
      "Enter the next value 1\n",
      "Enter the next value 2\n",
      "Enter the next value 3\n",
      "Enter the next value 4\n",
      "Enter the next value 5\n",
      "Enter the next value 6\n",
      "Enter the next value 7\n"
     ]
    },
    {
     "name": "stdout",
     "output_type": "stream",
     "text": [
      "array('i', [1, 2, 3, 4, 5, 6, 7])\n"
     ]
    }
   ],
   "source": [
    "from array import *\n",
    "arr= array('i',[])\n",
    "n = int(input('Enter the length of the array.'))\n",
    "for i in range(n):\n",
    "    x= int(input('Enter the next value'))\n",
    "    arr.append(x)\n",
    "print(arr)"
   ]
  },
  {
   "cell_type": "code",
   "execution_count": 31,
   "id": "ddfb976c-678d-422a-aa03-b5dcfecdf3f9",
   "metadata": {},
   "outputs": [
    {
     "name": "stdout",
     "output_type": "stream",
     "text": [
      "[1 2 3 4 5]\n"
     ]
    },
    {
     "data": {
      "text/plain": [
       "numpy.ndarray"
      ]
     },
     "execution_count": 31,
     "metadata": {},
     "output_type": "execute_result"
    }
   ],
   "source": [
    "from numpy import * \n",
    "arr = array([1,2,3,4,5])\n",
    "print(arr)\n",
    "type(arr)"
   ]
  },
  {
   "cell_type": "code",
   "execution_count": 33,
   "id": "96f95fff-0320-49b2-af01-f327ab4ce4d8",
   "metadata": {},
   "outputs": [
    {
     "name": "stdout",
     "output_type": "stream",
     "text": [
      "int32\n"
     ]
    }
   ],
   "source": [
    "print(arr.dtype)"
   ]
  },
  {
   "cell_type": "code",
   "execution_count": null,
   "id": "85184410-436f-471b-bfe6-603572f32c62",
   "metadata": {},
   "outputs": [],
   "source": []
  }
 ],
 "metadata": {
  "kernelspec": {
   "display_name": "Python [conda env:base] *",
   "language": "python",
   "name": "conda-base-py"
  },
  "language_info": {
   "codemirror_mode": {
    "name": "ipython",
    "version": 3
   },
   "file_extension": ".py",
   "mimetype": "text/x-python",
   "name": "python",
   "nbconvert_exporter": "python",
   "pygments_lexer": "ipython3",
   "version": "3.12.7"
  }
 },
 "nbformat": 4,
 "nbformat_minor": 5
}
