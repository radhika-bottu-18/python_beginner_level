{
 "cells": [
  {
   "cell_type": "code",
   "execution_count": 5,
   "id": "11411fe2-7d47-4bb2-bef4-f761129323df",
   "metadata": {},
   "outputs": [
    {
     "name": "stdin",
     "output_type": "stream",
     "text": [
      "Enter a number 3\n"
     ]
    },
    {
     "name": "stdout",
     "output_type": "stream",
     "text": [
      "Odd\n"
     ]
    }
   ],
   "source": [
    "num = int(input('Enter a number'))\n",
    "if num % 2 == 0 :\n",
    " print(\"Even\")\n",
    "else: \n",
    " print(\"Odd\")"
   ]
  },
  {
   "cell_type": "code",
   "execution_count": 11,
   "id": "ab85025e-dd29-4f37-b9b0-8252493f16e2",
   "metadata": {},
   "outputs": [
    {
     "name": "stdin",
     "output_type": "stream",
     "text": [
      "Enter age: 10\n"
     ]
    },
    {
     "name": "stdout",
     "output_type": "stream",
     "text": [
      "Not eligible to vote\n"
     ]
    }
   ],
   "source": [
    "age = int(input('Enter age:'))\n",
    "if age >= 18 : \n",
    "  print('Eligible to vote')\n",
    "else:\n",
    "  print('Not eligible to vote')"
   ]
  },
  {
   "cell_type": "code",
   "execution_count": 15,
   "id": "fd592dc2-dcf6-48f5-9838-c3ebe5143243",
   "metadata": {},
   "outputs": [
    {
     "name": "stdin",
     "output_type": "stream",
     "text": [
      "Enter the year 2020\n"
     ]
    },
    {
     "name": "stdout",
     "output_type": "stream",
     "text": [
      "Leap Year\n"
     ]
    }
   ],
   "source": [
    "year = int(input('Enter the year'))\n",
    "if((year % 4 == 0 and year %100 !=0) or (year % 400 ==0)):\n",
    "    print(\"Leap Year\")\n",
    "else: \n",
    "    print(\"Not a leap year\")"
   ]
  },
  {
   "cell_type": "code",
   "execution_count": 17,
   "id": "071d6c52-ef63-4fb0-937f-63e14337e945",
   "metadata": {},
   "outputs": [
    {
     "name": "stdin",
     "output_type": "stream",
     "text": [
      "Enter if its a positive number or not? -3\n"
     ]
    },
    {
     "name": "stdout",
     "output_type": "stream",
     "text": [
      "Negative\n"
     ]
    }
   ],
   "source": [
    "num = int(input('Enter if its a positive number or not?'))\n",
    "if num > 0 : \n",
    "    print(\"Positive\")\n",
    "elif num < 0 : \n",
    "    print(\"Negative\")\n",
    "else:\n",
    "    print(\"Zero\")"
   ]
  },
  {
   "cell_type": "code",
   "execution_count": 23,
   "id": "982ef9e4-69d0-4b66-a15a-b14b0f254daf",
   "metadata": {},
   "outputs": [
    {
     "name": "stdin",
     "output_type": "stream",
     "text": [
      "Enter first number : 3\n",
      "Enter second number: 4\n"
     ]
    },
    {
     "name": "stdout",
     "output_type": "stream",
     "text": [
      "Greatest 4\n"
     ]
    }
   ],
   "source": [
    "a = int(input(\"Enter first number :\"))\n",
    "b = int(input(\"Enter second number:\"))\n",
    "if a>b : \n",
    "    print(\"Greatest\",a)\n",
    "else:\n",
    "    print(\"Greatest\",b)"
   ]
  },
  {
   "cell_type": "code",
   "execution_count": 27,
   "id": "7e4409c5-51af-460e-b44f-1f1b215e1d59",
   "metadata": {},
   "outputs": [
    {
     "name": "stdin",
     "output_type": "stream",
     "text": [
      "Enter a number: 4\n"
     ]
    },
    {
     "name": "stdout",
     "output_type": "stream",
     "text": [
      "Not a multipe of 5\n"
     ]
    }
   ],
   "source": [
    "num = int(input(\"Enter a number:\"))\n",
    "if num % 5 == 0 : \n",
    "    print(\"Multiple of 5\")\n",
    "else :\n",
    "    print(\"Not a multipe of 5\")"
   ]
  },
  {
   "cell_type": "code",
   "execution_count": 3,
   "id": "f0196646-262b-4af3-85dc-e76b0880d711",
   "metadata": {},
   "outputs": [
    {
     "name": "stdin",
     "output_type": "stream",
     "text": [
      "Enter a character: elegant\n"
     ]
    },
    {
     "name": "stdout",
     "output_type": "stream",
     "text": [
      "Consonant\n"
     ]
    }
   ],
   "source": [
    "char = input(\"Enter a character:\").lower()\n",
    "if char in 'aeiou':\n",
    "    print('Vowel')\n",
    "else:\n",
    "    print('Consonant')"
   ]
  },
  {
   "cell_type": "code",
   "execution_count": 5,
   "id": "d52b0ed4-ffb6-4a14-bc6a-acad52fd0c48",
   "metadata": {},
   "outputs": [
    {
     "name": "stdin",
     "output_type": "stream",
     "text": [
      "Enter age: 40\n"
     ]
    },
    {
     "name": "stdout",
     "output_type": "stream",
     "text": [
      "Not eligible\n"
     ]
    }
   ],
   "source": [
    "age = int(input('Enter age:'))\n",
    "if age>60:\n",
    "    print(\"Eligible for senior citizen discount\")\n",
    "else:\n",
    "    print(\"Not eligible\")"
   ]
  },
  {
   "cell_type": "code",
   "execution_count": 13,
   "id": "be43c627-907a-4f23-b62c-4019d170cd56",
   "metadata": {},
   "outputs": [
    {
     "name": "stdin",
     "output_type": "stream",
     "text": [
      "Enter a number: 45\n"
     ]
    },
    {
     "name": "stdout",
     "output_type": "stream",
     "text": [
      "Not a single digit number\n"
     ]
    }
   ],
   "source": [
    "num = int(input(\"Enter a number:\"))\n",
    "if 0<= abs(num) <10 : \n",
    " print(\"single digit number\")\n",
    "else:\n",
    " print(\"Not a single digit number\")\n"
   ]
  },
  {
   "cell_type": "code",
   "execution_count": 21,
   "id": "692359c8-bedc-4f23-bd0a-5b0a399a3e3d",
   "metadata": {},
   "outputs": [
    {
     "name": "stdin",
     "output_type": "stream",
     "text": [
      "Enter hour in 24 hour format 15\n"
     ]
    },
    {
     "name": "stdout",
     "output_type": "stream",
     "text": [
      "Afternoon\n"
     ]
    }
   ],
   "source": [
    "hour = int(input(\"Enter hour in 24 hour format\"))\n",
    "if hour < 12: \n",
    "    print(\"Good Morning\")\n",
    "else:\n",
    "    print(\"Afternoon\")"
   ]
  },
  {
   "cell_type": "code",
   "execution_count": 31,
   "id": "0dfc51d2-1e4b-48c4-ae42-099cb4edb23b",
   "metadata": {},
   "outputs": [
    {
     "name": "stdin",
     "output_type": "stream",
     "text": [
      "Enter a string \n"
     ]
    },
    {
     "name": "stdout",
     "output_type": "stream",
     "text": [
      "Empty string\n"
     ]
    }
   ],
   "source": [
    "s = input(\"Enter a string\")\n",
    "if not s:\n",
    " print(\"Empty string\")\n",
    "else:\n",
    " print(\"Non empty string\")"
   ]
  },
  {
   "cell_type": "code",
   "execution_count": 37,
   "id": "1ab5f8b5-270d-40dc-a519-8fa1f78b80e3",
   "metadata": {},
   "outputs": [
    {
     "name": "stdin",
     "output_type": "stream",
     "text": [
      "Enter a number 3\n"
     ]
    },
    {
     "name": "stdout",
     "output_type": "stream",
     "text": [
      "Not a perfrct square\n"
     ]
    }
   ],
   "source": [
    "import math \n",
    "num =int(input(\"Enter a number\"))\n",
    "if math.isqrt(num)**2 == num:\n",
    "    print(\"Perfect square\")\n",
    "else:\n",
    "    print(\"Not a perfrct square\")"
   ]
  },
  {
   "cell_type": "code",
   "execution_count": 5,
   "id": "a8890a41-d317-48ed-a961-29e67707022d",
   "metadata": {},
   "outputs": [
    {
     "name": "stdin",
     "output_type": "stream",
     "text": [
      "Enter a number: 56\n"
     ]
    },
    {
     "name": "stdout",
     "output_type": "stream",
     "text": [
      "Number is in range\n"
     ]
    }
   ],
   "source": [
    "num = int(input(\"Enter a number:\"))\n",
    "if 1 <=num <=100 : \n",
    "    print(\"Number is in range\")\n",
    "else: \n",
    "    print(\"Number is out of range\")"
   ]
  },
  {
   "cell_type": "code",
   "execution_count": 9,
   "id": "2777ba61-6d5a-401d-96f6-7545e44cc4b7",
   "metadata": {
    "scrolled": true
   },
   "outputs": [
    {
     "name": "stdin",
     "output_type": "stream",
     "text": [
      "Enter a number 6\n"
     ]
    },
    {
     "name": "stdout",
     "output_type": "stream",
     "text": [
      "Not a perfect square.\n"
     ]
    }
   ],
   "source": [
    "import math\n",
    "num = int(input(\"Enter a number\"))\n",
    "if(math.sqrt(num)**2 == num):\n",
    "    print(\"Perfect square.\")\n",
    "else: \n",
    "    print(\"Not a perfect square.\")"
   ]
  },
  {
   "cell_type": "code",
   "execution_count": 13,
   "id": "9d09fa29-8488-477b-b9dd-bc2878977752",
   "metadata": {},
   "outputs": [
    {
     "name": "stdin",
     "output_type": "stream",
     "text": [
      "Enter the day. Monday\n"
     ]
    },
    {
     "name": "stdout",
     "output_type": "stream",
     "text": [
      "Is not a weekend.\n"
     ]
    }
   ],
   "source": [
    "day = input(\"Enter the day.\")\n",
    "if(day in ['Saturday','Sunday']):\n",
    "    print(\"Is Weekend\")\n",
    "else:\n",
    "    print(\"Is not a weekend.\")"
   ]
  },
  {
   "cell_type": "code",
   "execution_count": 19,
   "id": "955cff4a-2cc7-49d1-86b3-53178d52ed7c",
   "metadata": {},
   "outputs": [
    {
     "name": "stdin",
     "output_type": "stream",
     "text": [
      "Enter a number. 30\n"
     ]
    },
    {
     "name": "stdout",
     "output_type": "stream",
     "text": [
      "Number is not divisble by both.\n"
     ]
    }
   ],
   "source": [
    "num = int(input(\"Enter a number.\"))\n",
    "if(num%3 ==0 and num % 7 ==0):\n",
    "    print(\"Number is divisble by both 3 and 7\")\n",
    "else:\n",
    "    print(\"Number is not divisble by both.\")"
   ]
  },
  {
   "cell_type": "code",
   "execution_count": 23,
   "id": "2c91a324-46dc-480c-86b4-1f950e621a0f",
   "metadata": {},
   "outputs": [
    {
     "name": "stdin",
     "output_type": "stream",
     "text": [
      "Enter number a : 100\n",
      "Enter number b: 11\n"
     ]
    },
    {
     "name": "stdout",
     "output_type": "stream",
     "text": [
      "Number is greater than 100.\n"
     ]
    }
   ],
   "source": [
    "a = int(input(\"Enter number a :\"))\n",
    "b = int(input(\"Enter number b:\"))\n",
    "if a+b > 100 : \n",
    "    print(\"Number is greater than 100.\")\n",
    "else: \n",
    "    print(\"Number is not greater than 100.\")"
   ]
  },
  {
   "cell_type": "code",
   "execution_count": 27,
   "id": "73923583-25a9-4b31-9426-fcc7aa827362",
   "metadata": {},
   "outputs": [
    {
     "name": "stdin",
     "output_type": "stream",
     "text": [
      "Enter an alphabet b\n"
     ]
    },
    {
     "name": "stdout",
     "output_type": "stream",
     "text": [
      "Is lower case letter\n"
     ]
    }
   ],
   "source": [
    "char = input('Enter an alphabet')\n",
    "if char.isupper():\n",
    "    print(\"Is uppercase letter\")\n",
    "else : \n",
    "    print(\"Is lower case letter\")"
   ]
  },
  {
   "cell_type": "code",
   "execution_count": 35,
   "id": "83dff4ac-e666-48f2-aca5-b85c89b440f8",
   "metadata": {},
   "outputs": [
    {
     "name": "stdin",
     "output_type": "stream",
     "text": [
      "Enter side a: 7\n",
      "Enter side b: 10\n",
      "Enter side c: 5\n"
     ]
    },
    {
     "name": "stdout",
     "output_type": "stream",
     "text": [
      "Valid Triangle\n"
     ]
    }
   ],
   "source": [
    "a = int(input('Enter side a:'))\n",
    "b = int(input('Enter side b:'))\n",
    "c = int(input('Enter side c:'))\n",
    "if(a+b > c and a+c > b and b+c > a):\n",
    "    print('Valid Triangle')\n",
    "else:\n",
    "    print('Invalid Triangle')"
   ]
  },
  {
   "cell_type": "code",
   "execution_count": 37,
   "id": "c3b46cd3-851b-4d22-b4e2-fc1650255fe0",
   "metadata": {},
   "outputs": [
    {
     "name": "stdin",
     "output_type": "stream",
     "text": [
      "Enter number a: 3\n",
      "Enter number b: 6\n",
      "Enter number c. 4\n"
     ]
    },
    {
     "name": "stdout",
     "output_type": "stream",
     "text": [
      "B is greatest\n"
     ]
    }
   ],
   "source": [
    "a = int(input('Enter number a:'))\n",
    "b = int(input('Enter number b:'))\n",
    "c = int(input('Enter number c.'))\n",
    "if(a >= b and a >= c):\n",
    " print('A is greater than b and c.')\n",
    "elif(b >= a and b >= c):\n",
    "  print('B is greatest')\n",
    "else:\n",
    "    print('C is greatest')\n",
    "\n"
   ]
  },
  {
   "cell_type": "code",
   "execution_count": 58,
   "id": "10d56c5b-c3c8-4cad-acb1-be69ba579ed5",
   "metadata": {},
   "outputs": [
    {
     "name": "stdin",
     "output_type": "stream",
     "text": [
      "Enter number  11\n"
     ]
    },
    {
     "name": "stdout",
     "output_type": "stream",
     "text": [
      "Is a prime number.\n"
     ]
    }
   ],
   "source": [
    "num = int(input('Enter number '))\n",
    "for i in range(2,int(num*0.5) + 1) :\n",
    "  if(num % i == 0):\n",
    "    print('Is not a prime number')\n",
    "    break\n",
    "  else:\n",
    "   continue\n",
    "else:\n",
    "   print('Is a prime number.')\n"
   ]
  },
  {
   "cell_type": "code",
   "execution_count": null,
   "id": "d5b57718-8f7d-4750-aa56-eaa80da69007",
   "metadata": {},
   "outputs": [],
   "source": [
    "age = int(input('Enter the age of the person.'))\n",
    "driving_licence_test= input('Driving licence test pass or fail? :')\n",
    "if(age >= 18 && driving_licence_test == 'Yes')\n",
    "  print('Eligible for a driving licence')\n",
    "else: \n",
    "  print('Not eligible for a driving licen')"
   ]
  },
  {
   "cell_type": "code",
   "execution_count": 64,
   "id": "c4ae2244-27e7-498b-9c97-3ff7031d8c4c",
   "metadata": {},
   "outputs": [
    {
     "name": "stdin",
     "output_type": "stream",
     "text": [
      "Enter value for a: 3\n",
      "Enter value for b: 4\n",
      "Enter value for c. 5\n"
     ]
    },
    {
     "name": "stdout",
     "output_type": "stream",
     "text": [
      "Is a scalene Triangle.\n"
     ]
    }
   ],
   "source": [
    "a = int(input('Enter value for a:'))\n",
    "b = int(input('Enter value for b:'))\n",
    "c = int(input('Enter value for c.'))\n",
    "if(a == b and b== c and c==a):\n",
    "    print('Is a equilateral trigangle.')\n",
    "elif a==b or b==c or c==a : \n",
    "    print('Is a isosceles triangle.')\n",
    "else:\n",
    "    print('Is a scalene Triangle.')"
   ]
  },
  {
   "cell_type": "code",
   "execution_count": 66,
   "id": "9591de5b-2c29-4c35-8d4f-9c73150db000",
   "metadata": {},
   "outputs": [
    {
     "name": "stdin",
     "output_type": "stream",
     "text": [
      "Enter students marks: 45\n"
     ]
    },
    {
     "name": "stdout",
     "output_type": "stream",
     "text": [
      "Student passed.\n"
     ]
    }
   ],
   "source": [
    "marks = int(input('Enter students marks:'))\n",
    "if(marks >=40 ): \n",
    "    print(\"Student passed.\")\n",
    "else:\n",
    "    print(\"Student failed.\")"
   ]
  },
  {
   "cell_type": "code",
   "execution_count": 72,
   "id": "76a7bfbb-800b-4c45-8762-1fa47e7d77b6",
   "metadata": {},
   "outputs": [
    {
     "name": "stdin",
     "output_type": "stream",
     "text": [
      "Enter a number 1221\n"
     ]
    },
    {
     "name": "stdout",
     "output_type": "stream",
     "text": [
      "Is a palindrome.\n"
     ]
    }
   ],
   "source": [
    "num = input('Enter a number')\n",
    "if num == num[::-1] : \n",
    "    print('Is a palindrome.')\n",
    "else:\n",
    "    print('Is not a palindrome.')\n"
   ]
  },
  {
   "cell_type": "code",
   "execution_count": 78,
   "id": "17d0322e-42a0-4348-836f-5a70191723ab",
   "metadata": {},
   "outputs": [
    {
     "name": "stdin",
     "output_type": "stream",
     "text": [
      "Enter electricity units consumed. 350\n"
     ]
    },
    {
     "name": "stdout",
     "output_type": "stream",
     "text": [
      "Current bill= 3250\n"
     ]
    }
   ],
   "source": [
    "units = int(input('Enter electricity units consumed.'))\n",
    "if units < 100 : \n",
    "    bill = units*5\n",
    "elif units < 300 :\n",
    "   bill= 100*5 + (units-100)*10\n",
    "else:\n",
    "   bill = 100*5 + 200*10 + (units-300)*15\n",
    "\n",
    "print('Current bill=',bill)"
   ]
  },
  {
   "cell_type": "code",
   "execution_count": 86,
   "id": "d7760db5-16e1-4116-a5cf-9ae276628103",
   "metadata": {},
   "outputs": [
    {
     "name": "stdin",
     "output_type": "stream",
     "text": [
      "Enter the marks of a student 60\n"
     ]
    },
    {
     "name": "stdout",
     "output_type": "stream",
     "text": [
      "D Grade\n"
     ]
    }
   ],
   "source": [
    "marks = int(input('Enter the marks of a student'))\n",
    "if(marks >= 90):\n",
    "    print('A grade')\n",
    "elif marks >=80 : \n",
    "    print('B Grade')\n",
    "elif marks >=70 : \n",
    "    print('C Grade')\n",
    "elif marks >=60 :\n",
    "    print('D Grade')\n",
    "elif marks >=40 : \n",
    "    print('E Grade')\n",
    "else: \n",
    "    print('F:Fail')\n"
   ]
  },
  {
   "cell_type": "code",
   "execution_count": 88,
   "id": "8c00e3b3-1754-4d2d-a862-a6e3601e054f",
   "metadata": {},
   "outputs": [
    {
     "data": {
      "text/plain": [
       "(calendar.SATURDAY, 28)"
      ]
     },
     "execution_count": 88,
     "metadata": {},
     "output_type": "execute_result"
    }
   ],
   "source": [
    "import calendar \n",
    "calendar.monthrange(2025,2)"
   ]
  },
  {
   "cell_type": "code",
   "execution_count": 90,
   "id": "37345f50-b210-4cf0-93b5-52718bfdd939",
   "metadata": {},
   "outputs": [
    {
     "name": "stdin",
     "output_type": "stream",
     "text": [
      "Enter month 11\n",
      "Enter day 20\n",
      "Enter year 2014\n"
     ]
    },
    {
     "name": "stdout",
     "output_type": "stream",
     "text": [
      "Valid date.\n"
     ]
    }
   ],
   "source": [
    "month = int(input('Enter month'))\n",
    "day = int(input('Enter day'))\n",
    "year = int(input('Enter year'))\n",
    "if( 1<= month <=12 and 1<= day <= calendar.monthrange(year,month)[1] ) :\n",
    "    print('Valid date.')\n",
    "else:\n",
    "    print('Is not a valid date')"
   ]
  },
  {
   "cell_type": "code",
   "execution_count": 92,
   "id": "81581609-5871-4e79-a8a1-1028bd29e027",
   "metadata": {},
   "outputs": [
    {
     "name": "stdin",
     "output_type": "stream",
     "text": [
      "Enter hour in 24 hour format. 22\n"
     ]
    },
    {
     "name": "stdout",
     "output_type": "stream",
     "text": [
      "Its PM\n"
     ]
    }
   ],
   "source": [
    "hour = int(input('Enter hour in 24 hour format.'))\n",
    "if hour < 12 : \n",
    "    print(\"Its AM\")\n",
    "else: \n",
    "    print(\"Its PM\")"
   ]
  },
  {
   "cell_type": "code",
   "execution_count": 100,
   "id": "f2fb9af1-c12f-47a6-ba8c-3857bf9a163e",
   "metadata": {},
   "outputs": [
    {
     "name": "stdin",
     "output_type": "stream",
     "text": [
      "Enter a number 153\n"
     ]
    },
    {
     "name": "stdout",
     "output_type": "stream",
     "text": [
      "Is a armstrong number\n"
     ]
    }
   ],
   "source": [
    "num = input('Enter a number')\n",
    "power = len(num)\n",
    "if(int(num) == (sum(int(digit)**power for digit in num ))):\n",
    "    print('Is a armstrong number')\n",
    "else:\n",
    "    print('IS not a armstrong number')"
   ]
  },
  {
   "cell_type": "code",
   "execution_count": 108,
   "id": "bf74f286-7e39-4e7e-b9b5-124c9aef8840",
   "metadata": {},
   "outputs": [
    {
     "name": "stdin",
     "output_type": "stream",
     "text": [
      "Enter number a 4\n",
      "Enter number b 3\n",
      "Enter number c 4\n",
      "Enter number d 3\n"
     ]
    },
    {
     "name": "stdout",
     "output_type": "stream",
     "text": [
      "Rectangle\n"
     ]
    }
   ],
   "source": [
    "a= int(input('Enter number a'))\n",
    "b= int(input('Enter number b'))\n",
    "c= int(input('Enter number c'))\n",
    "d= int(input('Enter number d'))\n",
    "if(a==b==c==d):\n",
    "    print('Square')\n",
    "elif (a==c and b==d) :\n",
    "    print('Rectangle')\n",
    "else: \n",
    "    print('Other quadrilateral')"
   ]
  },
  {
   "cell_type": "code",
   "execution_count": 116,
   "id": "4ac1d848-a3ea-4ce1-a334-df7572f7a11d",
   "metadata": {},
   "outputs": [
    {
     "name": "stdin",
     "output_type": "stream",
     "text": [
      "Enter number a 4\n",
      "Enter number b 6\n",
      "Enter operator /\n"
     ]
    },
    {
     "name": "stdout",
     "output_type": "stream",
     "text": [
      "a/b= 1\n"
     ]
    }
   ],
   "source": [
    "a = int(input('Enter number a'))\n",
    "b = int(input('Enter number b'))\n",
    "op = input('Enter operator')\n",
    "if op == '+' : \n",
    "    print('a + b=',a+b)\n",
    "elif op == '-' : \n",
    "    print('a-b=',a-b)\n",
    "elif op == '*' : \n",
    "    print('a*b=',a*b)\n",
    "elif op =='/':\n",
    "   print('a/b=',round(a/b))\n",
    "else:\n",
    "    print('Invalid operator.')"
   ]
  },
  {
   "cell_type": "code",
   "execution_count": 122,
   "id": "ffcce2b2-095f-44b5-b7fe-61695de02023",
   "metadata": {},
   "outputs": [
    {
     "name": "stdin",
     "output_type": "stream",
     "text": [
      "Enter account balance: 1000\n",
      "Amount to withdraw: 10000\n"
     ]
    },
    {
     "name": "stdout",
     "output_type": "stream",
     "text": [
      "Insufficient funds.\n"
     ]
    }
   ],
   "source": [
    "balance = float(input('Enter account balance:'))\n",
    "withdraw = float(input('Amount to withdraw:'))\n",
    "if(withdraw <= balance): \n",
    "    print(\"Withdrwal successful.\")\n",
    "else:\n",
    "    print('Insufficient funds.')"
   ]
  },
  {
   "cell_type": "code",
   "execution_count": 128,
   "id": "acb95a64-05f7-43d6-8f9a-debe7ee4410c",
   "metadata": {},
   "outputs": [
    {
     "name": "stdin",
     "output_type": "stream",
     "text": [
      "Enter temperature 30\n",
      "Enter unit in C/F C\n"
     ]
    },
    {
     "name": "stdout",
     "output_type": "stream",
     "text": [
      "Fahrenheit :  86.0\n"
     ]
    }
   ],
   "source": [
    "temp = float(input('Enter temperature'))\n",
    "unit = input('Enter unit in C/F').upper()\n",
    "if(unit == 'C'):\n",
    "    print('Fahrenheit : ',(temp*9/5)+32)\n",
    "elif(unit == 'F'):\n",
    "    print('Celsius : ', (temp-32)*5/9)\n",
    "else:\n",
    "   print('Invalid temperature')"
   ]
  },
  {
   "cell_type": "code",
   "execution_count": 132,
   "id": "3c24a68e-7c5c-4e03-b8de-63014927539c",
   "metadata": {},
   "outputs": [
    {
     "name": "stdin",
     "output_type": "stream",
     "text": [
      "Enter a number : 400\n"
     ]
    },
    {
     "name": "stdout",
     "output_type": "stream",
     "text": [
      "num is not in range\n"
     ]
    }
   ],
   "source": [
    "num=int(input(\"Enter a number :\")) \n",
    "if 50 <= num <= 100 : \n",
    "    print('num is in range')\n",
    "else:\n",
    "    print('num is not in range')"
   ]
  },
  {
   "cell_type": "code",
   "execution_count": 134,
   "id": "eb0227c4-ae3a-457e-a5c8-a1e44e25c86a",
   "metadata": {},
   "outputs": [
    {
     "name": "stdin",
     "output_type": "stream",
     "text": [
      "Enter a year : 200\n"
     ]
    },
    {
     "name": "stdout",
     "output_type": "stream",
     "text": [
      "Is a century year\n"
     ]
    }
   ],
   "source": [
    "year= int(input('Enter a year :'))\n",
    "if(year % 100 ==0) : \n",
    "    print('Is a century year')\n",
    "else:\n",
    "    print('Is not a century year.')"
   ]
  },
  {
   "cell_type": "code",
   "execution_count": 138,
   "id": "e21511c2-c706-46a2-b715-fca231b366e6",
   "metadata": {},
   "outputs": [
    {
     "name": "stdin",
     "output_type": "stream",
     "text": [
      "Enter a number: 4\n"
     ]
    },
    {
     "name": "stdout",
     "output_type": "stream",
     "text": [
      "Power of 2\n"
     ]
    }
   ],
   "source": [
    "num = int(input('Enter a number:'))\n",
    "if(num > 0 and (num & (num-1)) == 0):\n",
    "    print('Power of 2')\n",
    "else:\n",
    "    print('IS not a power of 2')\n",
    " "
   ]
  },
  {
   "cell_type": "code",
   "execution_count": 150,
   "id": "aacba502-c882-4b89-9321-41c49b0cb66d",
   "metadata": {},
   "outputs": [
    {
     "name": "stdin",
     "output_type": "stream",
     "text": [
      "Enter a number: 8\n"
     ]
    },
    {
     "name": "stdout",
     "output_type": "stream",
     "text": [
      "Power of 2\n"
     ]
    }
   ],
   "source": [
    "import math\n",
    "num = int(input('Enter a number:'))\n",
    "if(num > 0 and (num & (num-1)) == 0):\n",
    "    print('Power of 2')\n",
    "else:\n",
    "    print('IS not a power of 2')\n",
    " "
   ]
  },
  {
   "cell_type": "code",
   "execution_count": 170,
   "id": "42258355-25f4-4a04-bed6-3b7fdcee6902",
   "metadata": {},
   "outputs": [
    {
     "name": "stdin",
     "output_type": "stream",
     "text": [
      "Enter year of the calendar 2014\n",
      "Enter month of calendar 2\n"
     ]
    },
    {
     "name": "stdout",
     "output_type": "stream",
     "text": [
      "Days : 28\n"
     ]
    }
   ],
   "source": [
    "year = int(input('Enter year of the calendar'))\n",
    "month = int(input('Enter month of calendar'))\n",
    "days = [31,28 + (1 if (year%4 ==0 and year %100 !=0) or (year%400 ==0 ) else 0),31,30,31,30,31,31,30,31,30,31]\n",
    "print('Days :',days[month-1])"
   ]
  },
  {
   "cell_type": "code",
   "execution_count": 176,
   "id": "51f2f2dc-7465-4420-867d-b388aca45a2b",
   "metadata": {},
   "outputs": [
    {
     "name": "stdin",
     "output_type": "stream",
     "text": [
      "Enter password. Saibaba@18\n"
     ]
    },
    {
     "name": "stdout",
     "output_type": "stream",
     "text": [
      "Valid password\n"
     ]
    }
   ],
   "source": [
    "import re\n",
    "password = input('Enter password.')\n",
    "if len(password) > 8 and len(password)<15 and (re.search(r'[A-Za-z]',password)) and re.search(r'\\d',password):\n",
    "  print('Valid password')\n",
    "else: \n",
    "  print('Invalid password.')"
   ]
  },
  {
   "cell_type": "code",
   "execution_count": 9,
   "id": "1fbfdd21-5696-4316-97ae-94e0cbfa461a",
   "metadata": {},
   "outputs": [
    {
     "name": "stdin",
     "output_type": "stream",
     "text": [
      "Enter the password: saibababab\n"
     ]
    },
    {
     "name": "stdout",
     "output_type": "stream",
     "text": [
      "Invalid password.\n"
     ]
    }
   ],
   "source": [
    "import re\n",
    "password = input('Enter the password:')\n",
    "if len(password) > 8 and len(password) < 15 and re.search(r'[A-Za-z]',password) and re.search(r'\\d',password):\n",
    "    print('Valid password')\n",
    "else:\n",
    "    print('Invalid password.')\n",
    "   "
   ]
  },
  {
   "cell_type": "code",
   "execution_count": 5,
   "id": "f19ce49a-c4b1-42a1-9706-14ea21fc12f4",
   "metadata": {},
   "outputs": [
    {
     "name": "stdin",
     "output_type": "stream",
     "text": [
      "Enter age: 5\n"
     ]
    },
    {
     "name": "stdout",
     "output_type": "stream",
     "text": [
      "Ticket price is 100 rupees\n"
     ]
    }
   ],
   "source": [
    "age= int(input('Enter age:'))\n",
    "if age < 5 :\n",
    "    print(\"Ticket price: fee\")\n",
    "elif age >=60 :\n",
    "    print(\"Ticket price is 50 rupees\")\n",
    "else : \n",
    "    print(\"Ticket price is 100 rupees\")\n",
    "    "
   ]
  },
  {
   "cell_type": "code",
   "execution_count": null,
   "id": "cf7da994-8e8b-4f78-8eed-0c520da51176",
   "metadata": {},
   "outputs": [],
   "source": [
    "a,b,c = sorted(map(int,input('Enter threee numbers:').split()))\n",
    "if(a**2 + b**2 = c**2) : \n",
    "    print(\"Pythagorean Triplet\")\n",
    "else:\n",
    "    print(\"Not a pythagoran Triplet \")"
   ]
  },
  {
   "cell_type": "code",
   "execution_count": 16,
   "id": "96e66923-d4c9-40bc-9d2c-68160166d2be",
   "metadata": {},
   "outputs": [
    {
     "name": "stdin",
     "output_type": "stream",
     "text": [
      "Enter the roman number IX\n"
     ]
    },
    {
     "name": "stdout",
     "output_type": "stream",
     "text": [
      "Integer:  9\n"
     ]
    }
   ],
   "source": [
    "def roman_to_int(s):\n",
    "    roman = {'I':1,'V':5,'X':10 ,'L':50,'C':100,'D':500,'M':1000}\n",
    "    total = 0 \n",
    "    for i in range(len(s)):\n",
    "     if i >0 and roman[s[i]] > roman[s[i-1]]:\n",
    "        total = total + roman[s[i]] - 2*roman[s[i-1]]\n",
    "     else:\n",
    "        total+=roman[s[i]]\n",
    "\n",
    "    return total\n",
    "\n",
    "num = input('Enter the roman number')\n",
    "print(\"Integer: \",roman_to_int(num))"
   ]
  },
  {
   "cell_type": "code",
   "execution_count": 24,
   "id": "93a94486-ed7b-44f1-a159-1872e469fcf7",
   "metadata": {},
   "outputs": [
    {
     "name": "stdin",
     "output_type": "stream",
     "text": [
      "Enter birth month (1-12): 4\n",
      "Enter birth day: 2\n"
     ]
    },
    {
     "name": "stdout",
     "output_type": "stream",
     "text": [
      "Zodiac sign: Aries\n"
     ]
    }
   ],
   "source": [
    "month = int(input(\"Enter birth month (1-12):\"))\n",
    "day = int(input(\"Enter birth day:\"))\n",
    "\n",
    "zodiac = [(\"Capricorn\", 20), (\"Aquarius\", 19), (\"Pisces\", 20), (\"Aries\", 20),\n",
    "(\"Taurus\", 21), (\"Gemini\", 21), (\"Cancer\", 22), (\"Leo\", 22),\n",
    "(\"Virgo\", 22), (\"Libra\", 23), (\"Scorpio\", 23), (\"Sagittarius\", 22), (\"Capricorn\", 31)]\n",
    "\n",
    "sign = zodiac[month-1][0] if day < zodiac[month-1][1] else zodiac[month][0]\n",
    "print(\"Zodiac sign:\",sign)"
   ]
  },
  {
   "cell_type": "code",
   "execution_count": 32,
   "id": "19a9ffb6-9a19-410f-b8e4-ae650b13618f",
   "metadata": {},
   "outputs": [
    {
     "name": "stdin",
     "output_type": "stream",
     "text": [
      "Enter the number: 43\n"
     ]
    },
    {
     "name": "stdout",
     "output_type": "stream",
     "text": [
      "Its not a harshad number\n"
     ]
    }
   ],
   "source": [
    "num = int(input('Enter the number:'))\n",
    "sum_digits = sum(int(digit) for digit in str(num))\n",
    "if num % sum_digits == 0 : \n",
    "    print('It is a Harshad Number')\n",
    "else:\n",
    "    print(\"Its not a harshad number\")"
   ]
  },
  {
   "cell_type": "code",
   "execution_count": 36,
   "id": "e2c77ee3-2aeb-4523-bd35-5806aacae37c",
   "metadata": {},
   "outputs": [
    {
     "name": "stdin",
     "output_type": "stream",
     "text": [
      "Enter you email address radhik.bottu@oracle.com\n"
     ]
    },
    {
     "name": "stdout",
     "output_type": "stream",
     "text": [
      "Valid email address\n"
     ]
    }
   ],
   "source": [
    "import re\n",
    "email=input('Enter you email address')\n",
    "if(re.match(r'[\\w\\.-]+@[\\w\\.-]+\\.(com|net|edu|org)',email)):\n",
    "    print('Valid email address')\n",
    "else:\n",
    "    print('Invalid email address')"
   ]
  },
  {
   "cell_type": "code",
   "execution_count": 58,
   "id": "0eb2f64b-d173-43ca-bfa3-b7b0a4f81da2",
   "metadata": {},
   "outputs": [
    {
     "name": "stdin",
     "output_type": "stream",
     "text": [
      "Enter current position 3 2\n",
      "Enter next move 4 4 \n"
     ]
    },
    {
     "name": "stdout",
     "output_type": "stream",
     "text": [
      "Valid move\n"
     ]
    }
   ],
   "source": [
    "x1,y1 = map(int, input('Enter current position').split())\n",
    "x2,y2 = map(int, input('Enter next move').split())\n",
    "if (abs(x1-x2) , abs(y1-y2)) in [(2,1),(1,2)] : \n",
    "    print('Valid move')\n",
    "else:\n",
    "    print('Invalid move')"
   ]
  },
  {
   "cell_type": "code",
   "execution_count": 60,
   "id": "84bde39c-0400-4d60-8736-1085c4d8da8e",
   "metadata": {},
   "outputs": [
    {
     "name": "stdin",
     "output_type": "stream",
     "text": [
      "Enter monthly income: 30000\n",
      "Enter credit score: 600\n",
      "Are you employed?(Yes/No): Yes\n"
     ]
    },
    {
     "name": "stdout",
     "output_type": "stream",
     "text": [
      "Loan not approved.\n"
     ]
    }
   ],
   "source": [
    "income = int(input('Enter monthly income:'))\n",
    "credit_score= int(input('Enter credit score:'))\n",
    "employed = input('Are you employed?(Yes/No):').lower()\n",
    "if income >= 25000 and credit_score >=700 and employed == 'yes' : \n",
    "    print('Loan approved')\n",
    "else:\n",
    "    print('Loan not approved.')"
   ]
  },
  {
   "cell_type": "code",
   "execution_count": 78,
   "id": "81b19e0c-b052-45ff-a37e-4bce6a42c676",
   "metadata": {},
   "outputs": [
    {
     "name": "stdin",
     "output_type": "stream",
     "text": [
      "Enter any one of rock,paper or scisors rock\n"
     ]
    },
    {
     "name": "stdout",
     "output_type": "stream",
     "text": [
      "computer chose:  scisors\n",
      "You won\n"
     ]
    }
   ],
   "source": [
    "import random\n",
    "choices = ['rock','paper','scisors']\n",
    "user = input('Enter any one of rock,paper or scisors').lower()\n",
    "computer= random.choice(choices)\n",
    "print('computer chose: ',computer)\n",
    "if user == computer : \n",
    "     print('Its a tie')\n",
    "elif (user == 'rock' and computer == 'scisors') or (user == 'scisors' and computer == 'paper') or (user == 'paper' and computer == 'rock') :\n",
    "       print('You won')\n",
    "else:\n",
    " print('you lost')"
   ]
  },
  {
   "cell_type": "code",
   "execution_count": null,
   "id": "dacd55ce-c678-43b8-be4d-7a21912bef89",
   "metadata": {},
   "outputs": [],
   "source": []
  }
 ],
 "metadata": {
  "kernelspec": {
   "display_name": "Python [conda env:base] *",
   "language": "python",
   "name": "conda-base-py"
  },
  "language_info": {
   "codemirror_mode": {
    "name": "ipython",
    "version": 3
   },
   "file_extension": ".py",
   "mimetype": "text/x-python",
   "name": "python",
   "nbconvert_exporter": "python",
   "pygments_lexer": "ipython3",
   "version": "3.12.7"
  }
 },
 "nbformat": 4,
 "nbformat_minor": 5
}
