{
 "cells": [
  {
   "cell_type": "code",
   "execution_count": 4,
   "id": "29125f0e-d0e1-498e-9673-e8dab200504f",
   "metadata": {},
   "outputs": [
    {
     "name": "stdout",
     "output_type": "stream",
     "text": [
      "Addition of two numbers num1= 10 and num2= 20 is = 30\n"
     ]
    }
   ],
   "source": [
    "num1 = 10\n",
    "num2 = 20 \n",
    "num3 = num1 + num2\n",
    "print('Addition of two numbers num1=',num1 ,'and num2=',num2,'is =',num3)"
   ]
  },
  {
   "cell_type": "code",
   "execution_count": 8,
   "id": "24dcdc93-d86b-4226-b470-8e2ad07aac44",
   "metadata": {},
   "outputs": [
    {
     "name": "stdout",
     "output_type": "stream",
     "text": [
      "First name is Radhika , last name is Bottu\n"
     ]
    }
   ],
   "source": [
    "name = 'Radhika'\n",
    "firstname= 'Radhika'\n",
    "lastname = 'Bottu'\n",
    "print('First name is {} , last name is {}'.format(firstname,lastname))"
   ]
  },
  {
   "cell_type": "code",
   "execution_count": 12,
   "id": "58dcc410-319b-4267-96be-836c5baf33a6",
   "metadata": {},
   "outputs": [
    {
     "name": "stdout",
     "output_type": "stream",
     "text": [
      "Subraction of num1=10 and num2=20 is num3=-10\n"
     ]
    }
   ],
   "source": [
    "num3= num1-num2\n",
    "print('Subraction of num1={} and num2={} is num3={}'.format(num1,num2,num3))"
   ]
  },
  {
   "cell_type": "code",
   "execution_count": 16,
   "id": "05f35d56-7a55-42d7-9995-0490c549951c",
   "metadata": {},
   "outputs": [
    {
     "name": "stdout",
     "output_type": "stream",
     "text": [
      "Average of num1={}, num2={} and num3 is {} 10 20 -10 26.666666666666668\n"
     ]
    }
   ],
   "source": [
    "avg =num1+num2+num3/3\n",
    "print('Average of num1={}, num2={} and num3 is {}',num1,num2,num3,avg)"
   ]
  },
  {
   "cell_type": "code",
   "execution_count": 24,
   "id": "69c2e714-0d4d-4c4c-b652-791dd69c1c12",
   "metadata": {},
   "outputs": [
    {
     "data": {
      "text/plain": [
       "27"
      ]
     },
     "execution_count": 24,
     "metadata": {},
     "output_type": "execute_result"
    }
   ],
   "source": [
    "avg = round(avg)\n",
    "avg"
   ]
  },
  {
   "cell_type": "code",
   "execution_count": 26,
   "id": "49b00721-bf83-4be1-81e7-5c1846efad77",
   "metadata": {},
   "outputs": [
    {
     "name": "stdout",
     "output_type": "stream",
     "text": [
      "Average of num1=10,num2=20,num3=-10 is 27\n"
     ]
    }
   ],
   "source": [
    "print(f'Average of num1={num1},num2={num2},num3={num3} is {avg}')"
   ]
  },
  {
   "cell_type": "markdown",
   "id": "e8985aaf-e541-429e-8762-d3029f3abd3f",
   "metadata": {},
   "source": [
    "END STATEMENT"
   ]
  },
  {
   "cell_type": "code",
   "execution_count": 30,
   "id": "5b489f1d-4c0d-4267-b99d-90a234f16df1",
   "metadata": {},
   "outputs": [
    {
     "name": "stdout",
     "output_type": "stream",
     "text": [
      "hello\n",
      "World.\n"
     ]
    }
   ],
   "source": [
    "print('hello')\n",
    "print('World.')"
   ]
  },
  {
   "cell_type": "code",
   "execution_count": 28,
   "id": "9a1056e5-a0a3-4688-9626-5782116fcbde",
   "metadata": {},
   "outputs": [
    {
     "name": "stdout",
     "output_type": "stream",
     "text": [
      "helloWorld.\n"
     ]
    }
   ],
   "source": [
    "print('hello', end = '')\n",
    "print('World.')"
   ]
  },
  {
   "cell_type": "code",
   "execution_count": 34,
   "id": "7cb56f53-4c50-49d6-95d2-35e6b28ec264",
   "metadata": {},
   "outputs": [
    {
     "name": "stdout",
     "output_type": "stream",
     "text": [
      "hello World. Learning Python\n"
     ]
    }
   ],
   "source": [
    "print('hello', end = ' ')\n",
    "print('World. Learning Python')"
   ]
  },
  {
   "cell_type": "code",
   "execution_count": 40,
   "id": "52a4daa1-1d81-41e8-b39e-e2db2b0cadb7",
   "metadata": {},
   "outputs": [
    {
     "name": "stdout",
     "output_type": "stream",
     "text": [
      "hello world Learning Python\n"
     ]
    }
   ],
   "source": [
    "print('hello world','Learning Python', sep = ' ')"
   ]
  },
  {
   "cell_type": "code",
   "execution_count": 42,
   "id": "5990eb23-5102-4c5f-90aa-def0ce2e1aa7",
   "metadata": {},
   "outputs": [
    {
     "name": "stdout",
     "output_type": "stream",
     "text": [
      "hello world Learning Python\n"
     ]
    }
   ],
   "source": [
    "print('hello world','Learning Python')"
   ]
  },
  {
   "cell_type": "code",
   "execution_count": 44,
   "id": "db81d17c-6f7e-4a90-8dbb-c94062e0c1e5",
   "metadata": {},
   "outputs": [
    {
     "name": "stdout",
     "output_type": "stream",
     "text": [
      "hello world-->Learning Python\n"
     ]
    }
   ],
   "source": [
    "print('hello world','Learning Python', sep = '-->')"
   ]
  },
  {
   "cell_type": "code",
   "execution_count": 50,
   "id": "dadd3bce-dc64-4949-969b-29b58d7be8a9",
   "metadata": {},
   "outputs": [
    {
     "name": "stdout",
     "output_type": "stream",
     "text": [
      "2->4\n"
     ]
    }
   ],
   "source": [
    "print(2,4,sep='->')"
   ]
  },
  {
   "cell_type": "code",
   "execution_count": 52,
   "id": "885273ee-e954-4216-b91b-3b5da62a7e7d",
   "metadata": {},
   "outputs": [
    {
     "name": "stdout",
     "output_type": "stream",
     "text": [
      "2,3,4\n"
     ]
    }
   ],
   "source": [
    "print(2,3,4,sep=',')\n"
   ]
  },
  {
   "cell_type": "code",
   "execution_count": 54,
   "id": "57f4a805-f80e-428d-93c3-af0050fa7f86",
   "metadata": {},
   "outputs": [
    {
     "name": "stdout",
     "output_type": "stream",
     "text": [
      "Addition of num = 1,2,3 is 6\n"
     ]
    }
   ],
   "source": [
    "print('Addition of num = 1','2','3 is 6',sep = ',')"
   ]
  },
  {
   "cell_type": "code",
   "execution_count": null,
   "id": "0ec5630c-3d2a-447a-885c-649dbbdf7938",
   "metadata": {},
   "outputs": [],
   "source": []
  }
 ],
 "metadata": {
  "kernelspec": {
   "display_name": "Python [conda env:base] *",
   "language": "python",
   "name": "conda-base-py"
  },
  "language_info": {
   "codemirror_mode": {
    "name": "ipython",
    "version": 3
   },
   "file_extension": ".py",
   "mimetype": "text/x-python",
   "name": "python",
   "nbconvert_exporter": "python",
   "pygments_lexer": "ipython3",
   "version": "3.12.7"
  }
 },
 "nbformat": 4,
 "nbformat_minor": 5
}
