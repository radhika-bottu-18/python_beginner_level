{
 "cells": [
  {
   "cell_type": "code",
   "execution_count": 2,
   "id": "55fb04cb-c496-4f0f-a00f-b3e9f3c7a34f",
   "metadata": {},
   "outputs": [
    {
     "name": "stdout",
     "output_type": "stream",
     "text": [
      "4 765.8 Radhika True\n"
     ]
    }
   ],
   "source": [
    "intvar, floatvar, strvar, boolvar = 4,765.8,'Radhika',True\n",
    "print(intvar,floatvar,strvar,boolvar)"
   ]
  },
  {
   "cell_type": "code",
   "execution_count": 4,
   "id": "f1165d1c-7718-43d3-b241-97c78fd4fc5a",
   "metadata": {},
   "outputs": [
    {
     "name": "stdout",
     "output_type": "stream",
     "text": [
      "p1= 80 p2= 80 p3= p3 p4= 80\n"
     ]
    }
   ],
   "source": [
    "p1 = p2= p3 = p4 = 80\n",
    "print('p1=',p1,'p2=',p2,'p3=','p3','p4=',p4)"
   ]
  },
  {
   "cell_type": "code",
   "execution_count": 11,
   "id": "53373cef-627a-4e81-b14f-9cb5db2825c3",
   "metadata": {},
   "outputs": [
    {
     "name": "stdout",
     "output_type": "stream",
     "text": [
      "4  is instance of True\n"
     ]
    }
   ],
   "source": [
    "print(intvar, ' is instance of',isinstance(intvar,int))"
   ]
  },
  {
   "cell_type": "code",
   "execution_count": 15,
   "id": "bb0c180d-c72b-49c8-b9f0-771a77277589",
   "metadata": {},
   "outputs": [
    {
     "name": "stdout",
     "output_type": "stream",
     "text": [
      "765.8  is instance of True\n"
     ]
    }
   ],
   "source": [
    "print(floatvar, ' is instance of',isinstance(floatvar,float))"
   ]
  },
  {
   "cell_type": "code",
   "execution_count": 27,
   "id": "2c6f60de-43ab-4f86-87fd-b1b9912d2a67",
   "metadata": {},
   "outputs": [
    {
     "name": "stdout",
     "output_type": "stream",
     "text": [
      "Radhika  is instance of True\n"
     ]
    }
   ],
   "source": [
    "print(strvar, ' is instance of',isinstance(strvar,str))"
   ]
  },
  {
   "cell_type": "code",
   "execution_count": 31,
   "id": "585344c6-10df-4a8e-87f2-51f7d9ea95bf",
   "metadata": {},
   "outputs": [
    {
     "name": "stdout",
     "output_type": "stream",
     "text": [
      "(8+6j)  is instance of True\n"
     ]
    }
   ],
   "source": [
    "a= 8 + 6j\n",
    "print(a, ' is instance of',isinstance(a,complex))"
   ]
  },
  {
   "cell_type": "code",
   "execution_count": 33,
   "id": "a4c0dc8d-d9e2-476a-ab33-ace9ed7f8034",
   "metadata": {},
   "outputs": [
    {
     "data": {
      "text/plain": [
       "False"
      ]
     },
     "execution_count": 33,
     "metadata": {},
     "output_type": "execute_result"
    }
   ],
   "source": [
    "bool(0)"
   ]
  },
  {
   "cell_type": "code",
   "execution_count": 35,
   "id": "1bc289a1-a3ad-4eeb-8ab1-5d9b7ea4f238",
   "metadata": {},
   "outputs": [
    {
     "data": {
      "text/plain": [
       "True"
      ]
     },
     "execution_count": 35,
     "metadata": {},
     "output_type": "execute_result"
    }
   ],
   "source": [
    "bool(1)"
   ]
  },
  {
   "cell_type": "code",
   "execution_count": 37,
   "id": "f1dc2046-6449-46ca-a311-78f805d03c35",
   "metadata": {},
   "outputs": [
    {
     "data": {
      "text/plain": [
       "False"
      ]
     },
     "execution_count": 37,
     "metadata": {},
     "output_type": "execute_result"
    }
   ],
   "source": [
    "bool(None)"
   ]
  },
  {
   "cell_type": "code",
   "execution_count": 39,
   "id": "e93e73ca-2582-49c3-94d3-de53a25be9a2",
   "metadata": {},
   "outputs": [
    {
     "name": "stdout",
     "output_type": "stream",
     "text": [
      "radhika bottu\n"
     ]
    }
   ],
   "source": [
    "str1= 'radhika bottu'\n",
    "print(str1)"
   ]
  },
  {
   "cell_type": "markdown",
   "id": "a45b5296-2fc3-41c5-8bb1-d92cbfe0c168",
   "metadata": {},
   "source": [
    "String slicing"
   ]
  },
  {
   "cell_type": "code",
   "execution_count": 41,
   "id": "d8b03451-6bca-48b2-8147-7e8fb7cb8e4d",
   "metadata": {},
   "outputs": [
    {
     "name": "stdout",
     "output_type": "stream",
     "text": [
      "radhika b\n"
     ]
    }
   ],
   "source": [
    "str1= 'radhika bottu'\n",
    "print(str1[0:9])"
   ]
  },
  {
   "cell_type": "code",
   "execution_count": 13,
   "id": "da0933a7-6e39-4814-9ee9-547888261dde",
   "metadata": {},
   "outputs": [
    {
     "name": "stdout",
     "output_type": "stream",
     "text": [
      "ka b\n"
     ]
    }
   ],
   "source": [
    "str1= 'radhika bottu'\n",
    "print(str1[5:9])"
   ]
  },
  {
   "cell_type": "code",
   "execution_count": 15,
   "id": "2a6e62ec-a721-4728-806b-4f0e1965360c",
   "metadata": {},
   "outputs": [
    {
     "name": "stdout",
     "output_type": "stream",
     "text": [
      "i\n"
     ]
    }
   ],
   "source": [
    "print(str1[4])"
   ]
  },
  {
   "cell_type": "code",
   "execution_count": 21,
   "id": "6175ab42-e7fe-45ce-b94c-47122dca05e5",
   "metadata": {},
   "outputs": [
    {
     "name": "stdout",
     "output_type": "stream",
     "text": [
      "bo\n"
     ]
    }
   ],
   "source": [
    "print(str1[-5:-3])"
   ]
  },
  {
   "cell_type": "code",
   "execution_count": 23,
   "id": "7e21d550-33cf-4b01-bf3e-cb0a8f47e919",
   "metadata": {},
   "outputs": [
    {
     "name": "stdout",
     "output_type": "stream",
     "text": [
      "radhi\n"
     ]
    }
   ],
   "source": [
    "print(str1[:5])"
   ]
  },
  {
   "cell_type": "code",
   "execution_count": 27,
   "id": "2fd7d9c1-a45a-40c0-b9ba-14f2d2f341ae",
   "metadata": {},
   "outputs": [
    {
     "name": "stdout",
     "output_type": "stream",
     "text": [
      "ika bottu\n"
     ]
    }
   ],
   "source": [
    "print(str1[4:])"
   ]
  },
  {
   "cell_type": "code",
   "execution_count": 31,
   "id": "8a8e5355-2cff-4996-a692-a3d39da03f22",
   "metadata": {},
   "outputs": [
    {
     "name": "stdout",
     "output_type": "stream",
     "text": [
      " b\n"
     ]
    }
   ],
   "source": [
    "print(str1[-6:-4])"
   ]
  },
  {
   "cell_type": "code",
   "execution_count": 33,
   "id": "81b73482-53a1-4543-b5a2-5105f4da19e4",
   "metadata": {},
   "outputs": [
    {
     "name": "stdout",
     "output_type": "stream",
     "text": [
      " bottu\n"
     ]
    }
   ],
   "source": [
    "print(str1[-6:])"
   ]
  },
  {
   "cell_type": "code",
   "execution_count": 37,
   "id": "c94af996-02dc-4e41-8f45-712129046229",
   "metadata": {},
   "outputs": [
    {
     "name": "stdout",
     "output_type": "stream",
     "text": [
      "radhika\n"
     ]
    }
   ],
   "source": [
    "print(str1[:-6])"
   ]
  },
  {
   "cell_type": "code",
   "execution_count": 39,
   "id": "4b5c2342-a14a-46a3-87c9-5e5d0916a8e2",
   "metadata": {},
   "outputs": [
    {
     "name": "stdout",
     "output_type": "stream",
     "text": [
      "rdi\n"
     ]
    }
   ],
   "source": [
    "print(str1[0:6:2])"
   ]
  },
  {
   "cell_type": "code",
   "execution_count": 42,
   "id": "459f1c85-6613-4137-ab29-1c30e1966fae",
   "metadata": {},
   "outputs": [
    {
     "name": "stdout",
     "output_type": "stream",
     "text": [
      "radhik\n"
     ]
    }
   ],
   "source": [
    "print(str1[0:6:1])"
   ]
  },
  {
   "cell_type": "code",
   "execution_count": 46,
   "id": "542e283c-6362-45f7-8f8d-ee1215c3bddd",
   "metadata": {},
   "outputs": [
    {
     "name": "stdout",
     "output_type": "stream",
     "text": [
      " b\n"
     ]
    }
   ],
   "source": [
    "print(str1[-6:-4:1])"
   ]
  },
  {
   "cell_type": "code",
   "execution_count": 48,
   "id": "26f59048-64df-4f61-b409-3371ef56b913",
   "metadata": {},
   "outputs": [
    {
     "ename": "TypeError",
     "evalue": "'str' object does not support item assignment",
     "output_type": "error",
     "traceback": [
      "\u001b[1;31m---------------------------------------------------------------------------\u001b[0m",
      "\u001b[1;31mTypeError\u001b[0m                                 Traceback (most recent call last)",
      "Cell \u001b[1;32mIn[48], line 1\u001b[0m\n\u001b[1;32m----> 1\u001b[0m str1[\u001b[38;5;241m3\u001b[39m]\u001b[38;5;241m=\u001b[39m\u001b[38;5;124m'\u001b[39m\u001b[38;5;124my\u001b[39m\u001b[38;5;124m'\u001b[39m\n",
      "\u001b[1;31mTypeError\u001b[0m: 'str' object does not support item assignment"
     ]
    }
   ],
   "source": [
    "str1[3]='y'"
   ]
  },
  {
   "cell_type": "code",
   "execution_count": 50,
   "id": "54341b63-35b7-44d8-b004-9ca95aeb686f",
   "metadata": {},
   "outputs": [],
   "source": [
    "del str1"
   ]
  },
  {
   "cell_type": "code",
   "execution_count": null,
   "id": "30618901-7599-4055-8992-1eae2e0088fe",
   "metadata": {},
   "outputs": [],
   "source": []
  }
 ],
 "metadata": {
  "kernelspec": {
   "display_name": "Python [conda env:base] *",
   "language": "python",
   "name": "conda-base-py"
  },
  "language_info": {
   "codemirror_mode": {
    "name": "ipython",
    "version": 3
   },
   "file_extension": ".py",
   "mimetype": "text/x-python",
   "name": "python",
   "nbconvert_exporter": "python",
   "pygments_lexer": "ipython3",
   "version": "3.12.7"
  }
 },
 "nbformat": 4,
 "nbformat_minor": 5
}
