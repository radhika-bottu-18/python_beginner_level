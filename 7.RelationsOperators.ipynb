{
 "cells": [
  {
   "cell_type": "code",
   "execution_count": 1,
   "id": "682a9a21-823d-456f-b7d0-2408e9ea0dc0",
   "metadata": {},
   "outputs": [
    {
     "name": "stdout",
     "output_type": "stream",
     "text": [
      "False\n"
     ]
    }
   ],
   "source": [
    "print(3>7)"
   ]
  },
  {
   "cell_type": "code",
   "execution_count": 3,
   "id": "ea3c2dde-deb1-434a-8ee7-7ab503ef71a1",
   "metadata": {},
   "outputs": [
    {
     "name": "stdout",
     "output_type": "stream",
     "text": [
      "True\n"
     ]
    }
   ],
   "source": [
    "print(4==4)"
   ]
  },
  {
   "cell_type": "code",
   "execution_count": 5,
   "id": "2c7c4298-fb27-4bfa-8e01-c9a69ba7753f",
   "metadata": {},
   "outputs": [
    {
     "name": "stdout",
     "output_type": "stream",
     "text": [
      "True\n"
     ]
    }
   ],
   "source": [
    "print(3<7)"
   ]
  },
  {
   "cell_type": "code",
   "execution_count": 9,
   "id": "e701ba23-de6b-409e-a19b-f68d1af9c048",
   "metadata": {},
   "outputs": [
    {
     "name": "stdout",
     "output_type": "stream",
     "text": [
      "True\n"
     ]
    }
   ],
   "source": [
    "print(3<7)"
   ]
  },
  {
   "cell_type": "code",
   "execution_count": 21,
   "id": "504bcda4-9be8-4290-93d2-731bd3839399",
   "metadata": {},
   "outputs": [
    {
     "name": "stdout",
     "output_type": "stream",
     "text": [
      "1 is 1 True\n"
     ]
    },
    {
     "name": "stderr",
     "output_type": "stream",
     "text": [
      "<>:1: SyntaxWarning: \"is\" with 'int' literal. Did you mean \"==\"?\n",
      "<>:1: SyntaxWarning: \"is\" with 'int' literal. Did you mean \"==\"?\n",
      "C:\\Users\\Sushal\\AppData\\Local\\Temp\\ipykernel_6072\\186316889.py:1: SyntaxWarning: \"is\" with 'int' literal. Did you mean \"==\"?\n",
      "  print('1 is 1',1 is 1)\n"
     ]
    }
   ],
   "source": [
    "print('1 is 1',1 is 1)"
   ]
  },
  {
   "cell_type": "code",
   "execution_count": 13,
   "id": "e427cdaf-739d-4c9b-bf9c-d232c6ed26fb",
   "metadata": {},
   "outputs": [
    {
     "name": "stdout",
     "output_type": "stream",
     "text": [
      "False\n"
     ]
    }
   ],
   "source": [
    "print('HEllo' in 'Hello World')"
   ]
  },
  {
   "cell_type": "code",
   "execution_count": 15,
   "id": "5a4a4c8d-2f89-412d-95c7-8d17ef04ed22",
   "metadata": {},
   "outputs": [
    {
     "name": "stdout",
     "output_type": "stream",
     "text": [
      "True\n"
     ]
    }
   ],
   "source": [
    "print('Hello' in 'Hello World')"
   ]
  },
  {
   "cell_type": "code",
   "execution_count": 23,
   "id": "b7da0757-d92b-43d5-82b3-1ec512e1e9f8",
   "metadata": {},
   "outputs": [
    {
     "name": "stdout",
     "output_type": "stream",
     "text": [
      "1 is not 2 True\n"
     ]
    },
    {
     "name": "stderr",
     "output_type": "stream",
     "text": [
      "<>:1: SyntaxWarning: \"is not\" with 'int' literal. Did you mean \"!=\"?\n",
      "<>:1: SyntaxWarning: \"is not\" with 'int' literal. Did you mean \"!=\"?\n",
      "C:\\Users\\Sushal\\AppData\\Local\\Temp\\ipykernel_6072\\1496953547.py:1: SyntaxWarning: \"is not\" with 'int' literal. Did you mean \"!=\"?\n",
      "  print('1 is not 2',1 is not 2)\n"
     ]
    }
   ],
   "source": [
    "print('1 is not 2',1 is not 2)"
   ]
  },
  {
   "cell_type": "code",
   "execution_count": 25,
   "id": "0550e518-a43d-45d8-bbe9-5d80db1fe35f",
   "metadata": {},
   "outputs": [
    {
     "name": "stdout",
     "output_type": "stream",
     "text": [
      "4 is 2*2 True\n"
     ]
    },
    {
     "name": "stderr",
     "output_type": "stream",
     "text": [
      "<>:1: SyntaxWarning: \"is\" with 'int' literal. Did you mean \"==\"?\n",
      "<>:1: SyntaxWarning: \"is\" with 'int' literal. Did you mean \"==\"?\n",
      "C:\\Users\\Sushal\\AppData\\Local\\Temp\\ipykernel_6072\\2427534120.py:1: SyntaxWarning: \"is\" with 'int' literal. Did you mean \"==\"?\n",
      "  print('4 is 2*2', 4 is 2*2)\n"
     ]
    }
   ],
   "source": [
    "print('4 is 2*2', 4 is 2*2)"
   ]
  },
  {
   "cell_type": "code",
   "execution_count": 27,
   "id": "6bb5413b-88d9-44f2-bb26-9d1ae681f6ff",
   "metadata": {},
   "outputs": [
    {
     "name": "stdout",
     "output_type": "stream",
     "text": [
      "False\n"
     ]
    }
   ],
   "source": [
    "print(3>2 and 5>7)"
   ]
  },
  {
   "cell_type": "code",
   "execution_count": 29,
   "id": "4c8eb953-14ad-40e2-85d2-b3872f3319b3",
   "metadata": {},
   "outputs": [
    {
     "name": "stdout",
     "output_type": "stream",
     "text": [
      "False\n"
     ]
    }
   ],
   "source": [
    "print(not True)"
   ]
  },
  {
   "cell_type": "code",
   "execution_count": 31,
   "id": "2f098959-2c67-435b-9ac6-679c9fc16d31",
   "metadata": {},
   "outputs": [
    {
     "name": "stdout",
     "output_type": "stream",
     "text": [
      "True\n"
     ]
    }
   ],
   "source": [
    "print(not not True)"
   ]
  },
  {
   "cell_type": "code",
   "execution_count": 33,
   "id": "7d6d2cd3-9692-4993-a1c7-13cc4546f54b",
   "metadata": {},
   "outputs": [
    {
     "name": "stdout",
     "output_type": "stream",
     "text": [
      "False\n"
     ]
    },
    {
     "name": "stderr",
     "output_type": "stream",
     "text": [
      "<>:1: SyntaxWarning: \"is\" with 'int' literal. Did you mean \"==\"?\n",
      "<>:1: SyntaxWarning: \"is\" with 'int' literal. Did you mean \"==\"?\n",
      "C:\\Users\\Sushal\\AppData\\Local\\Temp\\ipykernel_6072\\1728233177.py:1: SyntaxWarning: \"is\" with 'int' literal. Did you mean \"==\"?\n",
      "  print(True is 1)\n"
     ]
    }
   ],
   "source": [
    "print(True is 1)"
   ]
  },
  {
   "cell_type": "code",
   "execution_count": 37,
   "id": "6a25ab9e-ec85-449d-87d5-b45e1c39d0a7",
   "metadata": {},
   "outputs": [
    {
     "name": "stdout",
     "output_type": "stream",
     "text": [
      "False\n"
     ]
    }
   ],
   "source": [
    "print(False is True )"
   ]
  },
  {
   "cell_type": "code",
   "execution_count": 39,
   "id": "47dfdf01-343f-4bb1-af2a-a7eb52d5b2d2",
   "metadata": {},
   "outputs": [
    {
     "name": "stdout",
     "output_type": "stream",
     "text": [
      "True\n"
     ]
    },
    {
     "name": "stderr",
     "output_type": "stream",
     "text": [
      "<>:1: SyntaxWarning: \"is\" with 'str' literal. Did you mean \"==\"?\n",
      "<>:1: SyntaxWarning: \"is\" with 'str' literal. Did you mean \"==\"?\n",
      "C:\\Users\\Sushal\\AppData\\Local\\Temp\\ipykernel_6072\\2222173821.py:1: SyntaxWarning: \"is\" with 'str' literal. Did you mean \"==\"?\n",
      "  print('Hello' is 'Hello')\n"
     ]
    }
   ],
   "source": [
    "print('Hello' is 'Hello')"
   ]
  },
  {
   "cell_type": "code",
   "execution_count": 41,
   "id": "51476cff-2a96-41fe-a705-92fc8e37710a",
   "metadata": {},
   "outputs": [
    {
     "name": "stdout",
     "output_type": "stream",
     "text": [
      "True\n"
     ]
    }
   ],
   "source": [
    "print(not 5>6)"
   ]
  },
  {
   "cell_type": "code",
   "execution_count": null,
   "id": "e11a9750-9841-4804-98b4-6c6b613d821e",
   "metadata": {},
   "outputs": [],
   "source": []
  }
 ],
 "metadata": {
  "kernelspec": {
   "display_name": "Python [conda env:base] *",
   "language": "python",
   "name": "conda-base-py"
  },
  "language_info": {
   "codemirror_mode": {
    "name": "ipython",
    "version": 3
   },
   "file_extension": ".py",
   "mimetype": "text/x-python",
   "name": "python",
   "nbconvert_exporter": "python",
   "pygments_lexer": "ipython3",
   "version": "3.12.7"
  }
 },
 "nbformat": 4,
 "nbformat_minor": 5
}
