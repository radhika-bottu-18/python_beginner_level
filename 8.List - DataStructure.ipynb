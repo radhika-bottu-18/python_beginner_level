{
 "cells": [
  {
   "cell_type": "code",
   "execution_count": 2,
   "id": "35e68dfe-f511-44c2-8cc2-7694e7dd24e1",
   "metadata": {},
   "outputs": [
    {
     "data": {
      "text/plain": [
       "0"
      ]
     },
     "execution_count": 2,
     "metadata": {},
     "output_type": "execute_result"
    }
   ],
   "source": [
    "l = []\n",
    "len(l)"
   ]
  },
  {
   "cell_type": "code",
   "execution_count": 4,
   "id": "1544892b-551a-421a-92f0-6e6515503811",
   "metadata": {},
   "outputs": [],
   "source": [
    "l.append(2)"
   ]
  },
  {
   "cell_type": "code",
   "execution_count": 6,
   "id": "4b277bb4-c88d-48b6-9a41-381674b60200",
   "metadata": {},
   "outputs": [],
   "source": [
    "l.append(3)"
   ]
  },
  {
   "cell_type": "code",
   "execution_count": 8,
   "id": "987166b9-ecc6-4da0-847b-276b4bfcb90a",
   "metadata": {},
   "outputs": [],
   "source": [
    "l.append(4)"
   ]
  },
  {
   "cell_type": "code",
   "execution_count": 10,
   "id": "06ebf3d4-38e1-46e2-bb79-fbfa9dd05172",
   "metadata": {},
   "outputs": [],
   "source": [
    "l.append(5)"
   ]
  },
  {
   "cell_type": "code",
   "execution_count": 12,
   "id": "c0123566-f0d2-4fc0-9b6b-ac4edabdcab0",
   "metadata": {},
   "outputs": [
    {
     "data": {
      "text/plain": [
       "[2, 3, 4, 5]"
      ]
     },
     "execution_count": 12,
     "metadata": {},
     "output_type": "execute_result"
    }
   ],
   "source": [
    "l"
   ]
  },
  {
   "cell_type": "code",
   "execution_count": 14,
   "id": "92d8472b-2f0b-4243-9e8c-e48ddbc3305c",
   "metadata": {},
   "outputs": [
    {
     "data": {
      "text/plain": [
       "list"
      ]
     },
     "execution_count": 14,
     "metadata": {},
     "output_type": "execute_result"
    }
   ],
   "source": [
    "type(l)"
   ]
  },
  {
   "cell_type": "code",
   "execution_count": 16,
   "id": "50f72045-0d51-4c0c-9c15-b21702f206f1",
   "metadata": {},
   "outputs": [
    {
     "data": {
      "text/plain": [
       "4"
      ]
     },
     "execution_count": 16,
     "metadata": {},
     "output_type": "execute_result"
    }
   ],
   "source": [
    "len(l)"
   ]
  },
  {
   "cell_type": "code",
   "execution_count": 20,
   "id": "dee42b38-5a69-4158-8199-e9dbc687123a",
   "metadata": {},
   "outputs": [],
   "source": [
    "l.append(2) # list allows duplicates"
   ]
  },
  {
   "cell_type": "code",
   "execution_count": 22,
   "id": "ebff14d8-69ed-4303-bcc1-d62ab00d6e20",
   "metadata": {},
   "outputs": [
    {
     "data": {
      "text/plain": [
       "[2, 3, 4, 5, 2]"
      ]
     },
     "execution_count": 22,
     "metadata": {},
     "output_type": "execute_result"
    }
   ],
   "source": [
    "l"
   ]
  },
  {
   "cell_type": "code",
   "execution_count": 24,
   "id": "238b9c69-c412-4c20-a543-bec5320e15e2",
   "metadata": {},
   "outputs": [],
   "source": [
    "l.append(3)\n",
    "l.append(4)\n",
    "l.append(5)\n",
    "l.append(6)"
   ]
  },
  {
   "cell_type": "code",
   "execution_count": 26,
   "id": "c106e07e-91db-4aa9-815e-d07f4088c666",
   "metadata": {},
   "outputs": [
    {
     "data": {
      "text/plain": [
       "[2, 3, 4, 5, 2, 3, 4, 5, 6]"
      ]
     },
     "execution_count": 26,
     "metadata": {},
     "output_type": "execute_result"
    }
   ],
   "source": [
    "l"
   ]
  },
  {
   "cell_type": "code",
   "execution_count": 10,
   "id": "fa84dd65-a8b7-4ba4-8ad8-6d4ddbd79b9e",
   "metadata": {},
   "outputs": [],
   "source": [
    "l1 = []\n",
    "l1.append(2)\n",
    "l1.append(3.4)\n",
    "l1.append('5.4')\n",
    "l1.append('radhika')\n",
    "l1.append(1+4J)\n",
    "l1.append([2,4,5])"
   ]
  },
  {
   "cell_type": "code",
   "execution_count": 12,
   "id": "4af4a811-abf0-4f5f-ae42-b8a39d42a71e",
   "metadata": {},
   "outputs": [
    {
     "data": {
      "text/plain": [
       "[2, 3.4, '5.4', 'radhika', (1+4j), [2, 4, 5]]"
      ]
     },
     "execution_count": 12,
     "metadata": {},
     "output_type": "execute_result"
    }
   ],
   "source": [
    "l1"
   ]
  },
  {
   "cell_type": "code",
   "execution_count": 32,
   "id": "47dc46c2-fb75-4f9d-b8fa-17362cfa9f58",
   "metadata": {},
   "outputs": [],
   "source": [
    "l2 = l1.copy()"
   ]
  },
  {
   "cell_type": "code",
   "execution_count": 34,
   "id": "c33b37b7-de88-4bf4-bfb5-ee3c0461454b",
   "metadata": {},
   "outputs": [
    {
     "data": {
      "text/plain": [
       "[2, 3.4, '5.4', 'radhika', (1+4j), [2, 4, 5]]"
      ]
     },
     "execution_count": 34,
     "metadata": {},
     "output_type": "execute_result"
    }
   ],
   "source": [
    "l2"
   ]
  },
  {
   "cell_type": "code",
   "execution_count": 14,
   "id": "90480bdc-271e-49f9-a34c-ee37b2f03650",
   "metadata": {},
   "outputs": [
    {
     "data": {
      "text/plain": [
       "1"
      ]
     },
     "execution_count": 14,
     "metadata": {},
     "output_type": "execute_result"
    }
   ],
   "source": [
    "l1.count(2)"
   ]
  },
  {
   "cell_type": "code",
   "execution_count": 40,
   "id": "14373739-aa9e-42ef-a6e1-d96fac8c9507",
   "metadata": {},
   "outputs": [
    {
     "data": {
      "text/plain": [
       "2"
      ]
     },
     "execution_count": 40,
     "metadata": {},
     "output_type": "execute_result"
    }
   ],
   "source": [
    "l.count(2)"
   ]
  },
  {
   "cell_type": "code",
   "execution_count": 46,
   "id": "e3cbe5de-7c1c-428d-9412-0c44a7f5e499",
   "metadata": {},
   "outputs": [
    {
     "data": {
      "text/plain": [
       "[2, 3, 4, 5, 2, 3, 4, 5, 6]"
      ]
     },
     "execution_count": 46,
     "metadata": {},
     "output_type": "execute_result"
    }
   ],
   "source": [
    "l"
   ]
  },
  {
   "cell_type": "code",
   "execution_count": 34,
   "id": "4ab59a96-1c6b-4146-939d-3b98b55857d2",
   "metadata": {},
   "outputs": [
    {
     "data": {
      "text/plain": [
       "['apple', 'mango', 'banana', 'maruthi', 'honda', 'kia']"
      ]
     },
     "execution_count": 34,
     "metadata": {},
     "output_type": "execute_result"
    }
   ],
   "source": [
    "fruits = ['apple','mango','banana']\n",
    "cars = ['maruthi','honda','kia']\n",
    "fruits.extend(cars)\n",
    "fruits"
   ]
  },
  {
   "cell_type": "code",
   "execution_count": 24,
   "id": "9ea6f83e-ae25-4d6b-a502-ae925ba641ea",
   "metadata": {},
   "outputs": [
    {
     "data": {
      "text/plain": [
       "[2, 3.4, '5.4', 'radhika', (1+4j), [2, 4, 5]]"
      ]
     },
     "execution_count": 24,
     "metadata": {},
     "output_type": "execute_result"
    }
   ],
   "source": [
    "l3= []\n",
    "l3= l1.copy()\n",
    "l3"
   ]
  },
  {
   "cell_type": "code",
   "execution_count": 26,
   "id": "771ecc75-3020-4072-9d2d-a690749985db",
   "metadata": {},
   "outputs": [],
   "source": [
    "l3.clear()"
   ]
  },
  {
   "cell_type": "code",
   "execution_count": 28,
   "id": "683c0442-5bde-40c1-866a-9623242c272c",
   "metadata": {},
   "outputs": [
    {
     "data": {
      "text/plain": [
       "[]"
      ]
     },
     "execution_count": 28,
     "metadata": {},
     "output_type": "execute_result"
    }
   ],
   "source": [
    "l3"
   ]
  },
  {
   "cell_type": "code",
   "execution_count": 38,
   "id": "1d2a46c1-3e35-46c3-b659-fe5328f36810",
   "metadata": {},
   "outputs": [
    {
     "data": {
      "text/plain": [
       "2"
      ]
     },
     "execution_count": 38,
     "metadata": {},
     "output_type": "execute_result"
    }
   ],
   "source": [
    "x = fruits.index('banana')\n",
    "x"
   ]
  },
  {
   "cell_type": "code",
   "execution_count": 42,
   "id": "712428a0-9545-4306-9a05-a560a8a76f4b",
   "metadata": {},
   "outputs": [],
   "source": [
    "fruits.reverse()"
   ]
  },
  {
   "cell_type": "code",
   "execution_count": 44,
   "id": "26dd1951-f08e-447b-91c1-b1954a4e570f",
   "metadata": {},
   "outputs": [
    {
     "data": {
      "text/plain": [
       "['kia', 'honda', 'maruthi', 'banana', 'mango', 'apple']"
      ]
     },
     "execution_count": 44,
     "metadata": {},
     "output_type": "execute_result"
    }
   ],
   "source": [
    "fruits"
   ]
  },
  {
   "cell_type": "code",
   "execution_count": 46,
   "id": "0cc1f59b-c8aa-456c-b160-cee2e9f56353",
   "metadata": {},
   "outputs": [
    {
     "data": {
      "text/plain": [
       "['apple', 'mango', 'banana', 'maruthi', 'honda', 'kia']"
      ]
     },
     "execution_count": 46,
     "metadata": {},
     "output_type": "execute_result"
    }
   ],
   "source": [
    "fruits.reverse()\n",
    "fruits"
   ]
  },
  {
   "cell_type": "code",
   "execution_count": 52,
   "id": "66e16d0f-36ae-43cd-a9df-951f30bda4d2",
   "metadata": {},
   "outputs": [],
   "source": [
    "fruits.insert(0,5)"
   ]
  },
  {
   "cell_type": "code",
   "execution_count": 54,
   "id": "8dceadd0-931f-4b86-a0eb-c84a01a73189",
   "metadata": {},
   "outputs": [
    {
     "data": {
      "text/plain": [
       "[5, 'apple', 'mango', 'banana', 'maruthi', 'honda', 'kia']"
      ]
     },
     "execution_count": 54,
     "metadata": {},
     "output_type": "execute_result"
    }
   ],
   "source": [
    "fruits"
   ]
  },
  {
   "cell_type": "code",
   "execution_count": 56,
   "id": "ac33e5d7-13fb-44bb-9600-3f230bb2e747",
   "metadata": {},
   "outputs": [],
   "source": [
    "fruits.insert(2, 'cherry')"
   ]
  },
  {
   "cell_type": "code",
   "execution_count": 60,
   "id": "7995a28f-edcb-48f5-8ffa-88489e6fbdf9",
   "metadata": {},
   "outputs": [],
   "source": [
    "fruits.insert(8, 'cherry')"
   ]
  },
  {
   "cell_type": "code",
   "execution_count": 62,
   "id": "d4ffa00d-ba41-481c-8c2d-36ff6ee74594",
   "metadata": {},
   "outputs": [
    {
     "data": {
      "text/plain": [
       "[5, 'apple', 'cherry', 'mango', 'banana', 'maruthi', 'honda', 'kia', 'cherry']"
      ]
     },
     "execution_count": 62,
     "metadata": {},
     "output_type": "execute_result"
    }
   ],
   "source": [
    "fruits"
   ]
  },
  {
   "cell_type": "code",
   "execution_count": 64,
   "id": "81adfdb6-79a3-4269-9be3-a1aaaf7897eb",
   "metadata": {},
   "outputs": [
    {
     "data": {
      "text/plain": [
       "'cherry'"
      ]
     },
     "execution_count": 64,
     "metadata": {},
     "output_type": "execute_result"
    }
   ],
   "source": [
    "fruits.pop(2)"
   ]
  },
  {
   "cell_type": "code",
   "execution_count": 66,
   "id": "2c08ecaf-ad8c-48dd-8379-888454a51096",
   "metadata": {},
   "outputs": [
    {
     "data": {
      "text/plain": [
       "[5, 'apple', 'mango', 'banana', 'maruthi', 'honda', 'kia', 'cherry']"
      ]
     },
     "execution_count": 66,
     "metadata": {},
     "output_type": "execute_result"
    }
   ],
   "source": [
    "fruits"
   ]
  },
  {
   "cell_type": "code",
   "execution_count": null,
   "id": "668759cb-86ca-44c8-bba3-618940dbffef",
   "metadata": {},
   "outputs": [],
   "source": []
  }
 ],
 "metadata": {
  "kernelspec": {
   "display_name": "Python [conda env:base] *",
   "language": "python",
   "name": "conda-base-py"
  },
  "language_info": {
   "codemirror_mode": {
    "name": "ipython",
    "version": 3
   },
   "file_extension": ".py",
   "mimetype": "text/x-python",
   "name": "python",
   "nbconvert_exporter": "python",
   "pygments_lexer": "ipython3",
   "version": "3.12.7"
  }
 },
 "nbformat": 4,
 "nbformat_minor": 5
}
